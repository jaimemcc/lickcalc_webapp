{
 "cells": [
  {
   "cell_type": "code",
   "execution_count": 2,
   "id": "a723a9b0",
   "metadata": {},
   "outputs": [],
   "source": [
    "import pandas as pd\n",
    "import numpy as np\n",
    "import trompy as tp\n",
    "import plotly.express as px\n"
   ]
  },
  {
   "cell_type": "code",
   "execution_count": 3,
   "id": "b02ca7af",
   "metadata": {},
   "outputs": [],
   "source": [
    "file = \"D:\\\\Test Data\\\\medfiles\\\\!2017-07-28_07h43m.Subject pcf1.07\"\n",
    "licks = tp.medfilereader_licks(file)\n",
    "\n",
    "df = pd.DataFrame(licks[\"E\"])\n",
    "\n",
    "lickdata = tp.lickCalc(df[0].tolist())\n"
   ]
  },
  {
   "cell_type": "code",
   "execution_count": 29,
   "id": "b83a955f",
   "metadata": {},
   "outputs": [
    {
     "data": {
      "application/vnd.plotly.v1+json": {
       "config": {
        "plotlyServerURL": "https://plot.ly"
       },
       "data": [
        {
         "alignmentgroup": "True",
         "bingroup": "x",
         "hovertemplate": "variable=0<br>value=%{x}<br>count=%{y}<extra></extra>",
         "legendgroup": "0",
         "marker": {
          "color": "#636efa"
         },
         "name": "0",
         "offsetgroup": "0",
         "orientation": "v",
         "showlegend": true,
         "type": "histogram",
         "x": [
          51,
          9,
          29,
          10,
          8,
          2,
          1,
          6,
          7,
          18,
          9,
          2,
          3,
          6,
          2,
          57,
          39,
          90,
          68,
          14,
          3,
          5,
          5,
          7,
          1,
          3,
          7,
          5,
          17,
          8,
          16,
          13,
          5,
          3,
          1,
          8,
          1,
          7,
          5,
          13,
          7,
          4,
          1,
          5,
          1,
          4,
          8,
          9,
          3,
          1,
          1,
          12,
          2,
          7,
          13,
          9,
          2,
          10,
          5,
          1,
          3,
          116,
          58,
          1,
          2,
          72,
          37,
          23,
          6,
          2,
          11,
          4,
          2,
          6,
          36,
          2,
          17,
          15,
          92,
          52,
          1,
          1,
          16,
          4,
          1,
          1,
          2,
          2,
          7,
          45,
          4,
          4,
          7,
          12,
          5,
          17,
          1,
          5,
          26,
          6,
          1,
          1,
          1,
          10,
          3,
          4,
          1,
          5,
          4,
          21,
          2,
          4,
          3,
          7,
          2,
          6,
          2,
          8,
          1,
          14,
          8,
          1,
          5,
          15,
          67,
          34,
          30,
          15,
          6,
          10,
          27,
          19,
          6,
          16,
          6,
          1,
          5,
          4,
          7,
          7,
          12,
          45,
          3,
          10,
          9,
          30,
          12,
          2,
          12,
          9,
          8,
          3,
          3,
          4,
          10,
          8,
          106,
          112,
          66,
          1,
          35,
          14,
          17,
          4,
          6,
          3,
          8,
          1,
          46,
          1,
          5,
          11,
          7,
          14,
          15,
          7,
          3,
          27,
          14,
          3,
          3,
          6,
          4,
          1,
          7,
          2,
          3,
          5,
          6,
          11,
          8,
          51,
          25,
          10,
          11,
          3,
          24,
          20,
          62,
          17,
          12,
          12
         ],
         "xaxis": "x",
         "yaxis": "y"
        }
       ],
       "layout": {
        "annotations": [
         {
          "showarrow": false,
          "text": "13.8 mean licks per burst",
          "x": 0.9,
          "xref": "paper",
          "y": 0.9,
          "yref": "paper"
         }
        ],
        "barmode": "relative",
        "legend": {
         "title": {
          "text": "variable"
         },
         "tracegroupgap": 0
        },
        "margin": {
         "t": 60
        },
        "showlegend": false,
        "template": {
         "data": {
          "bar": [
           {
            "error_x": {
             "color": "#2a3f5f"
            },
            "error_y": {
             "color": "#2a3f5f"
            },
            "marker": {
             "line": {
              "color": "#E5ECF6",
              "width": 0.5
             }
            },
            "type": "bar"
           }
          ],
          "barpolar": [
           {
            "marker": {
             "line": {
              "color": "#E5ECF6",
              "width": 0.5
             }
            },
            "type": "barpolar"
           }
          ],
          "carpet": [
           {
            "aaxis": {
             "endlinecolor": "#2a3f5f",
             "gridcolor": "white",
             "linecolor": "white",
             "minorgridcolor": "white",
             "startlinecolor": "#2a3f5f"
            },
            "baxis": {
             "endlinecolor": "#2a3f5f",
             "gridcolor": "white",
             "linecolor": "white",
             "minorgridcolor": "white",
             "startlinecolor": "#2a3f5f"
            },
            "type": "carpet"
           }
          ],
          "choropleth": [
           {
            "colorbar": {
             "outlinewidth": 0,
             "ticks": ""
            },
            "type": "choropleth"
           }
          ],
          "contour": [
           {
            "colorbar": {
             "outlinewidth": 0,
             "ticks": ""
            },
            "colorscale": [
             [
              0,
              "#0d0887"
             ],
             [
              0.1111111111111111,
              "#46039f"
             ],
             [
              0.2222222222222222,
              "#7201a8"
             ],
             [
              0.3333333333333333,
              "#9c179e"
             ],
             [
              0.4444444444444444,
              "#bd3786"
             ],
             [
              0.5555555555555556,
              "#d8576b"
             ],
             [
              0.6666666666666666,
              "#ed7953"
             ],
             [
              0.7777777777777778,
              "#fb9f3a"
             ],
             [
              0.8888888888888888,
              "#fdca26"
             ],
             [
              1,
              "#f0f921"
             ]
            ],
            "type": "contour"
           }
          ],
          "contourcarpet": [
           {
            "colorbar": {
             "outlinewidth": 0,
             "ticks": ""
            },
            "type": "contourcarpet"
           }
          ],
          "heatmap": [
           {
            "colorbar": {
             "outlinewidth": 0,
             "ticks": ""
            },
            "colorscale": [
             [
              0,
              "#0d0887"
             ],
             [
              0.1111111111111111,
              "#46039f"
             ],
             [
              0.2222222222222222,
              "#7201a8"
             ],
             [
              0.3333333333333333,
              "#9c179e"
             ],
             [
              0.4444444444444444,
              "#bd3786"
             ],
             [
              0.5555555555555556,
              "#d8576b"
             ],
             [
              0.6666666666666666,
              "#ed7953"
             ],
             [
              0.7777777777777778,
              "#fb9f3a"
             ],
             [
              0.8888888888888888,
              "#fdca26"
             ],
             [
              1,
              "#f0f921"
             ]
            ],
            "type": "heatmap"
           }
          ],
          "heatmapgl": [
           {
            "colorbar": {
             "outlinewidth": 0,
             "ticks": ""
            },
            "colorscale": [
             [
              0,
              "#0d0887"
             ],
             [
              0.1111111111111111,
              "#46039f"
             ],
             [
              0.2222222222222222,
              "#7201a8"
             ],
             [
              0.3333333333333333,
              "#9c179e"
             ],
             [
              0.4444444444444444,
              "#bd3786"
             ],
             [
              0.5555555555555556,
              "#d8576b"
             ],
             [
              0.6666666666666666,
              "#ed7953"
             ],
             [
              0.7777777777777778,
              "#fb9f3a"
             ],
             [
              0.8888888888888888,
              "#fdca26"
             ],
             [
              1,
              "#f0f921"
             ]
            ],
            "type": "heatmapgl"
           }
          ],
          "histogram": [
           {
            "marker": {
             "colorbar": {
              "outlinewidth": 0,
              "ticks": ""
             }
            },
            "type": "histogram"
           }
          ],
          "histogram2d": [
           {
            "colorbar": {
             "outlinewidth": 0,
             "ticks": ""
            },
            "colorscale": [
             [
              0,
              "#0d0887"
             ],
             [
              0.1111111111111111,
              "#46039f"
             ],
             [
              0.2222222222222222,
              "#7201a8"
             ],
             [
              0.3333333333333333,
              "#9c179e"
             ],
             [
              0.4444444444444444,
              "#bd3786"
             ],
             [
              0.5555555555555556,
              "#d8576b"
             ],
             [
              0.6666666666666666,
              "#ed7953"
             ],
             [
              0.7777777777777778,
              "#fb9f3a"
             ],
             [
              0.8888888888888888,
              "#fdca26"
             ],
             [
              1,
              "#f0f921"
             ]
            ],
            "type": "histogram2d"
           }
          ],
          "histogram2dcontour": [
           {
            "colorbar": {
             "outlinewidth": 0,
             "ticks": ""
            },
            "colorscale": [
             [
              0,
              "#0d0887"
             ],
             [
              0.1111111111111111,
              "#46039f"
             ],
             [
              0.2222222222222222,
              "#7201a8"
             ],
             [
              0.3333333333333333,
              "#9c179e"
             ],
             [
              0.4444444444444444,
              "#bd3786"
             ],
             [
              0.5555555555555556,
              "#d8576b"
             ],
             [
              0.6666666666666666,
              "#ed7953"
             ],
             [
              0.7777777777777778,
              "#fb9f3a"
             ],
             [
              0.8888888888888888,
              "#fdca26"
             ],
             [
              1,
              "#f0f921"
             ]
            ],
            "type": "histogram2dcontour"
           }
          ],
          "mesh3d": [
           {
            "colorbar": {
             "outlinewidth": 0,
             "ticks": ""
            },
            "type": "mesh3d"
           }
          ],
          "parcoords": [
           {
            "line": {
             "colorbar": {
              "outlinewidth": 0,
              "ticks": ""
             }
            },
            "type": "parcoords"
           }
          ],
          "pie": [
           {
            "automargin": true,
            "type": "pie"
           }
          ],
          "scatter": [
           {
            "marker": {
             "colorbar": {
              "outlinewidth": 0,
              "ticks": ""
             }
            },
            "type": "scatter"
           }
          ],
          "scatter3d": [
           {
            "line": {
             "colorbar": {
              "outlinewidth": 0,
              "ticks": ""
             }
            },
            "marker": {
             "colorbar": {
              "outlinewidth": 0,
              "ticks": ""
             }
            },
            "type": "scatter3d"
           }
          ],
          "scattercarpet": [
           {
            "marker": {
             "colorbar": {
              "outlinewidth": 0,
              "ticks": ""
             }
            },
            "type": "scattercarpet"
           }
          ],
          "scattergeo": [
           {
            "marker": {
             "colorbar": {
              "outlinewidth": 0,
              "ticks": ""
             }
            },
            "type": "scattergeo"
           }
          ],
          "scattergl": [
           {
            "marker": {
             "colorbar": {
              "outlinewidth": 0,
              "ticks": ""
             }
            },
            "type": "scattergl"
           }
          ],
          "scattermapbox": [
           {
            "marker": {
             "colorbar": {
              "outlinewidth": 0,
              "ticks": ""
             }
            },
            "type": "scattermapbox"
           }
          ],
          "scatterpolar": [
           {
            "marker": {
             "colorbar": {
              "outlinewidth": 0,
              "ticks": ""
             }
            },
            "type": "scatterpolar"
           }
          ],
          "scatterpolargl": [
           {
            "marker": {
             "colorbar": {
              "outlinewidth": 0,
              "ticks": ""
             }
            },
            "type": "scatterpolargl"
           }
          ],
          "scatterternary": [
           {
            "marker": {
             "colorbar": {
              "outlinewidth": 0,
              "ticks": ""
             }
            },
            "type": "scatterternary"
           }
          ],
          "surface": [
           {
            "colorbar": {
             "outlinewidth": 0,
             "ticks": ""
            },
            "colorscale": [
             [
              0,
              "#0d0887"
             ],
             [
              0.1111111111111111,
              "#46039f"
             ],
             [
              0.2222222222222222,
              "#7201a8"
             ],
             [
              0.3333333333333333,
              "#9c179e"
             ],
             [
              0.4444444444444444,
              "#bd3786"
             ],
             [
              0.5555555555555556,
              "#d8576b"
             ],
             [
              0.6666666666666666,
              "#ed7953"
             ],
             [
              0.7777777777777778,
              "#fb9f3a"
             ],
             [
              0.8888888888888888,
              "#fdca26"
             ],
             [
              1,
              "#f0f921"
             ]
            ],
            "type": "surface"
           }
          ],
          "table": [
           {
            "cells": {
             "fill": {
              "color": "#EBF0F8"
             },
             "line": {
              "color": "white"
             }
            },
            "header": {
             "fill": {
              "color": "#C8D4E3"
             },
             "line": {
              "color": "white"
             }
            },
            "type": "table"
           }
          ]
         },
         "layout": {
          "annotationdefaults": {
           "arrowcolor": "#2a3f5f",
           "arrowhead": 0,
           "arrowwidth": 1
          },
          "autotypenumbers": "strict",
          "coloraxis": {
           "colorbar": {
            "outlinewidth": 0,
            "ticks": ""
           }
          },
          "colorscale": {
           "diverging": [
            [
             0,
             "#8e0152"
            ],
            [
             0.1,
             "#c51b7d"
            ],
            [
             0.2,
             "#de77ae"
            ],
            [
             0.3,
             "#f1b6da"
            ],
            [
             0.4,
             "#fde0ef"
            ],
            [
             0.5,
             "#f7f7f7"
            ],
            [
             0.6,
             "#e6f5d0"
            ],
            [
             0.7,
             "#b8e186"
            ],
            [
             0.8,
             "#7fbc41"
            ],
            [
             0.9,
             "#4d9221"
            ],
            [
             1,
             "#276419"
            ]
           ],
           "sequential": [
            [
             0,
             "#0d0887"
            ],
            [
             0.1111111111111111,
             "#46039f"
            ],
            [
             0.2222222222222222,
             "#7201a8"
            ],
            [
             0.3333333333333333,
             "#9c179e"
            ],
            [
             0.4444444444444444,
             "#bd3786"
            ],
            [
             0.5555555555555556,
             "#d8576b"
            ],
            [
             0.6666666666666666,
             "#ed7953"
            ],
            [
             0.7777777777777778,
             "#fb9f3a"
            ],
            [
             0.8888888888888888,
             "#fdca26"
            ],
            [
             1,
             "#f0f921"
            ]
           ],
           "sequentialminus": [
            [
             0,
             "#0d0887"
            ],
            [
             0.1111111111111111,
             "#46039f"
            ],
            [
             0.2222222222222222,
             "#7201a8"
            ],
            [
             0.3333333333333333,
             "#9c179e"
            ],
            [
             0.4444444444444444,
             "#bd3786"
            ],
            [
             0.5555555555555556,
             "#d8576b"
            ],
            [
             0.6666666666666666,
             "#ed7953"
            ],
            [
             0.7777777777777778,
             "#fb9f3a"
            ],
            [
             0.8888888888888888,
             "#fdca26"
            ],
            [
             1,
             "#f0f921"
            ]
           ]
          },
          "colorway": [
           "#636efa",
           "#EF553B",
           "#00cc96",
           "#ab63fa",
           "#FFA15A",
           "#19d3f3",
           "#FF6692",
           "#B6E880",
           "#FF97FF",
           "#FECB52"
          ],
          "font": {
           "color": "#2a3f5f"
          },
          "geo": {
           "bgcolor": "white",
           "lakecolor": "white",
           "landcolor": "#E5ECF6",
           "showlakes": true,
           "showland": true,
           "subunitcolor": "white"
          },
          "hoverlabel": {
           "align": "left"
          },
          "hovermode": "closest",
          "mapbox": {
           "style": "light"
          },
          "paper_bgcolor": "white",
          "plot_bgcolor": "#E5ECF6",
          "polar": {
           "angularaxis": {
            "gridcolor": "white",
            "linecolor": "white",
            "ticks": ""
           },
           "bgcolor": "#E5ECF6",
           "radialaxis": {
            "gridcolor": "white",
            "linecolor": "white",
            "ticks": ""
           }
          },
          "scene": {
           "xaxis": {
            "backgroundcolor": "#E5ECF6",
            "gridcolor": "white",
            "gridwidth": 2,
            "linecolor": "white",
            "showbackground": true,
            "ticks": "",
            "zerolinecolor": "white"
           },
           "yaxis": {
            "backgroundcolor": "#E5ECF6",
            "gridcolor": "white",
            "gridwidth": 2,
            "linecolor": "white",
            "showbackground": true,
            "ticks": "",
            "zerolinecolor": "white"
           },
           "zaxis": {
            "backgroundcolor": "#E5ECF6",
            "gridcolor": "white",
            "gridwidth": 2,
            "linecolor": "white",
            "showbackground": true,
            "ticks": "",
            "zerolinecolor": "white"
           }
          },
          "shapedefaults": {
           "line": {
            "color": "#2a3f5f"
           }
          },
          "ternary": {
           "aaxis": {
            "gridcolor": "white",
            "linecolor": "white",
            "ticks": ""
           },
           "baxis": {
            "gridcolor": "white",
            "linecolor": "white",
            "ticks": ""
           },
           "bgcolor": "#E5ECF6",
           "caxis": {
            "gridcolor": "white",
            "linecolor": "white",
            "ticks": ""
           }
          },
          "title": {
           "x": 0.05
          },
          "xaxis": {
           "automargin": true,
           "gridcolor": "white",
           "linecolor": "white",
           "ticks": "",
           "title": {
            "standoff": 15
           },
           "zerolinecolor": "white",
           "zerolinewidth": 2
          },
          "yaxis": {
           "automargin": true,
           "gridcolor": "white",
           "linecolor": "white",
           "ticks": "",
           "title": {
            "standoff": 15
           },
           "zerolinecolor": "white",
           "zerolinewidth": 2
          }
         }
        },
        "title": {
         "text": "Burst size frequency"
        },
        "xaxis": {
         "anchor": "y",
         "domain": [
          0,
          1
         ],
         "title": {
          "text": "Licks per burst"
         }
        },
        "yaxis": {
         "anchor": "x",
         "domain": [
          0,
          1
         ],
         "title": {
          "text": "Frequency"
         }
        }
       }
      },
      "text/html": [
       "<div>                            <div id=\"1eb63bf4-6217-4fe8-ab27-4ea9443b3574\" class=\"plotly-graph-div\" style=\"height:525px; width:100%;\"></div>            <script type=\"text/javascript\">                require([\"plotly\"], function(Plotly) {                    window.PLOTLYENV=window.PLOTLYENV || {};                                    if (document.getElementById(\"1eb63bf4-6217-4fe8-ab27-4ea9443b3574\")) {                    Plotly.newPlot(                        \"1eb63bf4-6217-4fe8-ab27-4ea9443b3574\",                        [{\"alignmentgroup\": \"True\", \"bingroup\": \"x\", \"hovertemplate\": \"variable=0<br>value=%{x}<br>count=%{y}<extra></extra>\", \"legendgroup\": \"0\", \"marker\": {\"color\": \"#636efa\"}, \"name\": \"0\", \"offsetgroup\": \"0\", \"orientation\": \"v\", \"showlegend\": true, \"type\": \"histogram\", \"x\": [51, 9, 29, 10, 8, 2, 1, 6, 7, 18, 9, 2, 3, 6, 2, 57, 39, 90, 68, 14, 3, 5, 5, 7, 1, 3, 7, 5, 17, 8, 16, 13, 5, 3, 1, 8, 1, 7, 5, 13, 7, 4, 1, 5, 1, 4, 8, 9, 3, 1, 1, 12, 2, 7, 13, 9, 2, 10, 5, 1, 3, 116, 58, 1, 2, 72, 37, 23, 6, 2, 11, 4, 2, 6, 36, 2, 17, 15, 92, 52, 1, 1, 16, 4, 1, 1, 2, 2, 7, 45, 4, 4, 7, 12, 5, 17, 1, 5, 26, 6, 1, 1, 1, 10, 3, 4, 1, 5, 4, 21, 2, 4, 3, 7, 2, 6, 2, 8, 1, 14, 8, 1, 5, 15, 67, 34, 30, 15, 6, 10, 27, 19, 6, 16, 6, 1, 5, 4, 7, 7, 12, 45, 3, 10, 9, 30, 12, 2, 12, 9, 8, 3, 3, 4, 10, 8, 106, 112, 66, 1, 35, 14, 17, 4, 6, 3, 8, 1, 46, 1, 5, 11, 7, 14, 15, 7, 3, 27, 14, 3, 3, 6, 4, 1, 7, 2, 3, 5, 6, 11, 8, 51, 25, 10, 11, 3, 24, 20, 62, 17, 12, 12], \"xaxis\": \"x\", \"yaxis\": \"y\"}],                        {\"annotations\": [{\"showarrow\": false, \"text\": \"13.8 mean licks per burst\", \"x\": 0.9, \"xref\": \"paper\", \"y\": 0.9, \"yref\": \"paper\"}], \"barmode\": \"relative\", \"legend\": {\"title\": {\"text\": \"variable\"}, \"tracegroupgap\": 0}, \"margin\": {\"t\": 60}, \"showlegend\": false, \"template\": {\"data\": {\"bar\": [{\"error_x\": {\"color\": \"#2a3f5f\"}, \"error_y\": {\"color\": \"#2a3f5f\"}, \"marker\": {\"line\": {\"color\": \"#E5ECF6\", \"width\": 0.5}}, \"type\": \"bar\"}], \"barpolar\": [{\"marker\": {\"line\": {\"color\": \"#E5ECF6\", \"width\": 0.5}}, \"type\": \"barpolar\"}], \"carpet\": [{\"aaxis\": {\"endlinecolor\": \"#2a3f5f\", \"gridcolor\": \"white\", \"linecolor\": \"white\", \"minorgridcolor\": \"white\", \"startlinecolor\": \"#2a3f5f\"}, \"baxis\": {\"endlinecolor\": \"#2a3f5f\", \"gridcolor\": \"white\", \"linecolor\": \"white\", \"minorgridcolor\": \"white\", \"startlinecolor\": \"#2a3f5f\"}, \"type\": \"carpet\"}], \"choropleth\": [{\"colorbar\": {\"outlinewidth\": 0, \"ticks\": \"\"}, \"type\": \"choropleth\"}], \"contour\": [{\"colorbar\": {\"outlinewidth\": 0, \"ticks\": \"\"}, \"colorscale\": [[0.0, \"#0d0887\"], [0.1111111111111111, \"#46039f\"], [0.2222222222222222, \"#7201a8\"], [0.3333333333333333, \"#9c179e\"], [0.4444444444444444, \"#bd3786\"], [0.5555555555555556, \"#d8576b\"], [0.6666666666666666, \"#ed7953\"], [0.7777777777777778, \"#fb9f3a\"], [0.8888888888888888, \"#fdca26\"], [1.0, \"#f0f921\"]], \"type\": \"contour\"}], \"contourcarpet\": [{\"colorbar\": {\"outlinewidth\": 0, \"ticks\": \"\"}, \"type\": \"contourcarpet\"}], \"heatmap\": [{\"colorbar\": {\"outlinewidth\": 0, \"ticks\": \"\"}, \"colorscale\": [[0.0, \"#0d0887\"], [0.1111111111111111, \"#46039f\"], [0.2222222222222222, \"#7201a8\"], [0.3333333333333333, \"#9c179e\"], [0.4444444444444444, \"#bd3786\"], [0.5555555555555556, \"#d8576b\"], [0.6666666666666666, \"#ed7953\"], [0.7777777777777778, \"#fb9f3a\"], [0.8888888888888888, \"#fdca26\"], [1.0, \"#f0f921\"]], \"type\": \"heatmap\"}], \"heatmapgl\": [{\"colorbar\": {\"outlinewidth\": 0, \"ticks\": \"\"}, \"colorscale\": [[0.0, \"#0d0887\"], [0.1111111111111111, \"#46039f\"], [0.2222222222222222, \"#7201a8\"], [0.3333333333333333, \"#9c179e\"], [0.4444444444444444, \"#bd3786\"], [0.5555555555555556, \"#d8576b\"], [0.6666666666666666, \"#ed7953\"], [0.7777777777777778, \"#fb9f3a\"], [0.8888888888888888, \"#fdca26\"], [1.0, \"#f0f921\"]], \"type\": \"heatmapgl\"}], \"histogram\": [{\"marker\": {\"colorbar\": {\"outlinewidth\": 0, \"ticks\": \"\"}}, \"type\": \"histogram\"}], \"histogram2d\": [{\"colorbar\": {\"outlinewidth\": 0, \"ticks\": \"\"}, \"colorscale\": [[0.0, \"#0d0887\"], [0.1111111111111111, \"#46039f\"], [0.2222222222222222, \"#7201a8\"], [0.3333333333333333, \"#9c179e\"], [0.4444444444444444, \"#bd3786\"], [0.5555555555555556, \"#d8576b\"], [0.6666666666666666, \"#ed7953\"], [0.7777777777777778, \"#fb9f3a\"], [0.8888888888888888, \"#fdca26\"], [1.0, \"#f0f921\"]], \"type\": \"histogram2d\"}], \"histogram2dcontour\": [{\"colorbar\": {\"outlinewidth\": 0, \"ticks\": \"\"}, \"colorscale\": [[0.0, \"#0d0887\"], [0.1111111111111111, \"#46039f\"], [0.2222222222222222, \"#7201a8\"], [0.3333333333333333, \"#9c179e\"], [0.4444444444444444, \"#bd3786\"], [0.5555555555555556, \"#d8576b\"], [0.6666666666666666, \"#ed7953\"], [0.7777777777777778, \"#fb9f3a\"], [0.8888888888888888, \"#fdca26\"], [1.0, \"#f0f921\"]], \"type\": \"histogram2dcontour\"}], \"mesh3d\": [{\"colorbar\": {\"outlinewidth\": 0, \"ticks\": \"\"}, \"type\": \"mesh3d\"}], \"parcoords\": [{\"line\": {\"colorbar\": {\"outlinewidth\": 0, \"ticks\": \"\"}}, \"type\": \"parcoords\"}], \"pie\": [{\"automargin\": true, \"type\": \"pie\"}], \"scatter\": [{\"marker\": {\"colorbar\": {\"outlinewidth\": 0, \"ticks\": \"\"}}, \"type\": \"scatter\"}], \"scatter3d\": [{\"line\": {\"colorbar\": {\"outlinewidth\": 0, \"ticks\": \"\"}}, \"marker\": {\"colorbar\": {\"outlinewidth\": 0, \"ticks\": \"\"}}, \"type\": \"scatter3d\"}], \"scattercarpet\": [{\"marker\": {\"colorbar\": {\"outlinewidth\": 0, \"ticks\": \"\"}}, \"type\": \"scattercarpet\"}], \"scattergeo\": [{\"marker\": {\"colorbar\": {\"outlinewidth\": 0, \"ticks\": \"\"}}, \"type\": \"scattergeo\"}], \"scattergl\": [{\"marker\": {\"colorbar\": {\"outlinewidth\": 0, \"ticks\": \"\"}}, \"type\": \"scattergl\"}], \"scattermapbox\": [{\"marker\": {\"colorbar\": {\"outlinewidth\": 0, \"ticks\": \"\"}}, \"type\": \"scattermapbox\"}], \"scatterpolar\": [{\"marker\": {\"colorbar\": {\"outlinewidth\": 0, \"ticks\": \"\"}}, \"type\": \"scatterpolar\"}], \"scatterpolargl\": [{\"marker\": {\"colorbar\": {\"outlinewidth\": 0, \"ticks\": \"\"}}, \"type\": \"scatterpolargl\"}], \"scatterternary\": [{\"marker\": {\"colorbar\": {\"outlinewidth\": 0, \"ticks\": \"\"}}, \"type\": \"scatterternary\"}], \"surface\": [{\"colorbar\": {\"outlinewidth\": 0, \"ticks\": \"\"}, \"colorscale\": [[0.0, \"#0d0887\"], [0.1111111111111111, \"#46039f\"], [0.2222222222222222, \"#7201a8\"], [0.3333333333333333, \"#9c179e\"], [0.4444444444444444, \"#bd3786\"], [0.5555555555555556, \"#d8576b\"], [0.6666666666666666, \"#ed7953\"], [0.7777777777777778, \"#fb9f3a\"], [0.8888888888888888, \"#fdca26\"], [1.0, \"#f0f921\"]], \"type\": \"surface\"}], \"table\": [{\"cells\": {\"fill\": {\"color\": \"#EBF0F8\"}, \"line\": {\"color\": \"white\"}}, \"header\": {\"fill\": {\"color\": \"#C8D4E3\"}, \"line\": {\"color\": \"white\"}}, \"type\": \"table\"}]}, \"layout\": {\"annotationdefaults\": {\"arrowcolor\": \"#2a3f5f\", \"arrowhead\": 0, \"arrowwidth\": 1}, \"autotypenumbers\": \"strict\", \"coloraxis\": {\"colorbar\": {\"outlinewidth\": 0, \"ticks\": \"\"}}, \"colorscale\": {\"diverging\": [[0, \"#8e0152\"], [0.1, \"#c51b7d\"], [0.2, \"#de77ae\"], [0.3, \"#f1b6da\"], [0.4, \"#fde0ef\"], [0.5, \"#f7f7f7\"], [0.6, \"#e6f5d0\"], [0.7, \"#b8e186\"], [0.8, \"#7fbc41\"], [0.9, \"#4d9221\"], [1, \"#276419\"]], \"sequential\": [[0.0, \"#0d0887\"], [0.1111111111111111, \"#46039f\"], [0.2222222222222222, \"#7201a8\"], [0.3333333333333333, \"#9c179e\"], [0.4444444444444444, \"#bd3786\"], [0.5555555555555556, \"#d8576b\"], [0.6666666666666666, \"#ed7953\"], [0.7777777777777778, \"#fb9f3a\"], [0.8888888888888888, \"#fdca26\"], [1.0, \"#f0f921\"]], \"sequentialminus\": [[0.0, \"#0d0887\"], [0.1111111111111111, \"#46039f\"], [0.2222222222222222, \"#7201a8\"], [0.3333333333333333, \"#9c179e\"], [0.4444444444444444, \"#bd3786\"], [0.5555555555555556, \"#d8576b\"], [0.6666666666666666, \"#ed7953\"], [0.7777777777777778, \"#fb9f3a\"], [0.8888888888888888, \"#fdca26\"], [1.0, \"#f0f921\"]]}, \"colorway\": [\"#636efa\", \"#EF553B\", \"#00cc96\", \"#ab63fa\", \"#FFA15A\", \"#19d3f3\", \"#FF6692\", \"#B6E880\", \"#FF97FF\", \"#FECB52\"], \"font\": {\"color\": \"#2a3f5f\"}, \"geo\": {\"bgcolor\": \"white\", \"lakecolor\": \"white\", \"landcolor\": \"#E5ECF6\", \"showlakes\": true, \"showland\": true, \"subunitcolor\": \"white\"}, \"hoverlabel\": {\"align\": \"left\"}, \"hovermode\": \"closest\", \"mapbox\": {\"style\": \"light\"}, \"paper_bgcolor\": \"white\", \"plot_bgcolor\": \"#E5ECF6\", \"polar\": {\"angularaxis\": {\"gridcolor\": \"white\", \"linecolor\": \"white\", \"ticks\": \"\"}, \"bgcolor\": \"#E5ECF6\", \"radialaxis\": {\"gridcolor\": \"white\", \"linecolor\": \"white\", \"ticks\": \"\"}}, \"scene\": {\"xaxis\": {\"backgroundcolor\": \"#E5ECF6\", \"gridcolor\": \"white\", \"gridwidth\": 2, \"linecolor\": \"white\", \"showbackground\": true, \"ticks\": \"\", \"zerolinecolor\": \"white\"}, \"yaxis\": {\"backgroundcolor\": \"#E5ECF6\", \"gridcolor\": \"white\", \"gridwidth\": 2, \"linecolor\": \"white\", \"showbackground\": true, \"ticks\": \"\", \"zerolinecolor\": \"white\"}, \"zaxis\": {\"backgroundcolor\": \"#E5ECF6\", \"gridcolor\": \"white\", \"gridwidth\": 2, \"linecolor\": \"white\", \"showbackground\": true, \"ticks\": \"\", \"zerolinecolor\": \"white\"}}, \"shapedefaults\": {\"line\": {\"color\": \"#2a3f5f\"}}, \"ternary\": {\"aaxis\": {\"gridcolor\": \"white\", \"linecolor\": \"white\", \"ticks\": \"\"}, \"baxis\": {\"gridcolor\": \"white\", \"linecolor\": \"white\", \"ticks\": \"\"}, \"bgcolor\": \"#E5ECF6\", \"caxis\": {\"gridcolor\": \"white\", \"linecolor\": \"white\", \"ticks\": \"\"}}, \"title\": {\"x\": 0.05}, \"xaxis\": {\"automargin\": true, \"gridcolor\": \"white\", \"linecolor\": \"white\", \"ticks\": \"\", \"title\": {\"standoff\": 15}, \"zerolinecolor\": \"white\", \"zerolinewidth\": 2}, \"yaxis\": {\"automargin\": true, \"gridcolor\": \"white\", \"linecolor\": \"white\", \"ticks\": \"\", \"title\": {\"standoff\": 15}, \"zerolinecolor\": \"white\", \"zerolinewidth\": 2}}}, \"title\": {\"text\": \"Burst size frequency\"}, \"xaxis\": {\"anchor\": \"y\", \"domain\": [0.0, 1.0], \"title\": {\"text\": \"Licks per burst\"}}, \"yaxis\": {\"anchor\": \"x\", \"domain\": [0.0, 1.0], \"title\": {\"text\": \"Frequency\"}}},                        {\"responsive\": true}                    ).then(function(){\n",
       "                            \n",
       "var gd = document.getElementById('1eb63bf4-6217-4fe8-ab27-4ea9443b3574');\n",
       "var x = new MutationObserver(function (mutations, observer) {{\n",
       "        var display = window.getComputedStyle(gd).display;\n",
       "        if (!display || display === 'none') {{\n",
       "            console.log([gd, 'removed!']);\n",
       "            Plotly.purge(gd);\n",
       "            observer.disconnect();\n",
       "        }}\n",
       "}});\n",
       "\n",
       "// Listen for the removal of the full notebook cells\n",
       "var notebookContainer = gd.closest('#notebook-container');\n",
       "if (notebookContainer) {{\n",
       "    x.observe(notebookContainer, {childList: true});\n",
       "}}\n",
       "\n",
       "// Listen for the clearing of the current output cell\n",
       "var outputEl = gd.closest('.output');\n",
       "if (outputEl) {{\n",
       "    x.observe(outputEl, {childList: true});\n",
       "}}\n",
       "\n",
       "                        })                };                });            </script>        </div>"
      ]
     },
     "metadata": {},
     "output_type": "display_data"
    }
   ],
   "source": [
    "\n",
    "fig = px.histogram(lickdata[\"bLicks\"])\n",
    "\n",
    "fig.update_layout(\n",
    "    title=\"Burst size frequency\",\n",
    "    xaxis_title=\"Licks per burst\",\n",
    "    yaxis_title=\"Frequency\",\n",
    "    showlegend=False)\n",
    "\n",
    "figlabel = '%.1f mean licks per burst' % lickdata['bMean']\n",
    "fig.add_annotation(text=figlabel,\n",
    "                   xref=\"paper\", yref=\"paper\",\n",
    "                  x=0.9, y=0.9, \n",
    "                  showarrow=False)\n",
    "\n",
    "fig.show()"
   ]
  },
  {
   "cell_type": "code",
   "execution_count": 24,
   "id": "a010711d",
   "metadata": {},
   "outputs": [
    {
     "data": {
      "application/vnd.plotly.v1+json": {
       "config": {
        "plotlyServerURL": "https://plot.ly"
       },
       "data": [
        {
         "alignmentgroup": "True",
         "bingroup": "x",
         "hovertemplate": "variable=0<br>value=%{x}<br>count=%{y}<extra></extra>",
         "legendgroup": "0",
         "marker": {
          "color": "#636efa"
         },
         "name": "0",
         "nbinsx": 50,
         "offsetgroup": "0",
         "orientation": "v",
         "showlegend": true,
         "type": "histogram",
         "x": [
          0.07000000000000028,
          0.1379999999999999,
          0.14999999999999858,
          0.14800000000000146,
          0.14699999999999847,
          0.14500000000000135,
          0.14400000000000013,
          0.14700000000000024,
          0.1659999999999986,
          0.13900000000000112,
          0.14400000000000013,
          0.1429999999999989,
          0.1490000000000009,
          0.1509999999999998,
          0.14199999999999946,
          0.14700000000000024,
          0.16499999999999915,
          0.14400000000000013,
          0.14200000000000124,
          0.14599999999999902,
          0.15399999999999991,
          0.1509999999999998,
          0.16800000000000104,
          0.15000000000000036,
          0.14999999999999858,
          0.15100000000000158,
          0.15199999999999925,
          0.15500000000000114,
          0.15899999999999892,
          0.14699999999999847,
          0.17300000000000182,
          0.15499999999999758,
          0.1440000000000019,
          0.15199999999999747,
          0.16000000000000014,
          0.277000000000001,
          0.16199999999999903,
          0.1410000000000018,
          0.1509999999999998,
          0.16199999999999903,
          0.1490000000000009,
          0.16399999999999793,
          0.1670000000000016,
          0.15399999999999991,
          0.1559999999999988,
          0.16199999999999903,
          0.15700000000000003,
          0.16600000000000037,
          0.16000000000000014,
          0.16499999999999915,
          0.17099999999999937,
          0.17900000000000205,
          0.1839999999999975,
          0.15600000000000236,
          0.14999999999999858,
          0.15700000000000003,
          0.16900000000000048,
          0.15399999999999991,
          0.14700000000000202,
          0.15199999999999747,
          0.16000000000000014,
          0.15900000000000247,
          0.1609999999999978,
          0.14700000000000202,
          0.30799999999999983,
          0.14699999999999847,
          0.16100000000000136,
          0.14299999999999713,
          0.1509999999999998,
          0.16000000000000014,
          0.16100000000000136,
          0.1579999999999977,
          0.15600000000000236,
          0.14999999999999858,
          0.15899999999999892,
          0.16600000000000037,
          0.17099999999999937,
          0.1479999999999997,
          0.15300000000000225,
          0.15499999999999758,
          0.16000000000000014,
          0.1720000000000006,
          0.14999999999999858,
          0.15700000000000003,
          0.15800000000000125,
          0.16499999999999915,
          0.15499999999999758,
          0.125,
          0.1720000000000006,
          0.18100000000000094,
          0.14599999999999724,
          0.15800000000000125,
          0.15399999999999991,
          0.16100000000000136,
          0.14799999999999613,
          0.20199999999999818,
          0.2710000000000008,
          0.1629999999999967,
          0.142000000000003,
          0.14300000000000068,
          0.15899999999999892,
          0.18599999999999994,
          0.17199999999999704,
          0.14300000000000068,
          0.12399999999999523,
          0.13700000000000045,
          0.14500000000000313,
          0.14300000000000068,
          0.05799999999999983,
          0.11299999999999955,
          0.1490000000000009,
          0.1559999999999988,
          0.15200000000000102,
          0.16100000000000136,
          0.1460000000000008,
          0.14799999999999613,
          0.15400000000000347,
          0.13000000000000256,
          0.15899999999999892,
          0.15899999999999892,
          0.15099999999999625,
          0.1670000000000016,
          0.1529999999999987,
          0.14300000000000068,
          0.17200000000000415,
          0.14999999999999858,
          0.16899999999999693,
          0.16100000000000136,
          0.17099999999999937,
          0.13800000000000523,
          0.16499999999999915,
          0.134999999999998,
          0.13700000000000045,
          0.14500000000000313,
          0.15899999999999892,
          0.14499999999999602,
          0.15400000000000347,
          0.1529999999999987,
          0.1600000000000037,
          0.1490000000000009,
          0.09499999999999886,
          0.13700000000000045,
          0.08499999999999375,
          0.1360000000000099,
          0.13400000000000034,
          0.1559999999999917,
          0.15000000000000568,
          0.11299999999999955,
          0.12300000000000466,
          0.13299999999999557,
          0.15400000000001057,
          0.1460000000000008,
          0.14999999999999147,
          0.14400000000000546,
          0.125,
          0.14300000000000068,
          0.12699999999999534,
          0.13800000000000523,
          0.1490000000000009,
          0.1529999999999916,
          0.17900000000000205,
          0.1770000000000067,
          0.11599999999999966,
          0.11599999999999966,
          0.117999999999995,
          0.1150000000000091,
          0.12699999999999534,
          0.13400000000000034,
          0.1419999999999959,
          0.15200000000000102,
          0.17300000000000182,
          0.18900000000000716,
          0.1490000000000009,
          0.12599999999999056,
          0.13700000000000045,
          0.12999999999999545,
          0.1600000000000108,
          0.13700000000000045,
          0.12899999999999068,
          0.12600000000000477,
          0.13100000000000023,
          0.1290000000000049,
          0.1319999999999908,
          0.13700000000000045,
          0.13300000000000978,
          0.15099999999999625,
          0.14499999999999602,
          0.12700000000000955,
          0.13400000000000034,
          0.14699999999999136,
          0.14799999999999613,
          0.1670000000000016,
          0.1360000000000099,
          0.14799999999999613,
          0.15500000000000114,
          0.13700000000000045,
          0.1349999999999909,
          0.1460000000000008,
          0.1490000000000009,
          0.15100000000001046,
          0.15699999999999648,
          0.12399999999999523,
          0.14800000000001035,
          0.14399999999999125,
          0.14100000000000534,
          0.13799999999999102,
          0.29000000000000625,
          0.1290000000000049,
          0.17399999999999238,
          0.17499999999999716,
          0.14400000000000546,
          0.17799999999999727,
          0.15900000000000603,
          0.16199999999999193,
          0.17800000000001148,
          0.1699999999999875,
          0.1220000000000141,
          0.15899999999999181,
          0.15200000000000102,
          0.14700000000000557,
          0.16199999999999193,
          0.16200000000000614,
          0.18500000000000227,
          0.28600000000000136,
          0.13299999999999557,
          0.13800000000000523,
          0.14099999999999113,
          0.16800000000000637,
          0.3269999999999982,
          0.1769999999999925,
          0.1570000000000107,
          0.14000000000000057,
          0.15200000000000102,
          0.17099999999999227,
          0.18500000000000227,
          0.1770000000000067,
          0.14000000000000057,
          0.1799999999999926,
          0.17799999999999727,
          0.13400000000000034,
          0.1360000000000099,
          0.125,
          0.13799999999999102,
          0.13700000000000045,
          0.13500000000000512,
          0.17799999999999727,
          0.1600000000000108,
          0.12599999999999056,
          0.16400000000000148,
          0.1419999999999959,
          0.15100000000001046,
          0.12699999999999534,
          0.14499999999999602,
          0.14700000000000557,
          0.14100000000000534,
          0.16499999999999204,
          0.15800000000000125,
          0.1560000000000059,
          0.12999999999999545,
          0.1670000000000016,
          0.1799999999999926,
          0.14400000000000546,
          0.13400000000000034,
          0.15399999999999636,
          0.1360000000000099,
          0.1529999999999916,
          0.14799999999999613,
          0.30800000000000693,
          0.16200000000000614,
          0.1460000000000008,
          0.13699999999998624,
          0.1290000000000049,
          0.15200000000000102,
          0.12699999999999534,
          0.1570000000000107,
          0.15800000000000125,
          0.14699999999999136,
          0.1770000000000067,
          0.16100000000000136,
          0.15699999999998226,
          0.15400000000002478,
          0.13999999999998636,
          0.13800000000000523,
          0.13700000000000045,
          0.15500000000000114,
          0.13100000000000023,
          0.132000000000005,
          0.29599999999999227,
          0.1419999999999959,
          0.14300000000000068,
          0.15200000000001523,
          0.15699999999998226,
          0.146000000000015,
          0.13700000000000045,
          0.28899999999998727,
          0.2980000000000018,
          0.1349999999999909,
          0.4490000000000123,
          0.14099999999999113,
          0.13900000000001,
          0.1490000000000009,
          0.14500000000001023,
          0.15399999999999636,
          0.117999999999995,
          0.12399999999999523,
          0.13800000000000523,
          0.13899999999998158,
          0.15100000000001046,
          0.146000000000015,
          0.14999999999997726,
          0.16200000000000614,
          0.14000000000001478,
          0.1449999999999818,
          0.13800000000000523,
          0.15200000000001523,
          0.14699999999999136,
          0.31100000000000705,
          0.14099999999999113,
          0.1419999999999959,
          0.14799999999999613,
          0.15900000000002024,
          0.1279999999999859,
          0.15500000000000114,
          0.13900000000001,
          0.13999999999998636,
          0.16599999999999682,
          0.14799999999999613,
          0.15300000000002,
          0.132000000000005,
          0.16399999999998727,
          0.14300000000000068,
          0.13899999999998158,
          0.14200000000002433,
          0.1529999999999916,
          0.1419999999999959,
          0.14300000000000068,
          0.15100000000001046,
          0.16100000000000136,
          0.13700000000000045,
          0.1379999999999768,
          0.2880000000000109,
          0.16200000000000614,
          0.13999999999998636,
          0.13500000000001933,
          0.14699999999999136,
          0.1560000000000059,
          0.1419999999999959,
          0.14599999999998658,
          0.146000000000015,
          0.1670000000000016,
          0.14300000000000068,
          0.14799999999999613,
          0.14400000000000546,
          0.1419999999999959,
          0.1529999999999916,
          0.16300000000001091,
          0.1349999999999909,
          0.14400000000000546,
          0.132000000000005,
          0.16599999999999682,
          0.1419999999999959,
          0.16800000000000637,
          0.14300000000000068,
          0.14400000000000546,
          0.15699999999998226,
          0.146000000000015,
          0.14300000000000068,
          0.1419999999999959,
          0.1519999999999868,
          0.16200000000000614,
          0.13300000000000978,
          0.14599999999998658,
          0.15800000000001546,
          0.17199999999999704,
          0.12899999999999068,
          0.1349999999999909,
          0.15900000000002024,
          0.1519999999999868,
          0.15200000000001523,
          0.17099999999999227,
          0.1570000000000107,
          0.14999999999997726,
          0.15200000000001523,
          0.14300000000000068,
          0.16100000000000136,
          0.17199999999999704,
          0.19200000000000728,
          0.17900000000000205,
          0.17099999999999227,
          0.13299999999998136,
          0.1490000000000009,
          0.1570000000000107,
          0.15500000000000114,
          0.17099999999999227,
          0.1599999999999966,
          0.13900000000001,
          0.1419999999999959,
          0.15500000000000114,
          0.1490000000000009,
          0.14699999999999136,
          0.14300000000000068,
          0.13899999999998158,
          0.15200000000001523,
          0.16100000000000136,
          0.14099999999999113,
          0.146000000000015,
          0.1449999999999818,
          0.1670000000000016,
          0.1640000000000157,
          0.14400000000000546,
          0.1449999999999818,
          0.16499999999999204,
          0.15200000000001523,
          0.15500000000000114,
          0.13800000000000523,
          0.1490000000000009,
          0.4579999999999984,
          0.1449999999999818,
          0.15500000000000114,
          0.15800000000001546,
          0.15000000000000568,
          0.1150000000000091,
          0.14300000000000068,
          0.13299999999998136,
          0.15000000000000568,
          0.13800000000000523,
          0.16200000000000614,
          0.45400000000000773,
          0.1599999999999966,
          0.15399999999999636,
          0.46000000000000796,
          0.14000000000001478,
          0.09299999999998931,
          0.06700000000000728,
          0.14799999999999613,
          0.14099999999999113,
          0.146000000000015,
          0.13999999999998636,
          0.15900000000002024,
          0.1670000000000016,
          0.30400000000000205,
          0.1640000000000157,
          0.17499999999998295,
          0.15800000000001546,
          0.16100000000000136,
          0.1699999999999875,
          0.18700000000001182,
          0.14699999999999136,
          0.14500000000001023,
          0.1529999999999916,
          0.15899999999999181,
          0.14100000000001955,
          0.14300000000000068,
          0.14999999999997726,
          0.1640000000000157,
          0.15100000000001046,
          0.14300000000000068,
          0.15000000000000568,
          0.16800000000000637,
          0.14099999999999113,
          0.15500000000000114,
          0.14300000000000068,
          0.15200000000001523,
          0.17499999999998295,
          0.14000000000001478,
          0.16100000000000136,
          0.18000000000000682,
          0.1769999999999925,
          0.13599999999999568,
          0.16800000000000637,
          0.43199999999998795,
          0.16200000000000614,
          0.1529999999999916,
          0.13700000000000045,
          0.13800000000000523,
          0.1570000000000107,
          0.15699999999998226,
          0.1560000000000059,
          0.3499999999999943,
          0.10499999999998977,
          0.12300000000001887,
          0.15500000000000114,
          0.16399999999998727,
          0.13599999999999568,
          0.12399999999999523,
          0.15000000000000568,
          0.17900000000000205,
          0.1349999999999909,
          0.1220000000000141,
          0.09999999999999432,
          0.16399999999998727,
          0.1490000000000009,
          0.14100000000001955,
          0.17300000000000182,
          0.13100000000000023,
          0.13500000000001933,
          0.14699999999999136,
          0.16300000000001091,
          0.14399999999997704,
          0.13700000000000045,
          0.15200000000001523,
          0.14500000000001023,
          0.1490000000000009,
          0.15899999999999181,
          0.14300000000000068,
          0.14599999999998658,
          0.16300000000001091,
          0.14500000000001023,
          0.14500000000001023,
          0.14099999999999113,
          0.16499999999999204,
          0.146000000000015,
          0.13599999999999568,
          0.15800000000001546,
          0.14099999999999113,
          0.1419999999999959,
          0.15899999999999181,
          0.16300000000001091,
          0.14000000000001478,
          0.16199999999997772,
          0.17500000000001137,
          0.1560000000000059,
          0.1529999999999916,
          0.1560000000000059,
          0.13399999999998613,
          0.1529999999999916,
          0.1490000000000009,
          0.14700000000001978,
          0.1529999999999916,
          0.14599999999998658,
          0.14700000000001978,
          0.15899999999999181,
          0.17600000000001614,
          0.13899999999998158,
          0.14100000000001955,
          0.14599999999998658,
          0.1490000000000009,
          0.12600000000000477,
          0.14300000000000068,
          0.12999999999999545,
          0.13800000000000523,
          0.1599999999999966,
          0.15500000000000114,
          0.3119999999999834,
          0.13700000000000045,
          0.46700000000001296,
          0.13700000000000045,
          0.4579999999999984,
          0.14400000000000546,
          0.28600000000000136,
          0.13700000000000045,
          0.1560000000000059,
          0.14300000000000068,
          0.15799999999998704,
          0.13900000000001,
          0.1419999999999959,
          0.14599999999998658,
          0.10499999999998977,
          0.15500000000000114,
          0.13400000000001455,
          0.12299999999999045,
          0.1419999999999959,
          0.13400000000001455,
          0.14699999999999136,
          0.14799999999999613,
          0.13100000000000023,
          0.14099999999999113,
          0.1570000000000107,
          0.14200000000002433,
          0.1150000000000091,
          0.14400000000000546,
          0.13999999999998636,
          0.14400000000000546,
          0.1519999999999868,
          0.16600000000002524,
          0.18700000000001182,
          0.1529999999999916,
          0.1560000000000059,
          0.14500000000001023,
          0.16699999999997317,
          0.1670000000000016,
          0.19700000000000273,
          0.3710000000000093,
          0.13900000000001,
          0.17300000000000182,
          0.15500000000000114,
          0.41100000000000136,
          0.12399999999999523,
          0.20900000000000318,
          0.1360000000000241,
          0.15699999999998226,
          0.06399999999999295,
          0.07800000000000296,
          0.15000000000000568,
          0.17500000000001137,
          0.11200000000002319,
          0.07999999999998408,
          0.117999999999995,
          0.2230000000000132,
          0.3090000000000259,
          0.3199999999999932,
          0.1309999999999718,
          0.13700000000000045,
          0.14699999999999136,
          0.2189999999999941,
          0.11700000000001864,
          0.15299999999996317,
          0.1500000000000341,
          0.30000000000001137,
          0.1490000000000009,
          0.10500000000001819,
          0.12199999999995725,
          0.12800000000004275,
          0.1369999999999436,
          0.13999999999998636,
          0.1449999999999818,
          0.13800000000003365,
          0.15200000000004366,
          0.2719999999999345,
          0.09699999999997999,
          0.11700000000007549,
          0.1129999999999427,
          0.13600000000008095,
          0.12199999999995725,
          0.1349999999999909,
          0.13599999999996726,
          0.1290000000000191,
          0.13200000000006185,
          0.1309999999999718,
          0.14699999999993452,
          0.13400000000001455,
          0.1209999999999809,
          0.1290000000000191,
          0.1290000000000191,
          0.15800000000001546,
          0.1150000000000091,
          0.12400000000002365,
          0.14299999999991542,
          0.13800000000003365,
          0.13800000000003365,
          0.1229999999999336,
          0.13800000000003365,
          0.1230000000000473,
          0.14599999999995816,
          0.13999999999998636,
          0.11800000000005184,
          0.12599999999997635,
          0.15800000000001546,
          0.1349999999999909,
          0.125,
          0.12999999999999545,
          0.15099999999995362,
          0.1450000000000955,
          0.13799999999991996,
          0.125,
          0.1230000000000473,
          0.15999999999996817,
          0.14999999999997726,
          0.1270000000000664,
          0.15199999999992997,
          0.17400000000009186,
          0.14599999999995816,
          0.1309999999999718,
          0.11800000000005184,
          0.14599999999995816,
          0.1470000000000482,
          0.1329999999999245,
          0.13400000000001455,
          0.1490000000000009,
          0.15499999999997272,
          0.1370000000000573,
          0.1309999999999718,
          0.1309999999999718,
          0.14800000000002456,
          0.1430000000000291,
          0.18299999999999272,
          0.1349999999999909,
          0.1570000000000391,
          0.17999999999994998,
          0.16899999999998272,
          0.1690000000000964,
          0.15699999999992542,
          0.12999999999999545,
          0.14600000000007185,
          0.1409999999999627,
          0.125,
          0.13800000000003365,
          0.1490000000000009,
          0.1349999999999909,
          0.12999999999999545,
          0.1369999999999436,
          0.16000000000008185,
          0.16099999999994452,
          0.16200000000003456,
          0.14299999999991542,
          0.1410000000000764,
          0.12799999999992906,
          0.13600000000008095,
          0.1290000000000191,
          0.13399999999990087,
          0.13900000000001,
          0.1410000000000764,
          0.1409999999999627,
          0.1230000000000473,
          0.1289999999999054,
          0.13400000000001455,
          0.1270000000000664,
          0.1309999999999718,
          0.14999999999997726,
          0.1409999999999627,
          0.12200000000007094,
          0.14800000000002456,
          0.1289999999999054,
          0.12800000000004275,
          0.1309999999999718,
          0.14400000000000546,
          0.15600000000006276,
          0.17300000000000182,
          0.1490000000000009,
          0.16300000000001091,
          0.12599999999997635,
          0.13800000000003365,
          0.06799999999998363,
          0.07099999999991269,
          0.12800000000004275,
          0.1430000000000291,
          0.13200000000006185,
          0.16399999999998727,
          0.11000000000001364,
          0.1309999999999718,
          0.13900000000001,
          0.1349999999999909,
          0.13199999999994816,
          0.1470000000000482,
          0.13800000000003365,
          0.14299999999991542,
          0.15800000000001546,
          0.1370000000000573,
          0.1430000000000291,
          0.1369999999999436,
          0.14200000000005275,
          0.1409999999999627,
          0.14699999999993452,
          0.15399999999999636,
          0.13800000000003365,
          0.13400000000001455,
          0.14200000000005275,
          0.13900000000001,
          0.1409999999999627,
          0.1570000000000391,
          0.13599999999996726,
          0.13400000000001455,
          0.12999999999999545,
          0.14199999999993906,
          0.1410000000000764,
          0.1369999999999436,
          0.13599999999996726,
          0.14600000000007185,
          0.14199999999993906,
          0.15300000000002,
          0.13599999999996726,
          0.13800000000003365,
          0.28899999999998727,
          0.28100000000006276,
          0.27299999999991087,
          0.1710000000000491,
          0.12199999999995725,
          0.15200000000004366,
          0.12599999999997635,
          0.12400000000002365,
          0.18299999999999272,
          0.26400000000001,
          0.3450000000000273,
          0.1409999999999627,
          0.2659999999999627,
          0.13800000000003365,
          0.1430000000000291,
          0.1369999999999436,
          0.18000000000006366,
          0.14199999999993906,
          0.25,
          0.15899999999999181,
          0.12600000000009004,
          0.1309999999999718,
          0.016000000000076398,
          0.15499999999997272,
          0.31399999999996453,
          0.3830000000000382,
          0.13999999999998636,
          0.27499999999997726,
          0.45699999999999363,
          0.1230000000000473,
          0.1409999999999627,
          0.13600000000008095,
          0.13799999999991996,
          0.14999999999997726,
          0.1490000000000009,
          0.1610000000000582,
          0.2740000000000009,
          0.1430000000000291,
          0.1409999999999627,
          0.1490000000000009,
          0.15499999999997272,
          0.3160000000000309,
          0.1430000000000291,
          0.14699999999993452,
          0.16300000000001091,
          0.16399999999998727,
          0.12999999999999545,
          0.13900000000001,
          0.27700000000004366,
          0.1290000000000191,
          0.12599999999997635,
          0.14999999999997726,
          0.13800000000003365,
          0.14800000000002456,
          0.18199999999990268,
          0.11300000000005639,
          0.13999999999998636,
          0.1490000000000009,
          0.2720000000000482,
          0.16300000000001091,
          0.17999999999994998,
          0.2540000000000191,
          0.14199999999993906,
          0.13999999999998636,
          0.28500000000008185,
          0.29700000000002547,
          0.15299999999990632,
          0.14600000000007185,
          0.13900000000001,
          0.13999999999998636,
          0.1449999999999818,
          0.13999999999998636,
          0.15899999999999181,
          0.13599999999996726,
          0.29100000000005366,
          0.1430000000000291,
          0.2919999999999163,
          0.14200000000005275,
          0.17999999999994998,
          0.10599999999999454,
          0.29500000000007276,
          0.12999999999999545,
          0.30999999999994543,
          0.01700000000005275,
          0.12400000000002365,
          0.14400000000000546,
          0.31399999999996453,
          0.12000000000000455,
          0.15499999999997272,
          0.15999999999996817,
          0.1650000000000773,
          0.13400000000001455,
          0.14999999999997726,
          0.12799999999992906,
          0.1230000000000473,
          0.14400000000000546,
          0.14400000000000546,
          0.16699999999991633,
          0.13600000000008095,
          0.1169999999999618,
          0.1490000000000009,
          0.009000000000014552,
          0.1269999999999527,
          0.1710000000000491,
          0.12599999999997635,
          0.27899999999999636,
          0.1510000000000673,
          0.1369999999999436,
          0.1610000000000582,
          0.16199999999992087,
          0.13200000000006185,
          0.1209999999999809,
          0.17200000000002547,
          0.1269999999999527,
          0.1449999999999818,
          0.14400000000000546,
          0.1750000000000682,
          0.13799999999991996,
          0.14800000000002456,
          0.15599999999994907,
          0.14600000000007185,
          0.1369999999999436,
          0.13600000000008095,
          0.15299999999990632,
          0.17200000000002547,
          0.1349999999999909,
          0.1650000000000773,
          0.13199999999994816,
          0.1430000000000291,
          0.15599999999994907,
          0.1449999999999818,
          0.1470000000000482,
          0.12599999999997635,
          0.14400000000000546,
          0.14599999999995816,
          0.1410000000000764,
          0.14400000000000546,
          0.14999999999997726,
          0.15899999999999181,
          0.1349999999999909,
          0.14800000000002456,
          0.15199999999992997,
          0.1410000000000764,
          0.11199999999996635,
          0.15300000000002,
          0.14800000000002456,
          0.15199999999992997,
          0.17000000000007276,
          0.1289999999999054,
          0.14400000000000546,
          0.16200000000003456,
          0.14400000000000546,
          0.1410000000000764,
          0.14999999999997726,
          0.13900000000001,
          0.1369999999999436,
          0.16399999999998727,
          0.13799999999991996,
          0.16899999999998272,
          0.14600000000007185,
          0.1309999999999718,
          0.14800000000002456,
          0.1409999999999627,
          0.13900000000001,
          0.15499999999997272,
          0.14600000000007185,
          0.13999999999998636,
          0.14999999999997726,
          0.14400000000000546,
          0.15000000000009095,
          0.15300000000002,
          0.13999999999998636,
          0.14200000000005275,
          0.13599999999996726,
          0.1309999999999718,
          0.15000000000009095,
          0.1369999999999436,
          0.14000000000010004,
          0.13899999999989632,
          0.1410000000000764,
          0.14800000000002456,
          0.14799999999991087,
          0.42400000000009186,
          0.15899999999999181,
          0.125,
          0.13399999999990087,
          0.13600000000008095,
          0.13799999999991996,
          0.1430000000000291,
          0.15600000000006276,
          0.14599999999995816,
          0.13999999999998636,
          0.15600000000006276,
          0.14299999999991542,
          0.13600000000008095,
          0.15499999999997272,
          0.1449999999999818,
          0.13400000000001455,
          0.09900000000004638,
          0.06299999999998818,
          0.16599999999993997,
          0.14600000000007185,
          0.14199999999993906,
          0.1150000000000091,
          0.03999999999996362,
          0.1570000000000391,
          0.15300000000002,
          0.13799999999991996,
          0.15300000000002,
          0.14800000000002456,
          0.13400000000001455,
          0.1430000000000291,
          0.1409999999999627,
          0.1270000000000664,
          0.033999999999991815,
          0.20100000000002183,
          0.14799999999991087,
          0.1470000000000482,
          0.16499999999996362,
          0.13600000000008095,
          0.10599999999999454,
          0.043000000000006366,
          0.17099999999993543,
          0.1169999999999618,
          0.1570000000000391,
          0.10199999999997544,
          0.13999999999998636,
          0.14600000000007185,
          0.1330000000000382,
          0.1430000000000291,
          0.14800000000002456,
          0.12000000000000455,
          0.14299999999991542,
          0.125,
          0.04600000000004911,
          0.1430000000000291,
          0.16399999999998727,
          0.125,
          0.17599999999993088,
          0.4410000000000309,
          0.13400000000001455,
          0.27800000000002,
          0.46299999999996544,
          0.2799999999999727,
          0.1470000000000482,
          0.1449999999999818,
          0.15200000000004366,
          0.15399999999999636,
          0.12000000000000455,
          0.028999999999996362,
          0.16499999999996362,
          0.17700000000002092,
          0.15499999999997272,
          0.23299999999994725,
          0.11600000000009913,
          0.18099999999992633,
          0.1370000000000573,
          0.03099999999994907,
          0.2400000000000091,
          0.031000000000062755,
          0.15199999999992997,
          0.1349999999999909,
          0.1330000000000382,
          0.12999999999999545,
          0.1449999999999818,
          0.1470000000000482,
          0.1409999999999627,
          0.009000000000014552,
          0.15800000000001546,
          0.12400000000002365,
          0.15399999999999636,
          0.12399999999990996,
          0.1550000000000864,
          0.13399999999990087,
          0.10300000000006548,
          0.18399999999996908,
          0.08900000000005548,
          0.03599999999994452,
          0.14400000000000546,
          0.4329999999999927,
          0.12400000000002365,
          0.06100000000003547,
          0.13999999999998636,
          0.11599999999998545,
          0.051000000000044565,
          0.1309999999999718,
          0.1029999999999518,
          0.038000000000010914,
          0.10300000000006548,
          0.2159999999998945,
          0.16400000000010095,
          0.3789999999999054,
          0.033999999999991815,
          0.16700000000003,
          0.14999999999997726,
          0.10900000000003729,
          0.26499999999998636,
          0.055000000000063665,
          0.1229999999999336,
          0.04600000000004911,
          0.18399999999996908,
          0.32200000000000273,
          0.13400000000001455,
          0.1349999999999909,
          0.06200000000001182,
          0.17700000000002092,
          0.19299999999998363,
          0.29700000000002547,
          0.2869999999999209,
          0.15300000000002,
          0.1069999999999709,
          0.06100000000003547,
          0.11099999999999,
          0.04800000000000182,
          0.14200000000005275,
          0.1089999999999236,
          0.11800000000005184,
          0.04099999999993997,
          0.13600000000008095,
          0.1490000000000009,
          0.125,
          0.02800000000002001,
          0.2819999999999254,
          0.3039999999999736,
          0.13600000000008095,
          0.1229999999999336,
          0.02800000000002001,
          0.1610000000000582,
          0.31799999999998363,
          0.13599999999996726,
          0.25900000000001455,
          0.12800000000004275,
          0.032999999999901775,
          0.27800000000002,
          0.2799999999999727,
          0.43100000000004,
          0.1270000000000664,
          0.14699999999993452,
          0.13200000000006185,
          0.15899999999999181,
          0.14599999999995816,
          0.1610000000000582,
          0.15499999999997272,
          0.15899999999999181,
          0.15699999999992542,
          0.12100000000009459,
          0.017999999999915417,
          0.44400000000007367,
          0.16499999999996362,
          0.27700000000004366,
          0.15899999999999181,
          0.06299999999998818,
          0.15499999999997272,
          0.17899999999997362,
          0.1290000000000191,
          0.06700000000000728,
          0.16300000000001091,
          0.05700000000001637,
          0.1290000000000191,
          0.16499999999996362,
          0.13599999999996726,
          0.13600000000008095,
          0.12799999999992906,
          0.1610000000000582,
          0.1369999999999436,
          0.18000000000006366,
          0.11899999999991451,
          0.1370000000000573,
          0.13999999999998636,
          0.13599999999996726,
          0.31500000000005457,
          0.12199999999995725,
          0.1470000000000482,
          0.15599999999994907,
          0.1410000000000764,
          0.1449999999999818,
          0.1409999999999627,
          0.15399999999999636,
          0.4350000000000591,
          0.1369999999999436,
          0.4189999999999827,
          0.023000000000024556,
          0.1409999999999627,
          0.1430000000000291,
          0.15099999999995362,
          0.13800000000003365,
          0.13799999999991996,
          0.1550000000000864,
          0.1369999999999436,
          0.1330000000000382,
          0.13999999999998636,
          0.1490000000000009,
          0.1369999999999436,
          0.16200000000003456,
          0.13900000000001,
          0.15600000000006276,
          0.14999999999997726,
          0.22000000000002728,
          0.1470000000000482,
          0.13999999999998636,
          0.13599999999996726,
          0.1490000000000009,
          0.15499999999997272,
          0.1409999999999627,
          0.13200000000006185,
          0.15699999999992542,
          0.1490000000000009,
          0.18399999999996908,
          0.13900000000001,
          0.14200000000005275,
          0.1430000000000291,
          0.11799999999993815,
          0.1410000000000764,
          0.13999999999998636,
          0.1449999999999818,
          0.14199999999993906,
          0.14600000000007185,
          0.16099999999994452,
          0.14600000000007185,
          0.14199999999993906,
          0.15200000000004366,
          0.14800000000002456,
          0.1490000000000009,
          0.15699999999992542,
          0.14800000000002456,
          0.1490000000000009,
          0.14800000000002456,
          0.15399999999999636,
          0.14800000000002456,
          0.15299999999990632,
          0.1410000000000764,
          0.14699999999993452,
          0.3100000000000591,
          0.14199999999993906,
          0.1570000000000391,
          0.1610000000000582,
          0.1409999999999627,
          0.16599999999993997,
          0.15200000000004366,
          0.1490000000000009,
          0.14599999999995816,
          0.1510000000000673,
          0.1490000000000009,
          0.1129999999999427,
          0.1570000000000391,
          0.15499999999997272,
          0.1570000000000391,
          0.16999999999995907,
          0.1430000000000291,
          0.1409999999999627,
          0.14999999999997726,
          0.28700000000003456,
          0.17000000000007276,
          0.43899999999996453,
          0.2799999999999727,
          0.1470000000000482,
          0.1169999999999618,
          0.1790000000000873,
          0.12799999999992906,
          0.12600000000009004,
          0.15299999999990632,
          0.13200000000006185,
          0.1209999999999809,
          0.15300000000002,
          0.14400000000000546,
          0.1409999999999627,
          0.15800000000001546,
          0.12999999999999545,
          0.13999999999998636,
          0.15600000000006276,
          0.009999999999990905,
          0.14599999999995816,
          0.15399999999999636,
          0.14800000000002456,
          0.14800000000002456,
          0.1369999999999436,
          0.12199999999995725,
          0.16800000000000637,
          0.13900000000001,
          0.15099999999995362,
          0.15299999999990632,
          0.1650000000000773,
          0.15399999999999636,
          0.16699999999991633,
          0.13600000000008095,
          0.1449999999999818,
          0.14400000000000546,
          0.13999999999998636,
          0.1570000000000391,
          0.1409999999999627,
          0.16999999999995907,
          0.14400000000000546,
          0.13999999999998636,
          0.14600000000007185,
          0.16099999999994452,
          0.1270000000000664,
          0.1330000000000382,
          0.14400000000000546,
          0.125,
          0.1430000000000291,
          0.3079999999999927,
          0.15200000000004366,
          0.19399999999995998,
          0.4420000000000073,
          0.14599999999995816,
          0.1430000000000291,
          0.13900000000001,
          0.10400000000004184,
          0.4939999999999145,
          0.11600000000009913,
          0.18199999999990268,
          0.3180000000000973,
          0.2759999999999536,
          0.30299999999999727,
          0.1409999999999627,
          0.027000000000043656,
          0.15200000000004366,
          0.30199999999990723,
          0.12400000000002365,
          0.031000000000062755,
          0.13999999999998636,
          0.1349999999999909,
          0.15999999999996817,
          0.1449999999999818,
          0.17200000000002547,
          0.1410000000000764,
          0.2869999999999209,
          0.1470000000000482,
          0.13900000000001,
          0.26900000000000546,
          0.13599999999996726,
          0.1430000000000291,
          0.1369999999999436,
          0.1410000000000764,
          0.14400000000000546,
          0.14400000000000546,
          0.14199999999993906,
          0.3089999999999691,
          0.13900000000001,
          0.14200000000005275,
          0.14599999999995816,
          0.15599999999994907,
          0.1550000000000864,
          0.17699999999990723,
          0.13200000000006185,
          0.1229999999999336,
          0.16200000000003456,
          0.12199999999995725,
          0.15099999999995362,
          0.14800000000002456,
          0.18099999999992633,
          0.1229999999999336,
          0.1349999999999909,
          0.15800000000001546,
          0.1449999999999818,
          0.1270000000000664,
          0.15599999999994907,
          0.1430000000000291,
          0.1470000000000482,
          0.14299999999991542,
          0.17600000000004457,
          0.13999999999998636,
          0.16200000000003456,
          0.19099999999991724,
          0.1330000000000382,
          0.16200000000003456,
          0.16499999999996362,
          0.11300000000005639,
          0.17899999999997362,
          0.2949999999999591,
          0.27300000000002456,
          0.1430000000000291,
          0.13400000000001455,
          0.1370000000000573,
          0.012999999999919964,
          0.15800000000001546,
          0.1430000000000291,
          0.15200000000004366,
          0.13199999999994816,
          0.13900000000001,
          0.14199999999993906,
          0.1410000000000764,
          0.15699999999992542,
          0.17800000000011096,
          0.3990000000000009,
          0.1290000000000191,
          0.13999999999998636,
          0.1430000000000291,
          0.14699999999993452,
          0.16300000000001091,
          0.11000000000001364,
          0.4479999999999791,
          0.06299999999998818,
          0.11799999999993815,
          0.1550000000000864,
          0.09299999999996089,
          0.04399999999998272,
          0.12199999999995725,
          0.14400000000000546,
          0.12100000000009459,
          0.12599999999997635,
          0.1329999999999245,
          0.13800000000003365,
          0.1209999999999809,
          0.14200000000005275,
          0.13999999999998636,
          0.26900000000000546,
          0.4410000000000309,
          0.12799999999992906,
          0.15200000000004366,
          0.13400000000001455,
          0.13599999999996726,
          0.13800000000003365,
          0.1229999999999336,
          0.14999999999997726,
          0.13800000000003365,
          0.16600000000005366,
          0.1269999999999527,
          0.12200000000007094,
          0.11599999999998545,
          0.12199999999995725,
          0.1290000000000191,
          0.12400000000002365,
          0.1269999999999527,
          0.11599999999998545,
          0.12200000000007094,
          0.11899999999991451,
          0.11800000000005184,
          0.1230000000000473,
          0.1289999999999054,
          0.1349999999999909,
          0.1190000000000282,
          0.15200000000004366,
          0.24299999999993815,
          0.1310000000000855,
          0.14999999999997726,
          0.1410000000000764,
          0.12399999999990996,
          0.12000000000000455,
          0.13200000000006185,
          0.14599999999995816,
          0.1309999999999718,
          0.12800000000004275,
          0.1169999999999618,
          0.1430000000000291,
          0.1230000000000473,
          0.1430000000000291,
          0.11799999999993815,
          0.13900000000001,
          0.14400000000000546,
          0.12199999999995725,
          0.1290000000000191,
          0.13900000000001,
          0.12999999999999545,
          0.30100000000004457,
          0.1409999999999627,
          0.1209999999999809,
          0.1330000000000382,
          0.13400000000001455,
          0.15999999999996817,
          0.1570000000000391,
          0.3009999999999309,
          0.1430000000000291,
          0.13200000000006185,
          0.1449999999999818,
          0.125,
          0.17999999999994998,
          0.17399999999997817,
          0.1209999999999809,
          0.13000000000010914,
          0.15199999999992997,
          0.14800000000002456,
          0.1369999999999436,
          0.13200000000006185,
          0.1430000000000291,
          0.15099999999995362,
          0.12199999999995725,
          0.13400000000001455,
          0.19000000000005457,
          0.15899999999999181,
          0.11599999999998545,
          0.1430000000000291,
          0.16699999999991633,
          0.15000000000009095,
          0.14699999999993452,
          0.1310000000000855,
          0.16999999999995907,
          0.12400000000002365,
          0.14799999999991087,
          0.18800000000010186,
          0.19499999999993634,
          0.17799999999999727,
          0.16200000000003456,
          0.14800000000002456,
          0.16199999999992087,
          0.1610000000000582,
          0.15599999999994907,
          0.14600000000007185,
          0.1269999999999527,
          0.15999999999996817,
          0.1470000000000482,
          0.13800000000003365,
          0.1490000000000009,
          0.1369999999999436,
          0.43100000000004,
          0.1470000000000482,
          0.14400000000000546,
          0.13199999999994816,
          0.14599999999995816,
          0.1270000000000664,
          0.16200000000003456,
          0.1449999999999818,
          0.13599999999996726,
          0.17300000000000182,
          0.1309999999999718,
          0.14999999999997726,
          0.1550000000000864,
          0.15300000000002,
          0.13799999999991996,
          0.18900000000007822,
          0.16099999999994452,
          0.18200000000001637,
          0.16999999999995907,
          0.1370000000000573,
          0.15999999999996817,
          0.12999999999999545,
          0.15800000000001546,
          0.1230000000000473,
          0.16899999999998272,
          0.15499999999997272,
          0.13400000000001455,
          0.125,
          0.14599999999995816,
          0.14800000000002456,
          0.13999999999998636,
          0.1409999999999627,
          0.14200000000005275,
          0.14999999999997726,
          0.13199999999994816,
          0.16600000000005366,
          0.14199999999993906,
          0.1450000000000955,
          0.1349999999999909,
          0.1490000000000009,
          0.13900000000001,
          0.15499999999997272,
          0.16099999999994452,
          0.1470000000000482,
          0.1409999999999627,
          0.1470000000000482,
          0.15300000000002,
          0.14199999999993906,
          0.15600000000006276,
          0.15799999999990177,
          0.1470000000000482,
          0.12599999999997635,
          0.1330000000000382,
          0.1369999999999436,
          0.1650000000000773,
          0.14599999999995816,
          0.15300000000002,
          0.13900000000001,
          0.13400000000001455,
          0.1270000000000664,
          0.1490000000000009,
          0.15399999999999636,
          0.14699999999993452,
          0.1430000000000291,
          0.13599999999996726,
          0.14800000000002456,
          0.1330000000000382,
          0.1570000000000391,
          0.13199999999994816,
          0.14800000000002456,
          0.15399999999999636,
          0.14999999999997726,
          0.1490000000000009,
          0.12599999999997635,
          0.1449999999999818,
          0.1309999999999718,
          0.13800000000003365,
          0.13900000000001,
          0.13600000000008095,
          0.2959999999999354,
          0.1410000000000764,
          0.29099999999994,
          0.15499999999997272,
          0.13800000000003365,
          0.16200000000003456,
          0.16499999999996362,
          0.12999999999999545,
          0.1350000000001046,
          0.13599999999996726,
          0.12999999999999545,
          0.1349999999999909,
          0.14400000000000546,
          0.1369999999999436,
          0.1510000000000673,
          0.1490000000000009,
          0.14599999999995816,
          0.13999999999998636,
          0.14600000000007185,
          0.1449999999999818,
          0.1490000000000009,
          0.16499999999996362,
          0.15499999999997272,
          0.1470000000000482,
          0.17200000000002547,
          0.15699999999992542,
          0.1570000000000391,
          0.17799999999999727,
          0.15999999999996817,
          0.18299999999999272,
          0.18400000000008276,
          0.1349999999999909,
          0.17899999999997362,
          0.14999999999997726,
          0.1169999999999618,
          0.15200000000004366,
          0.09100000000000819,
          0.05999999999994543,
          0.08100000000001728,
          0.25,
          0.1430000000000291,
          0.14999999999997726,
          0.1409999999999627,
          0.16399999999998727,
          0.14600000000007185,
          0.15499999999997272,
          0.15099999999995362,
          0.14200000000005275,
          0.16300000000001091,
          0.14599999999995816,
          0.1150000000000091,
          0.1269999999999527,
          0.13900000000001,
          0.1410000000000764,
          0.13999999999998636,
          0.14800000000002456,
          0.4219999999999118,
          0.12400000000002365,
          0.13799999999991996,
          0.14800000000002456,
          0.13900000000001,
          0.13599999999996726,
          0.15300000000002,
          0.13200000000006185,
          0.15399999999999636,
          0.14400000000000546,
          0.16299999999989723,
          0.1690000000000964,
          0.4319999999999027,
          0.13200000000006185,
          0.16399999999998727,
          0.12400000000002365,
          0.07800000000008822,
          0.1309999999999718,
          0.1309999999999718,
          0.14800000000002456,
          0.13999999999998636,
          0.10199999999997544,
          0.15099999999995362,
          0.12600000000009004,
          0.15799999999990177,
          0.1310000000000855,
          0.1490000000000009,
          0.17599999999993088,
          0.125,
          0.14599999999995816,
          0.12800000000004275,
          0.1349999999999909,
          0.14599999999995816,
          0.14599999999995816,
          0.1290000000000191,
          0.12999999999999545,
          0.13999999999998636,
          0.14800000000002456,
          0.1329999999999245,
          0.1550000000000864,
          0.13199999999994816,
          0.1330000000000382,
          0.1330000000000382,
          0.14400000000000546,
          0.13999999999998636,
          0.13199999999994816,
          0.14600000000007185,
          0.4459999999999127,
          0.14400000000000546,
          0.15200000000004366,
          0.12799999999992906,
          0.15899999999999181,
          0.15399999999999636,
          0.1490000000000009,
          0.13799999999991996,
          0.16300000000001091,
          0.1490000000000009,
          0.1650000000000773,
          0.13799999999991996,
          0.15000000000009095,
          0.17399999999997817,
          0.16499999999996362,
          0.1710000000000491,
          0.16099999999994452,
          0.16300000000001091,
          0.1430000000000291,
          0.16599999999993997,
          0.16000000000008185,
          0.18599999999992178,
          0.20800000000008367,
          0.16899999999998272,
          0.17599999999993088,
          0.17700000000002092,
          0.125,
          0.18600000000003547,
          0.18299999999999272,
          0.1570000000000391,
          0.16299999999989723,
          0.18600000000003547,
          0.17700000000002092,
          0.13999999999998636,
          0.16499999999996362,
          0.15000000000009095,
          0.17099999999993543,
          0.16499999999996362,
          0.16600000000005366,
          0.14999999999997726,
          0.1750000000000682,
          0.1169999999999618,
          0.03599999999994452,
          0.17200000000002547,
          0.13200000000006185,
          0.14199999999993906,
          0.1270000000000664,
          0.15399999999999636,
          0.14699999999993452,
          0.15200000000004366,
          0.07500000000004547,
          0.1959999999999127,
          0.16300000000001091,
          0.16800000000012005,
          0.17300000000000182,
          0.16799999999989268,
          0.15800000000012915,
          0.16300000000001091,
          0.2159999999998945,
          0.1330000000000382,
          0.15300000000002,
          0.17799999999988358,
          0.1670000000001437,
          0.19200000000000728,
          0.1959999999999127,
          0.011999999999943611,
          0.24500000000011823,
          0.13000000000010914,
          0.13000000000010914,
          0.1369999999999436,
          0.12400000000002365,
          0.15399999999999636,
          0.15200000000004366,
          0.15299999999979264,
          0.1490000000001146,
          0.15200000000004366,
          0.16300000000001091,
          0.14999999999986358,
          0.15599999999994907,
          0.15300000000002,
          0.1570000000001528,
          0.16699999999991633,
          0.15399999999999636,
          0.17499999999995453,
          0.13000000000010914,
          0.1879999999998745,
          0.14600000000018554,
          0.15299999999979264,
          0.13500000000021828,
          0.15299999999979264,
          0.20100000000002183,
          0.165000000000191,
          0.16699999999991633,
          0.17599999999993088,
          0.1710000000000491,
          0.1510000000000673,
          0.13000000000010914,
          0.14099999999984902,
          0.14800000000013824,
          0.14599999999995816,
          0.15000000000009095,
          0.14599999999995816,
          0.15499999999997272,
          0.28899999999998727,
          0.16599999999993997,
          0.14800000000013824,
          0.13199999999983447,
          0.12099999999986721,
          0.1169999999999618,
          0.1169999999999618,
          0.12100000000009459,
          0.1269999999999527,
          0.1330000000000382,
          0.15099999999983993,
          0.12200000000007094,
          0.1410000000000764,
          0.14799999999991087,
          0.13400000000001455,
          0.1410000000000764,
          0.1410000000000764,
          0.15799999999990177,
          0.1470000000001619,
          0.13099999999985812,
          0.1330000000000382,
          0.1290000000001328,
          0.12099999999986721,
          0.1269999999999527,
          0.13999999999987267,
          0.23500000000012733,
          0.12400000000002365,
          0.12199999999984357,
          0.2740000000001146,
          0.4279999999998836,
          0.049000000000205546,
          0.14600000000018554,
          0.14599999999995816,
          0.13000000000010914,
          0.26499999999987267,
          0.20299999999997453,
          0.125,
          0.16399999999998727,
          0.29700000000002547,
          0.12999999999988177,
          0.11400000000003274,
          0.12599999999997635,
          0.13400000000001455,
          0.1390000000001237,
          0.16499999999996362,
          0.3769999999999527,
          0.1089999999999236,
          0.13200000000006185,
          0.11999999999989086,
          0.12400000000002365,
          0.12100000000009459,
          0.13199999999983447,
          0.12200000000007094,
          0.12799999999992906,
          0.12999999999988177,
          0.1290000000001328,
          0.1289999999999054,
          0.1490000000001146,
          0.1150000000000091,
          0.1269999999999527,
          0.12599999999997635,
          0.13799999999991996,
          0.13000000000010914,
          0.11899999999991451,
          0.11100000000010368,
          0.13400000000001455,
          0.1230000000000473,
          0.11999999999989086,
          0.1449999999999818,
          0.12400000000002365,
          0.13400000000001455,
          0.12400000000002365,
          0.16499999999996362,
          0.12599999999997635,
          0.13000000000010914,
          0.12799999999992906,
          0.1269999999999527,
          0.1410000000000764,
          0.14799999999991087,
          0.1349999999999909,
          0.1369999999999436,
          0.13800000000014734,
          0.13400000000001455,
          0.1289999999999054,
          0.14000000000010004,
          0.12799999999992906,
          0.17300000000000182,
          0.1289999999999054,
          0.12800000000015643,
          0.1330000000000382,
          0.13299999999981083,
          0.165000000000191,
          0.15699999999992542,
          0.14000000000010004,
          0.12799999999992906,
          0.1269999999999527,
          0.13000000000010914,
          0.181999999999789,
          0.14200000000005275,
          0.1290000000001328,
          0.16300000000001091,
          0.1150000000000091,
          0.15099999999983993,
          0.13000000000010914,
          0.16399999999998727,
          0.13799999999991996,
          0.1490000000001146,
          0.15999999999985448,
          0.14000000000010004,
          0.12999999999988177,
          0.1430000000000291,
          0.15000000000009095,
          0.14400000000000546,
          0.1430000000000291,
          0.14599999999995816,
          0.1610000000000582,
          0.15300000000002,
          0.1069999999999709,
          0.1289999999999054,
          0.1510000000000673,
          0.14799999999991087,
          0.14400000000000546,
          0.14599999999995816,
          0.1470000000001619,
          0.15999999999985448,
          0.12800000000015643,
          0.14299999999980173,
          0.16600000000016735,
          0.1430000000000291,
          0.14400000000000546,
          0.1619999999998072,
          0.12800000000015643,
          0.15099999999983993,
          0.15600000000017644,
          0.16499999999996362,
          0.16599999999993997,
          0.15399999999999636,
          0.15499999999997272,
          0.1790000000000873,
          0.15499999999997272,
          0.16300000000001091,
          0.12599999999997635,
          0.11599999999998545,
          0.1369999999999436,
          0.15800000000012915,
          0.14699999999993452,
          0.15800000000012915,
          0.15299999999979264,
          0.13200000000006185,
          0.1670000000001437,
          0.14599999999995816,
          0.15699999999992542,
          0.13899999999989632,
          0.15600000000017644,
          0.12999999999988177,
          0.16000000000008185,
          0.14400000000000546,
          0.1430000000000291,
          0.13899999999989632,
          0.14400000000000546,
          0.14599999999995816,
          0.1410000000000764,
          0.15599999999994907,
          0.2719999999999345,
          0.4370000000001255,
          0.13400000000001455,
          0.14799999999991087,
          0.1430000000000291,
          0.15399999999999636,
          0.14400000000000546,
          0.1449999999999818,
          0.13400000000001455,
          0.14800000000013824,
          0.14299999999980173,
          0.1390000000001237,
          0.15399999999999636,
          0.16300000000001091,
          0.13999999999987267,
          0.16000000000008185,
          0.1289999999999054,
          0.1550000000002001,
          0.15399999999999636,
          0.16599999999993997,
          0.15899999999987813,
          0.1390000000001237,
          0.1430000000000291,
          0.17300000000000182,
          0.16899999999986903,
          0.1330000000000382,
          0.12599999999997635,
          0.15000000000009095,
          0.15899999999987813,
          0.1590000000001055,
          0.16699999999991633,
          0.17499999999995453,
          0.10000000000013642,
          0.06400000000007822,
          0.17499999999995453,
          0.15999999999985448,
          0.12700000000018008,
          0.13099999999985812,
          0.09300000000007458,
          0.07400000000006912,
          0.18499999999994543,
          0.15799999999990177,
          0.1770000000001346,
          0.15300000000002,
          0.16499999999996362,
          0.17499999999995453,
          0.10300000000006548,
          0.07199999999988904,
          0.1510000000000673,
          0.1610000000000582,
          0.14699999999993452,
          0.13099999999985812,
          0.16300000000001091,
          0.14400000000000546,
          0.15000000000009095,
          0.14400000000000546,
          0.13200000000006185,
          0.12999999999988177,
          0.16300000000001091,
          0.11599999999998545,
          0.14000000000010004,
          0.13799999999991996,
          0.1430000000000291,
          0.14599999999995816,
          0.14699999999993452,
          0.14000000000010004,
          0.1510000000000673,
          0.1330000000000382,
          0.14599999999995816,
          0.15499999999997272,
          0.14999999999986358,
          0.12200000000007094,
          0.16499999999996362,
          0.13800000000014734,
          0.15999999999985448,
          0.15600000000017644,
          0.14299999999980173,
          0.1390000000001237,
          0.1510000000000673,
          0.12599999999997635,
          0.14799999999991087,
          0.13200000000006185,
          0.1349999999999909,
          0.14999999999986358,
          0.15800000000012915,
          0.14899999999988722,
          0.165000000000191,
          0.16699999999991633,
          0.14699999999993452,
          0.1610000000000582,
          0.15300000000002,
          0.1430000000000291,
          0.13400000000001455,
          0.14999999999986358,
          0.15800000000012915,
          0.15200000000004366,
          0.14799999999991087,
          0.15699999999992542,
          0.12200000000007094,
          0.1510000000000673,
          0.17899999999985994,
          0.1490000000001146,
          0.16799999999989268,
          0.16300000000001091,
          0.13800000000014734,
          0.11799999999993815,
          0.14899999999988722,
          0.1349999999999909,
          0.13799999999991996,
          0.15300000000002,
          0.18000000000006366,
          0.15200000000004366,
          0.15000000000009095,
          0.16099999999983083,
          0.15000000000009095,
          0.1349999999999909,
          0.1430000000000291,
          0.13400000000001455,
          0.16399999999998727,
          0.1150000000000091,
          0.14199999999982538,
          0.1490000000001146,
          0.1449999999999818,
          0.16399999999998727,
          0.1230000000000473,
          0.14699999999993452,
          0.10000000000013642,
          0.06599999999980355,
          0.15300000000002,
          0.1570000000001528,
          0.12599999999997635,
          0.12999999999988177,
          0.1470000000001619,
          0.15799999999990177,
          0.14000000000010004,
          0.15300000000002,
          0.12799999999992906,
          0.1430000000000291,
          0.14400000000000546,
          0.14599999999995816,
          0.1449999999999818,
          0.13799999999991996,
          0.14599999999995816,
          0.1410000000000764,
          0.13000000000010914,
          0.1430000000000291,
          0.16099999999983083,
          0.11900000000014188,
          0.13899999999989632,
          0.15599999999994907,
          0.1510000000000673,
          0.1490000000001146,
          0.15099999999983993,
          0.1449999999999818,
          0.16300000000001091,
          0.14800000000013824,
          0.15499999999997272,
          0.1230000000000473,
          0.15199999999981628,
          0.1670000000001437,
          0.11799999999993815,
          0.14400000000000546,
          0.12799999999992906,
          0.12599999999997635,
          0.15200000000004366,
          0.12599999999997635,
          0.13700000000017099,
          0.13899999999989632,
          0.15200000000004366,
          0.14400000000000546,
          0.15300000000002,
          0.16899999999986903,
          0.15799999999990177,
          0.16300000000001091,
          0.13800000000014734,
          0.25900000000001455,
          0.40599999999994907,
          0.1410000000000764,
          0.13999999999987267,
          0.1510000000000673,
          0.13999999999987267,
          0.1510000000000673,
          0.1449999999999818,
          0.1390000000001237,
          0.16399999999998727,
          0.14199999999982538,
          0.13500000000021828,
          0.14299999999980173,
          0.13600000000019463,
          0.1369999999999436,
          0.15899999999987813,
          0.125,
          0.13400000000001455,
          0.13800000000014734,
          0.14400000000000546,
          0.13599999999996726,
          0.1330000000000382,
          0.16599999999993997,
          0.13200000000006185,
          0.2899999999999636,
          0.13899999999989632,
          0.2860000000000582,
          0.1330000000000382,
          0.15599999999994907,
          0.1269999999999527,
          0.14000000000010004,
          0.1289999999999054,
          0.13599999999996726,
          0.1490000000001146,
          0.1619999999998072,
          0.14000000000010004,
          0.1390000000001237,
          0.14299999999980173,
          0.1390000000001237,
          0.1369999999999436,
          0.1490000000001146,
          0.14999999999986358,
          0.1690000000000964,
          0.14400000000000546,
          0.13199999999983447,
          0.1390000000001237,
          0.14200000000005275,
          0.16099999999983083,
          0.13000000000010914,
          0.1430000000000291,
          0.13599999999996726,
          0.14400000000000546,
          0.29700000000002547,
          0.13599999999996726,
          0.15200000000004366,
          0.14199999999982538,
          0.1590000000001055,
          0.14699999999993452,
          0.15399999999999636,
          0.1410000000000764,
          0.14799999999991087,
          0.14200000000005275,
          0.31500000000005457,
          0.14699999999993452,
          0.1349999999999909,
          0.15600000000017644,
          0.12999999999988177,
          0.14699999999993452,
          0.1349999999999909,
          0.16000000000008185,
          0.1390000000001237,
          0.14899999999988722,
          0.1330000000000382,
          0.14599999999995816,
          0.3000000000001819,
          0.29399999999986903,
          0.15000000000009095,
          0.11799999999993815,
          0.1369999999999436,
          0.13000000000010914,
          0.1330000000000382,
          0.1330000000000382,
          0.14699999999993452,
          0.11999999999989086,
          0.1430000000000291,
          0.1510000000000673,
          0.13799999999991996,
          0.1590000000001055,
          0.13599999999996726,
          0.15000000000009095,
          0.13599999999996726,
          0.14999999999986358,
          0.14600000000018554,
          0.15499999999997272,
          0.13599999999996726,
          0.15099999999983993,
          0.14000000000010004,
          0.15200000000004366,
          0.16300000000001091,
          0.14200000000005275,
          0.15999999999985448,
          0.14599999999995816,
          0.1690000000000964,
          0.16300000000001091,
          0.1369999999999436,
          0.15800000000012915,
          0.13599999999996726,
          0.1710000000000491,
          0.14799999999991087,
          0.1690000000000964,
          0.15399999999999636,
          0.14599999999995816,
          0.1230000000000473,
          0.15799999999990177,
          0.14200000000005275,
          0.16599999999993997,
          0.15799999999990177,
          0.17300000000000182,
          0.15399999999999636,
          0.1570000000001528,
          0.14799999999991087,
          0.15699999999992542,
          0.13899999999989632,
          0.30500000000006366,
          0.15599999999994907,
          0.14400000000000546,
          0.1330000000000382,
          0.1430000000000291,
          0.14400000000000546,
          0.14799999999991087,
          0.1470000000001619,
          0.13799999999991996,
          0.1310000000000855,
          0.1349999999999909,
          0.15699999999992542,
          0.13400000000001455,
          0.13400000000001455,
          0.14200000000005275,
          0.14299999999980173,
          0.15600000000017644,
          0.14400000000000546,
          0.14599999999995816,
          0.4420000000000073,
          0.2819999999999254,
          0.15300000000002,
          0.1330000000000382,
          0.14999999999986358,
          0.14400000000000546,
          0.14400000000000546,
          0.15200000000004366,
          0.2880000000000109,
          0.1330000000000382,
          0.13099999999985812,
          0.1570000000001528,
          0.1449999999999818,
          0.1230000000000473,
          0.14400000000000546,
          0.12799999999992906,
          0.14799999999991087,
          0.17000000000007276,
          0.12599999999997635,
          0.13899999999989632,
          0.14000000000010004,
          0.15499999999997272,
          0.2740000000001146,
          0.14199999999982538,
          0.13600000000019463,
          0.14999999999986358,
          0.13599999999996726,
          0.13400000000001455,
          0.1430000000000291,
          0.15200000000004366,
          0.13899999999989632,
          0.15599999999994907,
          0.28500000000008185,
          0.14999999999986358,
          0.13500000000021828,
          0.1349999999999909,
          0.1390000000001237,
          0.1369999999999436,
          0.1289999999999054,
          0.17399999999997817,
          0.125,
          0.1390000000001237,
          0.13999999999987267,
          0.1470000000001619,
          0.14599999999995816,
          0.14899999999988722,
          0.14200000000005275,
          0.17000000000007276,
          0.12799999999992906,
          0.15200000000004366,
          0.12999999999988177,
          0.30300000000011096,
          0.1510000000000673,
          0.16699999999991633,
          0.16300000000001091,
          0.13799999999991996,
          0.1490000000001146,
          0.2899999999999636,
          0.2680000000000291,
          0.2960000000000491,
          0.28899999999998727,
          0.13400000000001455,
          0.1410000000000764,
          0.14200000000005275,
          0.14699999999993452,
          0.15000000000009095,
          0.2849999999998545,
          0.14800000000013824,
          0.13999999999987267,
          0.15800000000012915,
          0.13400000000001455,
          0.13599999999996726,
          0.14699999999993452,
          0.1430000000000291,
          0.15000000000009095,
          0.16399999999998727,
          0.14599999999995816,
          0.1330000000000382,
          0.13200000000006185,
          0.1369999999999436,
          0.1369999999999436,
          0.1410000000000764,
          0.14400000000000546,
          0.1330000000000382,
          0.13599999999996726,
          0.14599999999995816,
          0.1390000000001237,
          0.14199999999982538,
          0.13600000000019463,
          0.14199999999982538,
          0.13000000000010914,
          0.13200000000006185,
          0.1770000000001346,
          0.1570000000001528,
          0.14799999999991087,
          0.12800000000015643,
          0.14299999999957436,
          0.11700000000018917,
          0.15200000000004366,
          0.34500000000025466,
          0.1619999999998072,
          0.12800000000015643,
          0.125,
          0.23099999999976717,
          0.1449999999999818,
          0.22499999999990905,
          0.13599999999996726,
          0.13700000000017099,
          0.125,
          0.1459999999997308,
          0.13500000000021828,
          0.12100000000009459,
          0.15299999999979264,
          0.13099999999985812,
          0.13200000000006185,
          0.1390000000001237,
          0.1430000000000291,
          0.11899999999968713,
          0.16200000000026193,
          0.12399999999979627,
          0.13100000000031287,
          0.15100000000029468,
          0.1479999999996835,
          0.12100000000009459,
          0.13999999999987267,
          0.13700000000017099,
          0.13799999999991996,
          0.13799999999991996,
          0.14400000000023283,
          0.13299999999981083,
          0.15099999999983993,
          0.13999999999987267,
          0.16700000000037107,
          0.14099999999962165,
          0.13300000000026557,
          0.1639999999997599,
          0.16600000000016735,
          0.17000000000007276,
          0.2480000000000473,
          0.1449999999999818,
          0.15499999999974534,
          0.13999999999987267,
          0.16499999999996362,
          0.16800000000012005,
          0.16600000000016735,
          0.14099999999962165,
          0.1570000000001528,
          0.1449999999999818,
          0.13400000000001455,
          0.15099999999983993,
          0.17200000000002547,
          0.17799999999988358,
          0.15300000000024738,
          0.15699999999969805,
          0.1770000000001346,
          0.1610000000000582,
          0.11999999999989086,
          0.17799999999988358,
          0.1730000000002292,
          0.2019999999997708,
          0.14200000000028012,
          0.15299999999979264,
          0.12199999999984357,
          0.14600000000018554,
          0.1390000000001237,
          0.17599999999993088,
          0.1459999999997308,
          0.13200000000006185,
          0.15000000000009095,
          0.16699999999991633,
          0.1430000000000291,
          0.11000000000012733,
          0.13999999999987267,
          0.13500000000021828,
          0.13799999999991996,
          0.07999999999992724,
          0.056999999999789,
          0.13400000000001455,
          0.14600000000018554,
          0.15000000000009095,
          0.15699999999969805,
          0.1449999999999818,
          0.16600000000016735,
          0.12100000000009459,
          0.17599999999993088,
          0.14099999999962165,
          0.15399999999999636,
          0.1430000000000291,
          0.16400000000021464,
          0.15200000000004366,
          0.13299999999981083,
          0.1619999999998072,
          0.14200000000028012,
          0.17799999999988358,
          0.11299999999982901,
          0.14199999999982538,
          0.13000000000010914,
          0.1610000000000582,
          0.12799999999970169,
          0.15300000000024738,
          0.13200000000006185,
          0.13899999999966894,
          0.14900000000034197,
          0.17200000000002547,
          0.1449999999999818,
          0.1410000000000764,
          0.13799999999991996,
          0.14199999999982538,
          0.13300000000026557,
          0.1449999999999818,
          0.14699999999993452,
          0.14399999999977808,
          0.14800000000013824,
          0.14399999999977808,
          0.13599999999996726,
          0.12600000000020373,
          0.14700000000038926,
          0.13899999999966894,
          0.13700000000017099,
          0.1269999999999527,
          0.1459999999997308,
          0.1449999999999818,
          0.11300000000028376,
          0.15200000000004366,
          0.13499999999976353,
          0.1710000000002765,
          0.14499999999952706,
          0.14700000000038926,
          0.12799999999970169,
          0.1570000000001528,
          0.13999999999987267,
          0.13000000000010914,
          0.1289999999999054,
          0.1449999999999818,
          0.13099999999985812,
          0.1550000000002001,
          0.14399999999977808,
          0.1449999999999818,
          0.15000000000009095,
          0.1339999999995598,
          0.14000000000032742,
          0.13699999999971624,
          0.14200000000028012,
          0.1499999999996362,
          0.1610000000000582,
          0.15200000000004366,
          0.15200000000004366,
          0.15399999999999636,
          0.1619999999998072,
          0.18700000000035288,
          0.14699999999993452,
          0.14399999999977808,
          0.16499999999996362,
          0.15099999999983993,
          0.16800000000012005,
          0.1610000000000582,
          0.15799999999990177,
          0.13999999999987267,
          0.14199999999982538,
          0.14000000000032742,
          0.14899999999988722,
          0.15299999999979264,
          0.15599999999994907,
          0.43000000000029104,
          0.16300000000001091,
          0.15499999999974534,
          0.1570000000001528,
          0.1459999999997308,
          0.17200000000002547,
          0.1730000000002292,
          0.15699999999969805,
          0.12400000000025102,
          0.09199999999964348,
          0.19399999999995998,
          0.1910000000002583,
          0.12799999999970169,
          0.1430000000000291,
          0.16800000000012005,
          0.18499999999994543,
          0.15799999999990177,
          0.09600000000000364,
          0.09600000000000364,
          0.15799999999990177,
          0.3020000000001346,
          0.2800000000002001,
          0.14099999999962165,
          0.13599999999996726,
          0.12200000000029831,
          0.1499999999996362,
          0.15800000000035652,
          0.13899999999966894,
          0.16900000000032378,
          0.15399999999999636,
          0.17099999999982174,
          0.09799999999995634,
          0.07000000000016371,
          0.18699999999989814,
          0.19200000000000728,
          0.11299999999982901,
          0.08300000000008367,
          0.1959999999999127,
          0.1390000000001237,
          0.1230000000000473,
          0.07999999999992724,
          0.17499999999972715,
          0.14200000000028012,
          0.17699999999967986,
          0.1730000000002292,
          0.1410000000000764,
          0.15399999999999636,
          0.11599999999998545,
          0.15299999999979264,
          0.125,
          0.125,
          0.16300000000001091,
          0.1479999999996835,
          0.16700000000037107,
          0.15999999999985448,
          0.1430000000000291,
          0.125,
          0.1449999999999818,
          0.13999999999987267,
          0.1289999999999054,
          0.13700000000017099,
          0.1479999999996835,
          0.43000000000029104,
          0.2869999999998072,
          0.1410000000000764,
          0.12399999999979627,
          0.13799999999991996,
          0.3040000000000873,
          0.15200000000004366,
          0.15799999999990177,
          0.13999999999987267,
          0.27400000000034197,
          0.12400000000025102,
          0.13499999999976353,
          0.1269999999999527,
          0.14200000000028012,
          0.1339999999995598,
          0.15600000000040382,
          0.15399999999999636,
          0.12799999999970169,
          0.13799999999991996,
          0.16900000000032378,
          0.29999999999972715,
          0.44099999999980355,
          0.3989999999998872,
          0.13799999999991996,
          0.16400000000021464,
          0.1410000000000764,
          0.13499999999976353,
          0.15599999999994907,
          0.14200000000028012,
          0.1499999999996362,
          0.1449999999999818,
          0.1550000000002001
         ],
         "xaxis": "x",
         "yaxis": "y"
        }
       ],
       "layout": {
        "annotations": [
         {
          "showarrow": false,
          "text": "6.49 Hz",
          "x": 0.9,
          "xref": "paper",
          "y": 0.9,
          "yref": "paper"
         }
        ],
        "barmode": "relative",
        "legend": {
         "title": {
          "text": "variable"
         },
         "tracegroupgap": 0
        },
        "margin": {
         "t": 60
        },
        "showlegend": false,
        "template": {
         "data": {
          "bar": [
           {
            "error_x": {
             "color": "#2a3f5f"
            },
            "error_y": {
             "color": "#2a3f5f"
            },
            "marker": {
             "line": {
              "color": "#E5ECF6",
              "width": 0.5
             }
            },
            "type": "bar"
           }
          ],
          "barpolar": [
           {
            "marker": {
             "line": {
              "color": "#E5ECF6",
              "width": 0.5
             }
            },
            "type": "barpolar"
           }
          ],
          "carpet": [
           {
            "aaxis": {
             "endlinecolor": "#2a3f5f",
             "gridcolor": "white",
             "linecolor": "white",
             "minorgridcolor": "white",
             "startlinecolor": "#2a3f5f"
            },
            "baxis": {
             "endlinecolor": "#2a3f5f",
             "gridcolor": "white",
             "linecolor": "white",
             "minorgridcolor": "white",
             "startlinecolor": "#2a3f5f"
            },
            "type": "carpet"
           }
          ],
          "choropleth": [
           {
            "colorbar": {
             "outlinewidth": 0,
             "ticks": ""
            },
            "type": "choropleth"
           }
          ],
          "contour": [
           {
            "colorbar": {
             "outlinewidth": 0,
             "ticks": ""
            },
            "colorscale": [
             [
              0,
              "#0d0887"
             ],
             [
              0.1111111111111111,
              "#46039f"
             ],
             [
              0.2222222222222222,
              "#7201a8"
             ],
             [
              0.3333333333333333,
              "#9c179e"
             ],
             [
              0.4444444444444444,
              "#bd3786"
             ],
             [
              0.5555555555555556,
              "#d8576b"
             ],
             [
              0.6666666666666666,
              "#ed7953"
             ],
             [
              0.7777777777777778,
              "#fb9f3a"
             ],
             [
              0.8888888888888888,
              "#fdca26"
             ],
             [
              1,
              "#f0f921"
             ]
            ],
            "type": "contour"
           }
          ],
          "contourcarpet": [
           {
            "colorbar": {
             "outlinewidth": 0,
             "ticks": ""
            },
            "type": "contourcarpet"
           }
          ],
          "heatmap": [
           {
            "colorbar": {
             "outlinewidth": 0,
             "ticks": ""
            },
            "colorscale": [
             [
              0,
              "#0d0887"
             ],
             [
              0.1111111111111111,
              "#46039f"
             ],
             [
              0.2222222222222222,
              "#7201a8"
             ],
             [
              0.3333333333333333,
              "#9c179e"
             ],
             [
              0.4444444444444444,
              "#bd3786"
             ],
             [
              0.5555555555555556,
              "#d8576b"
             ],
             [
              0.6666666666666666,
              "#ed7953"
             ],
             [
              0.7777777777777778,
              "#fb9f3a"
             ],
             [
              0.8888888888888888,
              "#fdca26"
             ],
             [
              1,
              "#f0f921"
             ]
            ],
            "type": "heatmap"
           }
          ],
          "heatmapgl": [
           {
            "colorbar": {
             "outlinewidth": 0,
             "ticks": ""
            },
            "colorscale": [
             [
              0,
              "#0d0887"
             ],
             [
              0.1111111111111111,
              "#46039f"
             ],
             [
              0.2222222222222222,
              "#7201a8"
             ],
             [
              0.3333333333333333,
              "#9c179e"
             ],
             [
              0.4444444444444444,
              "#bd3786"
             ],
             [
              0.5555555555555556,
              "#d8576b"
             ],
             [
              0.6666666666666666,
              "#ed7953"
             ],
             [
              0.7777777777777778,
              "#fb9f3a"
             ],
             [
              0.8888888888888888,
              "#fdca26"
             ],
             [
              1,
              "#f0f921"
             ]
            ],
            "type": "heatmapgl"
           }
          ],
          "histogram": [
           {
            "marker": {
             "colorbar": {
              "outlinewidth": 0,
              "ticks": ""
             }
            },
            "type": "histogram"
           }
          ],
          "histogram2d": [
           {
            "colorbar": {
             "outlinewidth": 0,
             "ticks": ""
            },
            "colorscale": [
             [
              0,
              "#0d0887"
             ],
             [
              0.1111111111111111,
              "#46039f"
             ],
             [
              0.2222222222222222,
              "#7201a8"
             ],
             [
              0.3333333333333333,
              "#9c179e"
             ],
             [
              0.4444444444444444,
              "#bd3786"
             ],
             [
              0.5555555555555556,
              "#d8576b"
             ],
             [
              0.6666666666666666,
              "#ed7953"
             ],
             [
              0.7777777777777778,
              "#fb9f3a"
             ],
             [
              0.8888888888888888,
              "#fdca26"
             ],
             [
              1,
              "#f0f921"
             ]
            ],
            "type": "histogram2d"
           }
          ],
          "histogram2dcontour": [
           {
            "colorbar": {
             "outlinewidth": 0,
             "ticks": ""
            },
            "colorscale": [
             [
              0,
              "#0d0887"
             ],
             [
              0.1111111111111111,
              "#46039f"
             ],
             [
              0.2222222222222222,
              "#7201a8"
             ],
             [
              0.3333333333333333,
              "#9c179e"
             ],
             [
              0.4444444444444444,
              "#bd3786"
             ],
             [
              0.5555555555555556,
              "#d8576b"
             ],
             [
              0.6666666666666666,
              "#ed7953"
             ],
             [
              0.7777777777777778,
              "#fb9f3a"
             ],
             [
              0.8888888888888888,
              "#fdca26"
             ],
             [
              1,
              "#f0f921"
             ]
            ],
            "type": "histogram2dcontour"
           }
          ],
          "mesh3d": [
           {
            "colorbar": {
             "outlinewidth": 0,
             "ticks": ""
            },
            "type": "mesh3d"
           }
          ],
          "parcoords": [
           {
            "line": {
             "colorbar": {
              "outlinewidth": 0,
              "ticks": ""
             }
            },
            "type": "parcoords"
           }
          ],
          "pie": [
           {
            "automargin": true,
            "type": "pie"
           }
          ],
          "scatter": [
           {
            "marker": {
             "colorbar": {
              "outlinewidth": 0,
              "ticks": ""
             }
            },
            "type": "scatter"
           }
          ],
          "scatter3d": [
           {
            "line": {
             "colorbar": {
              "outlinewidth": 0,
              "ticks": ""
             }
            },
            "marker": {
             "colorbar": {
              "outlinewidth": 0,
              "ticks": ""
             }
            },
            "type": "scatter3d"
           }
          ],
          "scattercarpet": [
           {
            "marker": {
             "colorbar": {
              "outlinewidth": 0,
              "ticks": ""
             }
            },
            "type": "scattercarpet"
           }
          ],
          "scattergeo": [
           {
            "marker": {
             "colorbar": {
              "outlinewidth": 0,
              "ticks": ""
             }
            },
            "type": "scattergeo"
           }
          ],
          "scattergl": [
           {
            "marker": {
             "colorbar": {
              "outlinewidth": 0,
              "ticks": ""
             }
            },
            "type": "scattergl"
           }
          ],
          "scattermapbox": [
           {
            "marker": {
             "colorbar": {
              "outlinewidth": 0,
              "ticks": ""
             }
            },
            "type": "scattermapbox"
           }
          ],
          "scatterpolar": [
           {
            "marker": {
             "colorbar": {
              "outlinewidth": 0,
              "ticks": ""
             }
            },
            "type": "scatterpolar"
           }
          ],
          "scatterpolargl": [
           {
            "marker": {
             "colorbar": {
              "outlinewidth": 0,
              "ticks": ""
             }
            },
            "type": "scatterpolargl"
           }
          ],
          "scatterternary": [
           {
            "marker": {
             "colorbar": {
              "outlinewidth": 0,
              "ticks": ""
             }
            },
            "type": "scatterternary"
           }
          ],
          "surface": [
           {
            "colorbar": {
             "outlinewidth": 0,
             "ticks": ""
            },
            "colorscale": [
             [
              0,
              "#0d0887"
             ],
             [
              0.1111111111111111,
              "#46039f"
             ],
             [
              0.2222222222222222,
              "#7201a8"
             ],
             [
              0.3333333333333333,
              "#9c179e"
             ],
             [
              0.4444444444444444,
              "#bd3786"
             ],
             [
              0.5555555555555556,
              "#d8576b"
             ],
             [
              0.6666666666666666,
              "#ed7953"
             ],
             [
              0.7777777777777778,
              "#fb9f3a"
             ],
             [
              0.8888888888888888,
              "#fdca26"
             ],
             [
              1,
              "#f0f921"
             ]
            ],
            "type": "surface"
           }
          ],
          "table": [
           {
            "cells": {
             "fill": {
              "color": "#EBF0F8"
             },
             "line": {
              "color": "white"
             }
            },
            "header": {
             "fill": {
              "color": "#C8D4E3"
             },
             "line": {
              "color": "white"
             }
            },
            "type": "table"
           }
          ]
         },
         "layout": {
          "annotationdefaults": {
           "arrowcolor": "#2a3f5f",
           "arrowhead": 0,
           "arrowwidth": 1
          },
          "autotypenumbers": "strict",
          "coloraxis": {
           "colorbar": {
            "outlinewidth": 0,
            "ticks": ""
           }
          },
          "colorscale": {
           "diverging": [
            [
             0,
             "#8e0152"
            ],
            [
             0.1,
             "#c51b7d"
            ],
            [
             0.2,
             "#de77ae"
            ],
            [
             0.3,
             "#f1b6da"
            ],
            [
             0.4,
             "#fde0ef"
            ],
            [
             0.5,
             "#f7f7f7"
            ],
            [
             0.6,
             "#e6f5d0"
            ],
            [
             0.7,
             "#b8e186"
            ],
            [
             0.8,
             "#7fbc41"
            ],
            [
             0.9,
             "#4d9221"
            ],
            [
             1,
             "#276419"
            ]
           ],
           "sequential": [
            [
             0,
             "#0d0887"
            ],
            [
             0.1111111111111111,
             "#46039f"
            ],
            [
             0.2222222222222222,
             "#7201a8"
            ],
            [
             0.3333333333333333,
             "#9c179e"
            ],
            [
             0.4444444444444444,
             "#bd3786"
            ],
            [
             0.5555555555555556,
             "#d8576b"
            ],
            [
             0.6666666666666666,
             "#ed7953"
            ],
            [
             0.7777777777777778,
             "#fb9f3a"
            ],
            [
             0.8888888888888888,
             "#fdca26"
            ],
            [
             1,
             "#f0f921"
            ]
           ],
           "sequentialminus": [
            [
             0,
             "#0d0887"
            ],
            [
             0.1111111111111111,
             "#46039f"
            ],
            [
             0.2222222222222222,
             "#7201a8"
            ],
            [
             0.3333333333333333,
             "#9c179e"
            ],
            [
             0.4444444444444444,
             "#bd3786"
            ],
            [
             0.5555555555555556,
             "#d8576b"
            ],
            [
             0.6666666666666666,
             "#ed7953"
            ],
            [
             0.7777777777777778,
             "#fb9f3a"
            ],
            [
             0.8888888888888888,
             "#fdca26"
            ],
            [
             1,
             "#f0f921"
            ]
           ]
          },
          "colorway": [
           "#636efa",
           "#EF553B",
           "#00cc96",
           "#ab63fa",
           "#FFA15A",
           "#19d3f3",
           "#FF6692",
           "#B6E880",
           "#FF97FF",
           "#FECB52"
          ],
          "font": {
           "color": "#2a3f5f"
          },
          "geo": {
           "bgcolor": "white",
           "lakecolor": "white",
           "landcolor": "#E5ECF6",
           "showlakes": true,
           "showland": true,
           "subunitcolor": "white"
          },
          "hoverlabel": {
           "align": "left"
          },
          "hovermode": "closest",
          "mapbox": {
           "style": "light"
          },
          "paper_bgcolor": "white",
          "plot_bgcolor": "#E5ECF6",
          "polar": {
           "angularaxis": {
            "gridcolor": "white",
            "linecolor": "white",
            "ticks": ""
           },
           "bgcolor": "#E5ECF6",
           "radialaxis": {
            "gridcolor": "white",
            "linecolor": "white",
            "ticks": ""
           }
          },
          "scene": {
           "xaxis": {
            "backgroundcolor": "#E5ECF6",
            "gridcolor": "white",
            "gridwidth": 2,
            "linecolor": "white",
            "showbackground": true,
            "ticks": "",
            "zerolinecolor": "white"
           },
           "yaxis": {
            "backgroundcolor": "#E5ECF6",
            "gridcolor": "white",
            "gridwidth": 2,
            "linecolor": "white",
            "showbackground": true,
            "ticks": "",
            "zerolinecolor": "white"
           },
           "zaxis": {
            "backgroundcolor": "#E5ECF6",
            "gridcolor": "white",
            "gridwidth": 2,
            "linecolor": "white",
            "showbackground": true,
            "ticks": "",
            "zerolinecolor": "white"
           }
          },
          "shapedefaults": {
           "line": {
            "color": "#2a3f5f"
           }
          },
          "ternary": {
           "aaxis": {
            "gridcolor": "white",
            "linecolor": "white",
            "ticks": ""
           },
           "baxis": {
            "gridcolor": "white",
            "linecolor": "white",
            "ticks": ""
           },
           "bgcolor": "#E5ECF6",
           "caxis": {
            "gridcolor": "white",
            "linecolor": "white",
            "ticks": ""
           }
          },
          "title": {
           "x": 0.05
          },
          "xaxis": {
           "automargin": true,
           "gridcolor": "white",
           "linecolor": "white",
           "ticks": "",
           "title": {
            "standoff": 15
           },
           "zerolinecolor": "white",
           "zerolinewidth": 2
          },
          "yaxis": {
           "automargin": true,
           "gridcolor": "white",
           "linecolor": "white",
           "ticks": "",
           "title": {
            "standoff": 15
           },
           "zerolinecolor": "white",
           "zerolinewidth": 2
          }
         }
        },
        "title": {
         "text": "Intraburst lick frequency"
        },
        "xaxis": {
         "anchor": "y",
         "domain": [
          0,
          1
         ],
         "range": [
          0,
          0.5
         ],
         "title": {
          "text": "Interlick interval (s)"
         }
        },
        "yaxis": {
         "anchor": "x",
         "domain": [
          0,
          1
         ],
         "title": {
          "text": "Frequency"
         }
        }
       }
      },
      "text/html": [
       "<div>                            <div id=\"58a2f142-a05e-4b65-a73a-2220b8a32f62\" class=\"plotly-graph-div\" style=\"height:525px; width:100%;\"></div>            <script type=\"text/javascript\">                require([\"plotly\"], function(Plotly) {                    window.PLOTLYENV=window.PLOTLYENV || {};                                    if (document.getElementById(\"58a2f142-a05e-4b65-a73a-2220b8a32f62\")) {                    Plotly.newPlot(                        \"58a2f142-a05e-4b65-a73a-2220b8a32f62\",                        [{\"alignmentgroup\": \"True\", \"bingroup\": \"x\", \"hovertemplate\": \"variable=0<br>value=%{x}<br>count=%{y}<extra></extra>\", \"legendgroup\": \"0\", \"marker\": {\"color\": \"#636efa\"}, \"name\": \"0\", \"nbinsx\": 50, \"offsetgroup\": \"0\", \"orientation\": \"v\", \"showlegend\": true, \"type\": \"histogram\", \"x\": [0.07000000000000028, 0.1379999999999999, 0.14999999999999858, 0.14800000000000146, 0.14699999999999847, 0.14500000000000135, 0.14400000000000013, 0.14700000000000024, 0.1659999999999986, 0.13900000000000112, 0.14400000000000013, 0.1429999999999989, 0.1490000000000009, 0.1509999999999998, 0.14199999999999946, 0.14700000000000024, 0.16499999999999915, 0.14400000000000013, 0.14200000000000124, 0.14599999999999902, 0.15399999999999991, 0.1509999999999998, 0.16800000000000104, 0.15000000000000036, 0.14999999999999858, 0.15100000000000158, 0.15199999999999925, 0.15500000000000114, 0.15899999999999892, 0.14699999999999847, 0.17300000000000182, 0.15499999999999758, 0.1440000000000019, 0.15199999999999747, 0.16000000000000014, 0.277000000000001, 0.16199999999999903, 0.1410000000000018, 0.1509999999999998, 0.16199999999999903, 0.1490000000000009, 0.16399999999999793, 0.1670000000000016, 0.15399999999999991, 0.1559999999999988, 0.16199999999999903, 0.15700000000000003, 0.16600000000000037, 0.16000000000000014, 0.16499999999999915, 0.17099999999999937, 0.17900000000000205, 0.1839999999999975, 0.15600000000000236, 0.14999999999999858, 0.15700000000000003, 0.16900000000000048, 0.15399999999999991, 0.14700000000000202, 0.15199999999999747, 0.16000000000000014, 0.15900000000000247, 0.1609999999999978, 0.14700000000000202, 0.30799999999999983, 0.14699999999999847, 0.16100000000000136, 0.14299999999999713, 0.1509999999999998, 0.16000000000000014, 0.16100000000000136, 0.1579999999999977, 0.15600000000000236, 0.14999999999999858, 0.15899999999999892, 0.16600000000000037, 0.17099999999999937, 0.1479999999999997, 0.15300000000000225, 0.15499999999999758, 0.16000000000000014, 0.1720000000000006, 0.14999999999999858, 0.15700000000000003, 0.15800000000000125, 0.16499999999999915, 0.15499999999999758, 0.125, 0.1720000000000006, 0.18100000000000094, 0.14599999999999724, 0.15800000000000125, 0.15399999999999991, 0.16100000000000136, 0.14799999999999613, 0.20199999999999818, 0.2710000000000008, 0.1629999999999967, 0.142000000000003, 0.14300000000000068, 0.15899999999999892, 0.18599999999999994, 0.17199999999999704, 0.14300000000000068, 0.12399999999999523, 0.13700000000000045, 0.14500000000000313, 0.14300000000000068, 0.05799999999999983, 0.11299999999999955, 0.1490000000000009, 0.1559999999999988, 0.15200000000000102, 0.16100000000000136, 0.1460000000000008, 0.14799999999999613, 0.15400000000000347, 0.13000000000000256, 0.15899999999999892, 0.15899999999999892, 0.15099999999999625, 0.1670000000000016, 0.1529999999999987, 0.14300000000000068, 0.17200000000000415, 0.14999999999999858, 0.16899999999999693, 0.16100000000000136, 0.17099999999999937, 0.13800000000000523, 0.16499999999999915, 0.134999999999998, 0.13700000000000045, 0.14500000000000313, 0.15899999999999892, 0.14499999999999602, 0.15400000000000347, 0.1529999999999987, 0.1600000000000037, 0.1490000000000009, 0.09499999999999886, 0.13700000000000045, 0.08499999999999375, 0.1360000000000099, 0.13400000000000034, 0.1559999999999917, 0.15000000000000568, 0.11299999999999955, 0.12300000000000466, 0.13299999999999557, 0.15400000000001057, 0.1460000000000008, 0.14999999999999147, 0.14400000000000546, 0.125, 0.14300000000000068, 0.12699999999999534, 0.13800000000000523, 0.1490000000000009, 0.1529999999999916, 0.17900000000000205, 0.1770000000000067, 0.11599999999999966, 0.11599999999999966, 0.117999999999995, 0.1150000000000091, 0.12699999999999534, 0.13400000000000034, 0.1419999999999959, 0.15200000000000102, 0.17300000000000182, 0.18900000000000716, 0.1490000000000009, 0.12599999999999056, 0.13700000000000045, 0.12999999999999545, 0.1600000000000108, 0.13700000000000045, 0.12899999999999068, 0.12600000000000477, 0.13100000000000023, 0.1290000000000049, 0.1319999999999908, 0.13700000000000045, 0.13300000000000978, 0.15099999999999625, 0.14499999999999602, 0.12700000000000955, 0.13400000000000034, 0.14699999999999136, 0.14799999999999613, 0.1670000000000016, 0.1360000000000099, 0.14799999999999613, 0.15500000000000114, 0.13700000000000045, 0.1349999999999909, 0.1460000000000008, 0.1490000000000009, 0.15100000000001046, 0.15699999999999648, 0.12399999999999523, 0.14800000000001035, 0.14399999999999125, 0.14100000000000534, 0.13799999999999102, 0.29000000000000625, 0.1290000000000049, 0.17399999999999238, 0.17499999999999716, 0.14400000000000546, 0.17799999999999727, 0.15900000000000603, 0.16199999999999193, 0.17800000000001148, 0.1699999999999875, 0.1220000000000141, 0.15899999999999181, 0.15200000000000102, 0.14700000000000557, 0.16199999999999193, 0.16200000000000614, 0.18500000000000227, 0.28600000000000136, 0.13299999999999557, 0.13800000000000523, 0.14099999999999113, 0.16800000000000637, 0.3269999999999982, 0.1769999999999925, 0.1570000000000107, 0.14000000000000057, 0.15200000000000102, 0.17099999999999227, 0.18500000000000227, 0.1770000000000067, 0.14000000000000057, 0.1799999999999926, 0.17799999999999727, 0.13400000000000034, 0.1360000000000099, 0.125, 0.13799999999999102, 0.13700000000000045, 0.13500000000000512, 0.17799999999999727, 0.1600000000000108, 0.12599999999999056, 0.16400000000000148, 0.1419999999999959, 0.15100000000001046, 0.12699999999999534, 0.14499999999999602, 0.14700000000000557, 0.14100000000000534, 0.16499999999999204, 0.15800000000000125, 0.1560000000000059, 0.12999999999999545, 0.1670000000000016, 0.1799999999999926, 0.14400000000000546, 0.13400000000000034, 0.15399999999999636, 0.1360000000000099, 0.1529999999999916, 0.14799999999999613, 0.30800000000000693, 0.16200000000000614, 0.1460000000000008, 0.13699999999998624, 0.1290000000000049, 0.15200000000000102, 0.12699999999999534, 0.1570000000000107, 0.15800000000000125, 0.14699999999999136, 0.1770000000000067, 0.16100000000000136, 0.15699999999998226, 0.15400000000002478, 0.13999999999998636, 0.13800000000000523, 0.13700000000000045, 0.15500000000000114, 0.13100000000000023, 0.132000000000005, 0.29599999999999227, 0.1419999999999959, 0.14300000000000068, 0.15200000000001523, 0.15699999999998226, 0.146000000000015, 0.13700000000000045, 0.28899999999998727, 0.2980000000000018, 0.1349999999999909, 0.4490000000000123, 0.14099999999999113, 0.13900000000001, 0.1490000000000009, 0.14500000000001023, 0.15399999999999636, 0.117999999999995, 0.12399999999999523, 0.13800000000000523, 0.13899999999998158, 0.15100000000001046, 0.146000000000015, 0.14999999999997726, 0.16200000000000614, 0.14000000000001478, 0.1449999999999818, 0.13800000000000523, 0.15200000000001523, 0.14699999999999136, 0.31100000000000705, 0.14099999999999113, 0.1419999999999959, 0.14799999999999613, 0.15900000000002024, 0.1279999999999859, 0.15500000000000114, 0.13900000000001, 0.13999999999998636, 0.16599999999999682, 0.14799999999999613, 0.15300000000002, 0.132000000000005, 0.16399999999998727, 0.14300000000000068, 0.13899999999998158, 0.14200000000002433, 0.1529999999999916, 0.1419999999999959, 0.14300000000000068, 0.15100000000001046, 0.16100000000000136, 0.13700000000000045, 0.1379999999999768, 0.2880000000000109, 0.16200000000000614, 0.13999999999998636, 0.13500000000001933, 0.14699999999999136, 0.1560000000000059, 0.1419999999999959, 0.14599999999998658, 0.146000000000015, 0.1670000000000016, 0.14300000000000068, 0.14799999999999613, 0.14400000000000546, 0.1419999999999959, 0.1529999999999916, 0.16300000000001091, 0.1349999999999909, 0.14400000000000546, 0.132000000000005, 0.16599999999999682, 0.1419999999999959, 0.16800000000000637, 0.14300000000000068, 0.14400000000000546, 0.15699999999998226, 0.146000000000015, 0.14300000000000068, 0.1419999999999959, 0.1519999999999868, 0.16200000000000614, 0.13300000000000978, 0.14599999999998658, 0.15800000000001546, 0.17199999999999704, 0.12899999999999068, 0.1349999999999909, 0.15900000000002024, 0.1519999999999868, 0.15200000000001523, 0.17099999999999227, 0.1570000000000107, 0.14999999999997726, 0.15200000000001523, 0.14300000000000068, 0.16100000000000136, 0.17199999999999704, 0.19200000000000728, 0.17900000000000205, 0.17099999999999227, 0.13299999999998136, 0.1490000000000009, 0.1570000000000107, 0.15500000000000114, 0.17099999999999227, 0.1599999999999966, 0.13900000000001, 0.1419999999999959, 0.15500000000000114, 0.1490000000000009, 0.14699999999999136, 0.14300000000000068, 0.13899999999998158, 0.15200000000001523, 0.16100000000000136, 0.14099999999999113, 0.146000000000015, 0.1449999999999818, 0.1670000000000016, 0.1640000000000157, 0.14400000000000546, 0.1449999999999818, 0.16499999999999204, 0.15200000000001523, 0.15500000000000114, 0.13800000000000523, 0.1490000000000009, 0.4579999999999984, 0.1449999999999818, 0.15500000000000114, 0.15800000000001546, 0.15000000000000568, 0.1150000000000091, 0.14300000000000068, 0.13299999999998136, 0.15000000000000568, 0.13800000000000523, 0.16200000000000614, 0.45400000000000773, 0.1599999999999966, 0.15399999999999636, 0.46000000000000796, 0.14000000000001478, 0.09299999999998931, 0.06700000000000728, 0.14799999999999613, 0.14099999999999113, 0.146000000000015, 0.13999999999998636, 0.15900000000002024, 0.1670000000000016, 0.30400000000000205, 0.1640000000000157, 0.17499999999998295, 0.15800000000001546, 0.16100000000000136, 0.1699999999999875, 0.18700000000001182, 0.14699999999999136, 0.14500000000001023, 0.1529999999999916, 0.15899999999999181, 0.14100000000001955, 0.14300000000000068, 0.14999999999997726, 0.1640000000000157, 0.15100000000001046, 0.14300000000000068, 0.15000000000000568, 0.16800000000000637, 0.14099999999999113, 0.15500000000000114, 0.14300000000000068, 0.15200000000001523, 0.17499999999998295, 0.14000000000001478, 0.16100000000000136, 0.18000000000000682, 0.1769999999999925, 0.13599999999999568, 0.16800000000000637, 0.43199999999998795, 0.16200000000000614, 0.1529999999999916, 0.13700000000000045, 0.13800000000000523, 0.1570000000000107, 0.15699999999998226, 0.1560000000000059, 0.3499999999999943, 0.10499999999998977, 0.12300000000001887, 0.15500000000000114, 0.16399999999998727, 0.13599999999999568, 0.12399999999999523, 0.15000000000000568, 0.17900000000000205, 0.1349999999999909, 0.1220000000000141, 0.09999999999999432, 0.16399999999998727, 0.1490000000000009, 0.14100000000001955, 0.17300000000000182, 0.13100000000000023, 0.13500000000001933, 0.14699999999999136, 0.16300000000001091, 0.14399999999997704, 0.13700000000000045, 0.15200000000001523, 0.14500000000001023, 0.1490000000000009, 0.15899999999999181, 0.14300000000000068, 0.14599999999998658, 0.16300000000001091, 0.14500000000001023, 0.14500000000001023, 0.14099999999999113, 0.16499999999999204, 0.146000000000015, 0.13599999999999568, 0.15800000000001546, 0.14099999999999113, 0.1419999999999959, 0.15899999999999181, 0.16300000000001091, 0.14000000000001478, 0.16199999999997772, 0.17500000000001137, 0.1560000000000059, 0.1529999999999916, 0.1560000000000059, 0.13399999999998613, 0.1529999999999916, 0.1490000000000009, 0.14700000000001978, 0.1529999999999916, 0.14599999999998658, 0.14700000000001978, 0.15899999999999181, 0.17600000000001614, 0.13899999999998158, 0.14100000000001955, 0.14599999999998658, 0.1490000000000009, 0.12600000000000477, 0.14300000000000068, 0.12999999999999545, 0.13800000000000523, 0.1599999999999966, 0.15500000000000114, 0.3119999999999834, 0.13700000000000045, 0.46700000000001296, 0.13700000000000045, 0.4579999999999984, 0.14400000000000546, 0.28600000000000136, 0.13700000000000045, 0.1560000000000059, 0.14300000000000068, 0.15799999999998704, 0.13900000000001, 0.1419999999999959, 0.14599999999998658, 0.10499999999998977, 0.15500000000000114, 0.13400000000001455, 0.12299999999999045, 0.1419999999999959, 0.13400000000001455, 0.14699999999999136, 0.14799999999999613, 0.13100000000000023, 0.14099999999999113, 0.1570000000000107, 0.14200000000002433, 0.1150000000000091, 0.14400000000000546, 0.13999999999998636, 0.14400000000000546, 0.1519999999999868, 0.16600000000002524, 0.18700000000001182, 0.1529999999999916, 0.1560000000000059, 0.14500000000001023, 0.16699999999997317, 0.1670000000000016, 0.19700000000000273, 0.3710000000000093, 0.13900000000001, 0.17300000000000182, 0.15500000000000114, 0.41100000000000136, 0.12399999999999523, 0.20900000000000318, 0.1360000000000241, 0.15699999999998226, 0.06399999999999295, 0.07800000000000296, 0.15000000000000568, 0.17500000000001137, 0.11200000000002319, 0.07999999999998408, 0.117999999999995, 0.2230000000000132, 0.3090000000000259, 0.3199999999999932, 0.1309999999999718, 0.13700000000000045, 0.14699999999999136, 0.2189999999999941, 0.11700000000001864, 0.15299999999996317, 0.1500000000000341, 0.30000000000001137, 0.1490000000000009, 0.10500000000001819, 0.12199999999995725, 0.12800000000004275, 0.1369999999999436, 0.13999999999998636, 0.1449999999999818, 0.13800000000003365, 0.15200000000004366, 0.2719999999999345, 0.09699999999997999, 0.11700000000007549, 0.1129999999999427, 0.13600000000008095, 0.12199999999995725, 0.1349999999999909, 0.13599999999996726, 0.1290000000000191, 0.13200000000006185, 0.1309999999999718, 0.14699999999993452, 0.13400000000001455, 0.1209999999999809, 0.1290000000000191, 0.1290000000000191, 0.15800000000001546, 0.1150000000000091, 0.12400000000002365, 0.14299999999991542, 0.13800000000003365, 0.13800000000003365, 0.1229999999999336, 0.13800000000003365, 0.1230000000000473, 0.14599999999995816, 0.13999999999998636, 0.11800000000005184, 0.12599999999997635, 0.15800000000001546, 0.1349999999999909, 0.125, 0.12999999999999545, 0.15099999999995362, 0.1450000000000955, 0.13799999999991996, 0.125, 0.1230000000000473, 0.15999999999996817, 0.14999999999997726, 0.1270000000000664, 0.15199999999992997, 0.17400000000009186, 0.14599999999995816, 0.1309999999999718, 0.11800000000005184, 0.14599999999995816, 0.1470000000000482, 0.1329999999999245, 0.13400000000001455, 0.1490000000000009, 0.15499999999997272, 0.1370000000000573, 0.1309999999999718, 0.1309999999999718, 0.14800000000002456, 0.1430000000000291, 0.18299999999999272, 0.1349999999999909, 0.1570000000000391, 0.17999999999994998, 0.16899999999998272, 0.1690000000000964, 0.15699999999992542, 0.12999999999999545, 0.14600000000007185, 0.1409999999999627, 0.125, 0.13800000000003365, 0.1490000000000009, 0.1349999999999909, 0.12999999999999545, 0.1369999999999436, 0.16000000000008185, 0.16099999999994452, 0.16200000000003456, 0.14299999999991542, 0.1410000000000764, 0.12799999999992906, 0.13600000000008095, 0.1290000000000191, 0.13399999999990087, 0.13900000000001, 0.1410000000000764, 0.1409999999999627, 0.1230000000000473, 0.1289999999999054, 0.13400000000001455, 0.1270000000000664, 0.1309999999999718, 0.14999999999997726, 0.1409999999999627, 0.12200000000007094, 0.14800000000002456, 0.1289999999999054, 0.12800000000004275, 0.1309999999999718, 0.14400000000000546, 0.15600000000006276, 0.17300000000000182, 0.1490000000000009, 0.16300000000001091, 0.12599999999997635, 0.13800000000003365, 0.06799999999998363, 0.07099999999991269, 0.12800000000004275, 0.1430000000000291, 0.13200000000006185, 0.16399999999998727, 0.11000000000001364, 0.1309999999999718, 0.13900000000001, 0.1349999999999909, 0.13199999999994816, 0.1470000000000482, 0.13800000000003365, 0.14299999999991542, 0.15800000000001546, 0.1370000000000573, 0.1430000000000291, 0.1369999999999436, 0.14200000000005275, 0.1409999999999627, 0.14699999999993452, 0.15399999999999636, 0.13800000000003365, 0.13400000000001455, 0.14200000000005275, 0.13900000000001, 0.1409999999999627, 0.1570000000000391, 0.13599999999996726, 0.13400000000001455, 0.12999999999999545, 0.14199999999993906, 0.1410000000000764, 0.1369999999999436, 0.13599999999996726, 0.14600000000007185, 0.14199999999993906, 0.15300000000002, 0.13599999999996726, 0.13800000000003365, 0.28899999999998727, 0.28100000000006276, 0.27299999999991087, 0.1710000000000491, 0.12199999999995725, 0.15200000000004366, 0.12599999999997635, 0.12400000000002365, 0.18299999999999272, 0.26400000000001, 0.3450000000000273, 0.1409999999999627, 0.2659999999999627, 0.13800000000003365, 0.1430000000000291, 0.1369999999999436, 0.18000000000006366, 0.14199999999993906, 0.25, 0.15899999999999181, 0.12600000000009004, 0.1309999999999718, 0.016000000000076398, 0.15499999999997272, 0.31399999999996453, 0.3830000000000382, 0.13999999999998636, 0.27499999999997726, 0.45699999999999363, 0.1230000000000473, 0.1409999999999627, 0.13600000000008095, 0.13799999999991996, 0.14999999999997726, 0.1490000000000009, 0.1610000000000582, 0.2740000000000009, 0.1430000000000291, 0.1409999999999627, 0.1490000000000009, 0.15499999999997272, 0.3160000000000309, 0.1430000000000291, 0.14699999999993452, 0.16300000000001091, 0.16399999999998727, 0.12999999999999545, 0.13900000000001, 0.27700000000004366, 0.1290000000000191, 0.12599999999997635, 0.14999999999997726, 0.13800000000003365, 0.14800000000002456, 0.18199999999990268, 0.11300000000005639, 0.13999999999998636, 0.1490000000000009, 0.2720000000000482, 0.16300000000001091, 0.17999999999994998, 0.2540000000000191, 0.14199999999993906, 0.13999999999998636, 0.28500000000008185, 0.29700000000002547, 0.15299999999990632, 0.14600000000007185, 0.13900000000001, 0.13999999999998636, 0.1449999999999818, 0.13999999999998636, 0.15899999999999181, 0.13599999999996726, 0.29100000000005366, 0.1430000000000291, 0.2919999999999163, 0.14200000000005275, 0.17999999999994998, 0.10599999999999454, 0.29500000000007276, 0.12999999999999545, 0.30999999999994543, 0.01700000000005275, 0.12400000000002365, 0.14400000000000546, 0.31399999999996453, 0.12000000000000455, 0.15499999999997272, 0.15999999999996817, 0.1650000000000773, 0.13400000000001455, 0.14999999999997726, 0.12799999999992906, 0.1230000000000473, 0.14400000000000546, 0.14400000000000546, 0.16699999999991633, 0.13600000000008095, 0.1169999999999618, 0.1490000000000009, 0.009000000000014552, 0.1269999999999527, 0.1710000000000491, 0.12599999999997635, 0.27899999999999636, 0.1510000000000673, 0.1369999999999436, 0.1610000000000582, 0.16199999999992087, 0.13200000000006185, 0.1209999999999809, 0.17200000000002547, 0.1269999999999527, 0.1449999999999818, 0.14400000000000546, 0.1750000000000682, 0.13799999999991996, 0.14800000000002456, 0.15599999999994907, 0.14600000000007185, 0.1369999999999436, 0.13600000000008095, 0.15299999999990632, 0.17200000000002547, 0.1349999999999909, 0.1650000000000773, 0.13199999999994816, 0.1430000000000291, 0.15599999999994907, 0.1449999999999818, 0.1470000000000482, 0.12599999999997635, 0.14400000000000546, 0.14599999999995816, 0.1410000000000764, 0.14400000000000546, 0.14999999999997726, 0.15899999999999181, 0.1349999999999909, 0.14800000000002456, 0.15199999999992997, 0.1410000000000764, 0.11199999999996635, 0.15300000000002, 0.14800000000002456, 0.15199999999992997, 0.17000000000007276, 0.1289999999999054, 0.14400000000000546, 0.16200000000003456, 0.14400000000000546, 0.1410000000000764, 0.14999999999997726, 0.13900000000001, 0.1369999999999436, 0.16399999999998727, 0.13799999999991996, 0.16899999999998272, 0.14600000000007185, 0.1309999999999718, 0.14800000000002456, 0.1409999999999627, 0.13900000000001, 0.15499999999997272, 0.14600000000007185, 0.13999999999998636, 0.14999999999997726, 0.14400000000000546, 0.15000000000009095, 0.15300000000002, 0.13999999999998636, 0.14200000000005275, 0.13599999999996726, 0.1309999999999718, 0.15000000000009095, 0.1369999999999436, 0.14000000000010004, 0.13899999999989632, 0.1410000000000764, 0.14800000000002456, 0.14799999999991087, 0.42400000000009186, 0.15899999999999181, 0.125, 0.13399999999990087, 0.13600000000008095, 0.13799999999991996, 0.1430000000000291, 0.15600000000006276, 0.14599999999995816, 0.13999999999998636, 0.15600000000006276, 0.14299999999991542, 0.13600000000008095, 0.15499999999997272, 0.1449999999999818, 0.13400000000001455, 0.09900000000004638, 0.06299999999998818, 0.16599999999993997, 0.14600000000007185, 0.14199999999993906, 0.1150000000000091, 0.03999999999996362, 0.1570000000000391, 0.15300000000002, 0.13799999999991996, 0.15300000000002, 0.14800000000002456, 0.13400000000001455, 0.1430000000000291, 0.1409999999999627, 0.1270000000000664, 0.033999999999991815, 0.20100000000002183, 0.14799999999991087, 0.1470000000000482, 0.16499999999996362, 0.13600000000008095, 0.10599999999999454, 0.043000000000006366, 0.17099999999993543, 0.1169999999999618, 0.1570000000000391, 0.10199999999997544, 0.13999999999998636, 0.14600000000007185, 0.1330000000000382, 0.1430000000000291, 0.14800000000002456, 0.12000000000000455, 0.14299999999991542, 0.125, 0.04600000000004911, 0.1430000000000291, 0.16399999999998727, 0.125, 0.17599999999993088, 0.4410000000000309, 0.13400000000001455, 0.27800000000002, 0.46299999999996544, 0.2799999999999727, 0.1470000000000482, 0.1449999999999818, 0.15200000000004366, 0.15399999999999636, 0.12000000000000455, 0.028999999999996362, 0.16499999999996362, 0.17700000000002092, 0.15499999999997272, 0.23299999999994725, 0.11600000000009913, 0.18099999999992633, 0.1370000000000573, 0.03099999999994907, 0.2400000000000091, 0.031000000000062755, 0.15199999999992997, 0.1349999999999909, 0.1330000000000382, 0.12999999999999545, 0.1449999999999818, 0.1470000000000482, 0.1409999999999627, 0.009000000000014552, 0.15800000000001546, 0.12400000000002365, 0.15399999999999636, 0.12399999999990996, 0.1550000000000864, 0.13399999999990087, 0.10300000000006548, 0.18399999999996908, 0.08900000000005548, 0.03599999999994452, 0.14400000000000546, 0.4329999999999927, 0.12400000000002365, 0.06100000000003547, 0.13999999999998636, 0.11599999999998545, 0.051000000000044565, 0.1309999999999718, 0.1029999999999518, 0.038000000000010914, 0.10300000000006548, 0.2159999999998945, 0.16400000000010095, 0.3789999999999054, 0.033999999999991815, 0.16700000000003, 0.14999999999997726, 0.10900000000003729, 0.26499999999998636, 0.055000000000063665, 0.1229999999999336, 0.04600000000004911, 0.18399999999996908, 0.32200000000000273, 0.13400000000001455, 0.1349999999999909, 0.06200000000001182, 0.17700000000002092, 0.19299999999998363, 0.29700000000002547, 0.2869999999999209, 0.15300000000002, 0.1069999999999709, 0.06100000000003547, 0.11099999999999, 0.04800000000000182, 0.14200000000005275, 0.1089999999999236, 0.11800000000005184, 0.04099999999993997, 0.13600000000008095, 0.1490000000000009, 0.125, 0.02800000000002001, 0.2819999999999254, 0.3039999999999736, 0.13600000000008095, 0.1229999999999336, 0.02800000000002001, 0.1610000000000582, 0.31799999999998363, 0.13599999999996726, 0.25900000000001455, 0.12800000000004275, 0.032999999999901775, 0.27800000000002, 0.2799999999999727, 0.43100000000004, 0.1270000000000664, 0.14699999999993452, 0.13200000000006185, 0.15899999999999181, 0.14599999999995816, 0.1610000000000582, 0.15499999999997272, 0.15899999999999181, 0.15699999999992542, 0.12100000000009459, 0.017999999999915417, 0.44400000000007367, 0.16499999999996362, 0.27700000000004366, 0.15899999999999181, 0.06299999999998818, 0.15499999999997272, 0.17899999999997362, 0.1290000000000191, 0.06700000000000728, 0.16300000000001091, 0.05700000000001637, 0.1290000000000191, 0.16499999999996362, 0.13599999999996726, 0.13600000000008095, 0.12799999999992906, 0.1610000000000582, 0.1369999999999436, 0.18000000000006366, 0.11899999999991451, 0.1370000000000573, 0.13999999999998636, 0.13599999999996726, 0.31500000000005457, 0.12199999999995725, 0.1470000000000482, 0.15599999999994907, 0.1410000000000764, 0.1449999999999818, 0.1409999999999627, 0.15399999999999636, 0.4350000000000591, 0.1369999999999436, 0.4189999999999827, 0.023000000000024556, 0.1409999999999627, 0.1430000000000291, 0.15099999999995362, 0.13800000000003365, 0.13799999999991996, 0.1550000000000864, 0.1369999999999436, 0.1330000000000382, 0.13999999999998636, 0.1490000000000009, 0.1369999999999436, 0.16200000000003456, 0.13900000000001, 0.15600000000006276, 0.14999999999997726, 0.22000000000002728, 0.1470000000000482, 0.13999999999998636, 0.13599999999996726, 0.1490000000000009, 0.15499999999997272, 0.1409999999999627, 0.13200000000006185, 0.15699999999992542, 0.1490000000000009, 0.18399999999996908, 0.13900000000001, 0.14200000000005275, 0.1430000000000291, 0.11799999999993815, 0.1410000000000764, 0.13999999999998636, 0.1449999999999818, 0.14199999999993906, 0.14600000000007185, 0.16099999999994452, 0.14600000000007185, 0.14199999999993906, 0.15200000000004366, 0.14800000000002456, 0.1490000000000009, 0.15699999999992542, 0.14800000000002456, 0.1490000000000009, 0.14800000000002456, 0.15399999999999636, 0.14800000000002456, 0.15299999999990632, 0.1410000000000764, 0.14699999999993452, 0.3100000000000591, 0.14199999999993906, 0.1570000000000391, 0.1610000000000582, 0.1409999999999627, 0.16599999999993997, 0.15200000000004366, 0.1490000000000009, 0.14599999999995816, 0.1510000000000673, 0.1490000000000009, 0.1129999999999427, 0.1570000000000391, 0.15499999999997272, 0.1570000000000391, 0.16999999999995907, 0.1430000000000291, 0.1409999999999627, 0.14999999999997726, 0.28700000000003456, 0.17000000000007276, 0.43899999999996453, 0.2799999999999727, 0.1470000000000482, 0.1169999999999618, 0.1790000000000873, 0.12799999999992906, 0.12600000000009004, 0.15299999999990632, 0.13200000000006185, 0.1209999999999809, 0.15300000000002, 0.14400000000000546, 0.1409999999999627, 0.15800000000001546, 0.12999999999999545, 0.13999999999998636, 0.15600000000006276, 0.009999999999990905, 0.14599999999995816, 0.15399999999999636, 0.14800000000002456, 0.14800000000002456, 0.1369999999999436, 0.12199999999995725, 0.16800000000000637, 0.13900000000001, 0.15099999999995362, 0.15299999999990632, 0.1650000000000773, 0.15399999999999636, 0.16699999999991633, 0.13600000000008095, 0.1449999999999818, 0.14400000000000546, 0.13999999999998636, 0.1570000000000391, 0.1409999999999627, 0.16999999999995907, 0.14400000000000546, 0.13999999999998636, 0.14600000000007185, 0.16099999999994452, 0.1270000000000664, 0.1330000000000382, 0.14400000000000546, 0.125, 0.1430000000000291, 0.3079999999999927, 0.15200000000004366, 0.19399999999995998, 0.4420000000000073, 0.14599999999995816, 0.1430000000000291, 0.13900000000001, 0.10400000000004184, 0.4939999999999145, 0.11600000000009913, 0.18199999999990268, 0.3180000000000973, 0.2759999999999536, 0.30299999999999727, 0.1409999999999627, 0.027000000000043656, 0.15200000000004366, 0.30199999999990723, 0.12400000000002365, 0.031000000000062755, 0.13999999999998636, 0.1349999999999909, 0.15999999999996817, 0.1449999999999818, 0.17200000000002547, 0.1410000000000764, 0.2869999999999209, 0.1470000000000482, 0.13900000000001, 0.26900000000000546, 0.13599999999996726, 0.1430000000000291, 0.1369999999999436, 0.1410000000000764, 0.14400000000000546, 0.14400000000000546, 0.14199999999993906, 0.3089999999999691, 0.13900000000001, 0.14200000000005275, 0.14599999999995816, 0.15599999999994907, 0.1550000000000864, 0.17699999999990723, 0.13200000000006185, 0.1229999999999336, 0.16200000000003456, 0.12199999999995725, 0.15099999999995362, 0.14800000000002456, 0.18099999999992633, 0.1229999999999336, 0.1349999999999909, 0.15800000000001546, 0.1449999999999818, 0.1270000000000664, 0.15599999999994907, 0.1430000000000291, 0.1470000000000482, 0.14299999999991542, 0.17600000000004457, 0.13999999999998636, 0.16200000000003456, 0.19099999999991724, 0.1330000000000382, 0.16200000000003456, 0.16499999999996362, 0.11300000000005639, 0.17899999999997362, 0.2949999999999591, 0.27300000000002456, 0.1430000000000291, 0.13400000000001455, 0.1370000000000573, 0.012999999999919964, 0.15800000000001546, 0.1430000000000291, 0.15200000000004366, 0.13199999999994816, 0.13900000000001, 0.14199999999993906, 0.1410000000000764, 0.15699999999992542, 0.17800000000011096, 0.3990000000000009, 0.1290000000000191, 0.13999999999998636, 0.1430000000000291, 0.14699999999993452, 0.16300000000001091, 0.11000000000001364, 0.4479999999999791, 0.06299999999998818, 0.11799999999993815, 0.1550000000000864, 0.09299999999996089, 0.04399999999998272, 0.12199999999995725, 0.14400000000000546, 0.12100000000009459, 0.12599999999997635, 0.1329999999999245, 0.13800000000003365, 0.1209999999999809, 0.14200000000005275, 0.13999999999998636, 0.26900000000000546, 0.4410000000000309, 0.12799999999992906, 0.15200000000004366, 0.13400000000001455, 0.13599999999996726, 0.13800000000003365, 0.1229999999999336, 0.14999999999997726, 0.13800000000003365, 0.16600000000005366, 0.1269999999999527, 0.12200000000007094, 0.11599999999998545, 0.12199999999995725, 0.1290000000000191, 0.12400000000002365, 0.1269999999999527, 0.11599999999998545, 0.12200000000007094, 0.11899999999991451, 0.11800000000005184, 0.1230000000000473, 0.1289999999999054, 0.1349999999999909, 0.1190000000000282, 0.15200000000004366, 0.24299999999993815, 0.1310000000000855, 0.14999999999997726, 0.1410000000000764, 0.12399999999990996, 0.12000000000000455, 0.13200000000006185, 0.14599999999995816, 0.1309999999999718, 0.12800000000004275, 0.1169999999999618, 0.1430000000000291, 0.1230000000000473, 0.1430000000000291, 0.11799999999993815, 0.13900000000001, 0.14400000000000546, 0.12199999999995725, 0.1290000000000191, 0.13900000000001, 0.12999999999999545, 0.30100000000004457, 0.1409999999999627, 0.1209999999999809, 0.1330000000000382, 0.13400000000001455, 0.15999999999996817, 0.1570000000000391, 0.3009999999999309, 0.1430000000000291, 0.13200000000006185, 0.1449999999999818, 0.125, 0.17999999999994998, 0.17399999999997817, 0.1209999999999809, 0.13000000000010914, 0.15199999999992997, 0.14800000000002456, 0.1369999999999436, 0.13200000000006185, 0.1430000000000291, 0.15099999999995362, 0.12199999999995725, 0.13400000000001455, 0.19000000000005457, 0.15899999999999181, 0.11599999999998545, 0.1430000000000291, 0.16699999999991633, 0.15000000000009095, 0.14699999999993452, 0.1310000000000855, 0.16999999999995907, 0.12400000000002365, 0.14799999999991087, 0.18800000000010186, 0.19499999999993634, 0.17799999999999727, 0.16200000000003456, 0.14800000000002456, 0.16199999999992087, 0.1610000000000582, 0.15599999999994907, 0.14600000000007185, 0.1269999999999527, 0.15999999999996817, 0.1470000000000482, 0.13800000000003365, 0.1490000000000009, 0.1369999999999436, 0.43100000000004, 0.1470000000000482, 0.14400000000000546, 0.13199999999994816, 0.14599999999995816, 0.1270000000000664, 0.16200000000003456, 0.1449999999999818, 0.13599999999996726, 0.17300000000000182, 0.1309999999999718, 0.14999999999997726, 0.1550000000000864, 0.15300000000002, 0.13799999999991996, 0.18900000000007822, 0.16099999999994452, 0.18200000000001637, 0.16999999999995907, 0.1370000000000573, 0.15999999999996817, 0.12999999999999545, 0.15800000000001546, 0.1230000000000473, 0.16899999999998272, 0.15499999999997272, 0.13400000000001455, 0.125, 0.14599999999995816, 0.14800000000002456, 0.13999999999998636, 0.1409999999999627, 0.14200000000005275, 0.14999999999997726, 0.13199999999994816, 0.16600000000005366, 0.14199999999993906, 0.1450000000000955, 0.1349999999999909, 0.1490000000000009, 0.13900000000001, 0.15499999999997272, 0.16099999999994452, 0.1470000000000482, 0.1409999999999627, 0.1470000000000482, 0.15300000000002, 0.14199999999993906, 0.15600000000006276, 0.15799999999990177, 0.1470000000000482, 0.12599999999997635, 0.1330000000000382, 0.1369999999999436, 0.1650000000000773, 0.14599999999995816, 0.15300000000002, 0.13900000000001, 0.13400000000001455, 0.1270000000000664, 0.1490000000000009, 0.15399999999999636, 0.14699999999993452, 0.1430000000000291, 0.13599999999996726, 0.14800000000002456, 0.1330000000000382, 0.1570000000000391, 0.13199999999994816, 0.14800000000002456, 0.15399999999999636, 0.14999999999997726, 0.1490000000000009, 0.12599999999997635, 0.1449999999999818, 0.1309999999999718, 0.13800000000003365, 0.13900000000001, 0.13600000000008095, 0.2959999999999354, 0.1410000000000764, 0.29099999999994, 0.15499999999997272, 0.13800000000003365, 0.16200000000003456, 0.16499999999996362, 0.12999999999999545, 0.1350000000001046, 0.13599999999996726, 0.12999999999999545, 0.1349999999999909, 0.14400000000000546, 0.1369999999999436, 0.1510000000000673, 0.1490000000000009, 0.14599999999995816, 0.13999999999998636, 0.14600000000007185, 0.1449999999999818, 0.1490000000000009, 0.16499999999996362, 0.15499999999997272, 0.1470000000000482, 0.17200000000002547, 0.15699999999992542, 0.1570000000000391, 0.17799999999999727, 0.15999999999996817, 0.18299999999999272, 0.18400000000008276, 0.1349999999999909, 0.17899999999997362, 0.14999999999997726, 0.1169999999999618, 0.15200000000004366, 0.09100000000000819, 0.05999999999994543, 0.08100000000001728, 0.25, 0.1430000000000291, 0.14999999999997726, 0.1409999999999627, 0.16399999999998727, 0.14600000000007185, 0.15499999999997272, 0.15099999999995362, 0.14200000000005275, 0.16300000000001091, 0.14599999999995816, 0.1150000000000091, 0.1269999999999527, 0.13900000000001, 0.1410000000000764, 0.13999999999998636, 0.14800000000002456, 0.4219999999999118, 0.12400000000002365, 0.13799999999991996, 0.14800000000002456, 0.13900000000001, 0.13599999999996726, 0.15300000000002, 0.13200000000006185, 0.15399999999999636, 0.14400000000000546, 0.16299999999989723, 0.1690000000000964, 0.4319999999999027, 0.13200000000006185, 0.16399999999998727, 0.12400000000002365, 0.07800000000008822, 0.1309999999999718, 0.1309999999999718, 0.14800000000002456, 0.13999999999998636, 0.10199999999997544, 0.15099999999995362, 0.12600000000009004, 0.15799999999990177, 0.1310000000000855, 0.1490000000000009, 0.17599999999993088, 0.125, 0.14599999999995816, 0.12800000000004275, 0.1349999999999909, 0.14599999999995816, 0.14599999999995816, 0.1290000000000191, 0.12999999999999545, 0.13999999999998636, 0.14800000000002456, 0.1329999999999245, 0.1550000000000864, 0.13199999999994816, 0.1330000000000382, 0.1330000000000382, 0.14400000000000546, 0.13999999999998636, 0.13199999999994816, 0.14600000000007185, 0.4459999999999127, 0.14400000000000546, 0.15200000000004366, 0.12799999999992906, 0.15899999999999181, 0.15399999999999636, 0.1490000000000009, 0.13799999999991996, 0.16300000000001091, 0.1490000000000009, 0.1650000000000773, 0.13799999999991996, 0.15000000000009095, 0.17399999999997817, 0.16499999999996362, 0.1710000000000491, 0.16099999999994452, 0.16300000000001091, 0.1430000000000291, 0.16599999999993997, 0.16000000000008185, 0.18599999999992178, 0.20800000000008367, 0.16899999999998272, 0.17599999999993088, 0.17700000000002092, 0.125, 0.18600000000003547, 0.18299999999999272, 0.1570000000000391, 0.16299999999989723, 0.18600000000003547, 0.17700000000002092, 0.13999999999998636, 0.16499999999996362, 0.15000000000009095, 0.17099999999993543, 0.16499999999996362, 0.16600000000005366, 0.14999999999997726, 0.1750000000000682, 0.1169999999999618, 0.03599999999994452, 0.17200000000002547, 0.13200000000006185, 0.14199999999993906, 0.1270000000000664, 0.15399999999999636, 0.14699999999993452, 0.15200000000004366, 0.07500000000004547, 0.1959999999999127, 0.16300000000001091, 0.16800000000012005, 0.17300000000000182, 0.16799999999989268, 0.15800000000012915, 0.16300000000001091, 0.2159999999998945, 0.1330000000000382, 0.15300000000002, 0.17799999999988358, 0.1670000000001437, 0.19200000000000728, 0.1959999999999127, 0.011999999999943611, 0.24500000000011823, 0.13000000000010914, 0.13000000000010914, 0.1369999999999436, 0.12400000000002365, 0.15399999999999636, 0.15200000000004366, 0.15299999999979264, 0.1490000000001146, 0.15200000000004366, 0.16300000000001091, 0.14999999999986358, 0.15599999999994907, 0.15300000000002, 0.1570000000001528, 0.16699999999991633, 0.15399999999999636, 0.17499999999995453, 0.13000000000010914, 0.1879999999998745, 0.14600000000018554, 0.15299999999979264, 0.13500000000021828, 0.15299999999979264, 0.20100000000002183, 0.165000000000191, 0.16699999999991633, 0.17599999999993088, 0.1710000000000491, 0.1510000000000673, 0.13000000000010914, 0.14099999999984902, 0.14800000000013824, 0.14599999999995816, 0.15000000000009095, 0.14599999999995816, 0.15499999999997272, 0.28899999999998727, 0.16599999999993997, 0.14800000000013824, 0.13199999999983447, 0.12099999999986721, 0.1169999999999618, 0.1169999999999618, 0.12100000000009459, 0.1269999999999527, 0.1330000000000382, 0.15099999999983993, 0.12200000000007094, 0.1410000000000764, 0.14799999999991087, 0.13400000000001455, 0.1410000000000764, 0.1410000000000764, 0.15799999999990177, 0.1470000000001619, 0.13099999999985812, 0.1330000000000382, 0.1290000000001328, 0.12099999999986721, 0.1269999999999527, 0.13999999999987267, 0.23500000000012733, 0.12400000000002365, 0.12199999999984357, 0.2740000000001146, 0.4279999999998836, 0.049000000000205546, 0.14600000000018554, 0.14599999999995816, 0.13000000000010914, 0.26499999999987267, 0.20299999999997453, 0.125, 0.16399999999998727, 0.29700000000002547, 0.12999999999988177, 0.11400000000003274, 0.12599999999997635, 0.13400000000001455, 0.1390000000001237, 0.16499999999996362, 0.3769999999999527, 0.1089999999999236, 0.13200000000006185, 0.11999999999989086, 0.12400000000002365, 0.12100000000009459, 0.13199999999983447, 0.12200000000007094, 0.12799999999992906, 0.12999999999988177, 0.1290000000001328, 0.1289999999999054, 0.1490000000001146, 0.1150000000000091, 0.1269999999999527, 0.12599999999997635, 0.13799999999991996, 0.13000000000010914, 0.11899999999991451, 0.11100000000010368, 0.13400000000001455, 0.1230000000000473, 0.11999999999989086, 0.1449999999999818, 0.12400000000002365, 0.13400000000001455, 0.12400000000002365, 0.16499999999996362, 0.12599999999997635, 0.13000000000010914, 0.12799999999992906, 0.1269999999999527, 0.1410000000000764, 0.14799999999991087, 0.1349999999999909, 0.1369999999999436, 0.13800000000014734, 0.13400000000001455, 0.1289999999999054, 0.14000000000010004, 0.12799999999992906, 0.17300000000000182, 0.1289999999999054, 0.12800000000015643, 0.1330000000000382, 0.13299999999981083, 0.165000000000191, 0.15699999999992542, 0.14000000000010004, 0.12799999999992906, 0.1269999999999527, 0.13000000000010914, 0.181999999999789, 0.14200000000005275, 0.1290000000001328, 0.16300000000001091, 0.1150000000000091, 0.15099999999983993, 0.13000000000010914, 0.16399999999998727, 0.13799999999991996, 0.1490000000001146, 0.15999999999985448, 0.14000000000010004, 0.12999999999988177, 0.1430000000000291, 0.15000000000009095, 0.14400000000000546, 0.1430000000000291, 0.14599999999995816, 0.1610000000000582, 0.15300000000002, 0.1069999999999709, 0.1289999999999054, 0.1510000000000673, 0.14799999999991087, 0.14400000000000546, 0.14599999999995816, 0.1470000000001619, 0.15999999999985448, 0.12800000000015643, 0.14299999999980173, 0.16600000000016735, 0.1430000000000291, 0.14400000000000546, 0.1619999999998072, 0.12800000000015643, 0.15099999999983993, 0.15600000000017644, 0.16499999999996362, 0.16599999999993997, 0.15399999999999636, 0.15499999999997272, 0.1790000000000873, 0.15499999999997272, 0.16300000000001091, 0.12599999999997635, 0.11599999999998545, 0.1369999999999436, 0.15800000000012915, 0.14699999999993452, 0.15800000000012915, 0.15299999999979264, 0.13200000000006185, 0.1670000000001437, 0.14599999999995816, 0.15699999999992542, 0.13899999999989632, 0.15600000000017644, 0.12999999999988177, 0.16000000000008185, 0.14400000000000546, 0.1430000000000291, 0.13899999999989632, 0.14400000000000546, 0.14599999999995816, 0.1410000000000764, 0.15599999999994907, 0.2719999999999345, 0.4370000000001255, 0.13400000000001455, 0.14799999999991087, 0.1430000000000291, 0.15399999999999636, 0.14400000000000546, 0.1449999999999818, 0.13400000000001455, 0.14800000000013824, 0.14299999999980173, 0.1390000000001237, 0.15399999999999636, 0.16300000000001091, 0.13999999999987267, 0.16000000000008185, 0.1289999999999054, 0.1550000000002001, 0.15399999999999636, 0.16599999999993997, 0.15899999999987813, 0.1390000000001237, 0.1430000000000291, 0.17300000000000182, 0.16899999999986903, 0.1330000000000382, 0.12599999999997635, 0.15000000000009095, 0.15899999999987813, 0.1590000000001055, 0.16699999999991633, 0.17499999999995453, 0.10000000000013642, 0.06400000000007822, 0.17499999999995453, 0.15999999999985448, 0.12700000000018008, 0.13099999999985812, 0.09300000000007458, 0.07400000000006912, 0.18499999999994543, 0.15799999999990177, 0.1770000000001346, 0.15300000000002, 0.16499999999996362, 0.17499999999995453, 0.10300000000006548, 0.07199999999988904, 0.1510000000000673, 0.1610000000000582, 0.14699999999993452, 0.13099999999985812, 0.16300000000001091, 0.14400000000000546, 0.15000000000009095, 0.14400000000000546, 0.13200000000006185, 0.12999999999988177, 0.16300000000001091, 0.11599999999998545, 0.14000000000010004, 0.13799999999991996, 0.1430000000000291, 0.14599999999995816, 0.14699999999993452, 0.14000000000010004, 0.1510000000000673, 0.1330000000000382, 0.14599999999995816, 0.15499999999997272, 0.14999999999986358, 0.12200000000007094, 0.16499999999996362, 0.13800000000014734, 0.15999999999985448, 0.15600000000017644, 0.14299999999980173, 0.1390000000001237, 0.1510000000000673, 0.12599999999997635, 0.14799999999991087, 0.13200000000006185, 0.1349999999999909, 0.14999999999986358, 0.15800000000012915, 0.14899999999988722, 0.165000000000191, 0.16699999999991633, 0.14699999999993452, 0.1610000000000582, 0.15300000000002, 0.1430000000000291, 0.13400000000001455, 0.14999999999986358, 0.15800000000012915, 0.15200000000004366, 0.14799999999991087, 0.15699999999992542, 0.12200000000007094, 0.1510000000000673, 0.17899999999985994, 0.1490000000001146, 0.16799999999989268, 0.16300000000001091, 0.13800000000014734, 0.11799999999993815, 0.14899999999988722, 0.1349999999999909, 0.13799999999991996, 0.15300000000002, 0.18000000000006366, 0.15200000000004366, 0.15000000000009095, 0.16099999999983083, 0.15000000000009095, 0.1349999999999909, 0.1430000000000291, 0.13400000000001455, 0.16399999999998727, 0.1150000000000091, 0.14199999999982538, 0.1490000000001146, 0.1449999999999818, 0.16399999999998727, 0.1230000000000473, 0.14699999999993452, 0.10000000000013642, 0.06599999999980355, 0.15300000000002, 0.1570000000001528, 0.12599999999997635, 0.12999999999988177, 0.1470000000001619, 0.15799999999990177, 0.14000000000010004, 0.15300000000002, 0.12799999999992906, 0.1430000000000291, 0.14400000000000546, 0.14599999999995816, 0.1449999999999818, 0.13799999999991996, 0.14599999999995816, 0.1410000000000764, 0.13000000000010914, 0.1430000000000291, 0.16099999999983083, 0.11900000000014188, 0.13899999999989632, 0.15599999999994907, 0.1510000000000673, 0.1490000000001146, 0.15099999999983993, 0.1449999999999818, 0.16300000000001091, 0.14800000000013824, 0.15499999999997272, 0.1230000000000473, 0.15199999999981628, 0.1670000000001437, 0.11799999999993815, 0.14400000000000546, 0.12799999999992906, 0.12599999999997635, 0.15200000000004366, 0.12599999999997635, 0.13700000000017099, 0.13899999999989632, 0.15200000000004366, 0.14400000000000546, 0.15300000000002, 0.16899999999986903, 0.15799999999990177, 0.16300000000001091, 0.13800000000014734, 0.25900000000001455, 0.40599999999994907, 0.1410000000000764, 0.13999999999987267, 0.1510000000000673, 0.13999999999987267, 0.1510000000000673, 0.1449999999999818, 0.1390000000001237, 0.16399999999998727, 0.14199999999982538, 0.13500000000021828, 0.14299999999980173, 0.13600000000019463, 0.1369999999999436, 0.15899999999987813, 0.125, 0.13400000000001455, 0.13800000000014734, 0.14400000000000546, 0.13599999999996726, 0.1330000000000382, 0.16599999999993997, 0.13200000000006185, 0.2899999999999636, 0.13899999999989632, 0.2860000000000582, 0.1330000000000382, 0.15599999999994907, 0.1269999999999527, 0.14000000000010004, 0.1289999999999054, 0.13599999999996726, 0.1490000000001146, 0.1619999999998072, 0.14000000000010004, 0.1390000000001237, 0.14299999999980173, 0.1390000000001237, 0.1369999999999436, 0.1490000000001146, 0.14999999999986358, 0.1690000000000964, 0.14400000000000546, 0.13199999999983447, 0.1390000000001237, 0.14200000000005275, 0.16099999999983083, 0.13000000000010914, 0.1430000000000291, 0.13599999999996726, 0.14400000000000546, 0.29700000000002547, 0.13599999999996726, 0.15200000000004366, 0.14199999999982538, 0.1590000000001055, 0.14699999999993452, 0.15399999999999636, 0.1410000000000764, 0.14799999999991087, 0.14200000000005275, 0.31500000000005457, 0.14699999999993452, 0.1349999999999909, 0.15600000000017644, 0.12999999999988177, 0.14699999999993452, 0.1349999999999909, 0.16000000000008185, 0.1390000000001237, 0.14899999999988722, 0.1330000000000382, 0.14599999999995816, 0.3000000000001819, 0.29399999999986903, 0.15000000000009095, 0.11799999999993815, 0.1369999999999436, 0.13000000000010914, 0.1330000000000382, 0.1330000000000382, 0.14699999999993452, 0.11999999999989086, 0.1430000000000291, 0.1510000000000673, 0.13799999999991996, 0.1590000000001055, 0.13599999999996726, 0.15000000000009095, 0.13599999999996726, 0.14999999999986358, 0.14600000000018554, 0.15499999999997272, 0.13599999999996726, 0.15099999999983993, 0.14000000000010004, 0.15200000000004366, 0.16300000000001091, 0.14200000000005275, 0.15999999999985448, 0.14599999999995816, 0.1690000000000964, 0.16300000000001091, 0.1369999999999436, 0.15800000000012915, 0.13599999999996726, 0.1710000000000491, 0.14799999999991087, 0.1690000000000964, 0.15399999999999636, 0.14599999999995816, 0.1230000000000473, 0.15799999999990177, 0.14200000000005275, 0.16599999999993997, 0.15799999999990177, 0.17300000000000182, 0.15399999999999636, 0.1570000000001528, 0.14799999999991087, 0.15699999999992542, 0.13899999999989632, 0.30500000000006366, 0.15599999999994907, 0.14400000000000546, 0.1330000000000382, 0.1430000000000291, 0.14400000000000546, 0.14799999999991087, 0.1470000000001619, 0.13799999999991996, 0.1310000000000855, 0.1349999999999909, 0.15699999999992542, 0.13400000000001455, 0.13400000000001455, 0.14200000000005275, 0.14299999999980173, 0.15600000000017644, 0.14400000000000546, 0.14599999999995816, 0.4420000000000073, 0.2819999999999254, 0.15300000000002, 0.1330000000000382, 0.14999999999986358, 0.14400000000000546, 0.14400000000000546, 0.15200000000004366, 0.2880000000000109, 0.1330000000000382, 0.13099999999985812, 0.1570000000001528, 0.1449999999999818, 0.1230000000000473, 0.14400000000000546, 0.12799999999992906, 0.14799999999991087, 0.17000000000007276, 0.12599999999997635, 0.13899999999989632, 0.14000000000010004, 0.15499999999997272, 0.2740000000001146, 0.14199999999982538, 0.13600000000019463, 0.14999999999986358, 0.13599999999996726, 0.13400000000001455, 0.1430000000000291, 0.15200000000004366, 0.13899999999989632, 0.15599999999994907, 0.28500000000008185, 0.14999999999986358, 0.13500000000021828, 0.1349999999999909, 0.1390000000001237, 0.1369999999999436, 0.1289999999999054, 0.17399999999997817, 0.125, 0.1390000000001237, 0.13999999999987267, 0.1470000000001619, 0.14599999999995816, 0.14899999999988722, 0.14200000000005275, 0.17000000000007276, 0.12799999999992906, 0.15200000000004366, 0.12999999999988177, 0.30300000000011096, 0.1510000000000673, 0.16699999999991633, 0.16300000000001091, 0.13799999999991996, 0.1490000000001146, 0.2899999999999636, 0.2680000000000291, 0.2960000000000491, 0.28899999999998727, 0.13400000000001455, 0.1410000000000764, 0.14200000000005275, 0.14699999999993452, 0.15000000000009095, 0.2849999999998545, 0.14800000000013824, 0.13999999999987267, 0.15800000000012915, 0.13400000000001455, 0.13599999999996726, 0.14699999999993452, 0.1430000000000291, 0.15000000000009095, 0.16399999999998727, 0.14599999999995816, 0.1330000000000382, 0.13200000000006185, 0.1369999999999436, 0.1369999999999436, 0.1410000000000764, 0.14400000000000546, 0.1330000000000382, 0.13599999999996726, 0.14599999999995816, 0.1390000000001237, 0.14199999999982538, 0.13600000000019463, 0.14199999999982538, 0.13000000000010914, 0.13200000000006185, 0.1770000000001346, 0.1570000000001528, 0.14799999999991087, 0.12800000000015643, 0.14299999999957436, 0.11700000000018917, 0.15200000000004366, 0.34500000000025466, 0.1619999999998072, 0.12800000000015643, 0.125, 0.23099999999976717, 0.1449999999999818, 0.22499999999990905, 0.13599999999996726, 0.13700000000017099, 0.125, 0.1459999999997308, 0.13500000000021828, 0.12100000000009459, 0.15299999999979264, 0.13099999999985812, 0.13200000000006185, 0.1390000000001237, 0.1430000000000291, 0.11899999999968713, 0.16200000000026193, 0.12399999999979627, 0.13100000000031287, 0.15100000000029468, 0.1479999999996835, 0.12100000000009459, 0.13999999999987267, 0.13700000000017099, 0.13799999999991996, 0.13799999999991996, 0.14400000000023283, 0.13299999999981083, 0.15099999999983993, 0.13999999999987267, 0.16700000000037107, 0.14099999999962165, 0.13300000000026557, 0.1639999999997599, 0.16600000000016735, 0.17000000000007276, 0.2480000000000473, 0.1449999999999818, 0.15499999999974534, 0.13999999999987267, 0.16499999999996362, 0.16800000000012005, 0.16600000000016735, 0.14099999999962165, 0.1570000000001528, 0.1449999999999818, 0.13400000000001455, 0.15099999999983993, 0.17200000000002547, 0.17799999999988358, 0.15300000000024738, 0.15699999999969805, 0.1770000000001346, 0.1610000000000582, 0.11999999999989086, 0.17799999999988358, 0.1730000000002292, 0.2019999999997708, 0.14200000000028012, 0.15299999999979264, 0.12199999999984357, 0.14600000000018554, 0.1390000000001237, 0.17599999999993088, 0.1459999999997308, 0.13200000000006185, 0.15000000000009095, 0.16699999999991633, 0.1430000000000291, 0.11000000000012733, 0.13999999999987267, 0.13500000000021828, 0.13799999999991996, 0.07999999999992724, 0.056999999999789, 0.13400000000001455, 0.14600000000018554, 0.15000000000009095, 0.15699999999969805, 0.1449999999999818, 0.16600000000016735, 0.12100000000009459, 0.17599999999993088, 0.14099999999962165, 0.15399999999999636, 0.1430000000000291, 0.16400000000021464, 0.15200000000004366, 0.13299999999981083, 0.1619999999998072, 0.14200000000028012, 0.17799999999988358, 0.11299999999982901, 0.14199999999982538, 0.13000000000010914, 0.1610000000000582, 0.12799999999970169, 0.15300000000024738, 0.13200000000006185, 0.13899999999966894, 0.14900000000034197, 0.17200000000002547, 0.1449999999999818, 0.1410000000000764, 0.13799999999991996, 0.14199999999982538, 0.13300000000026557, 0.1449999999999818, 0.14699999999993452, 0.14399999999977808, 0.14800000000013824, 0.14399999999977808, 0.13599999999996726, 0.12600000000020373, 0.14700000000038926, 0.13899999999966894, 0.13700000000017099, 0.1269999999999527, 0.1459999999997308, 0.1449999999999818, 0.11300000000028376, 0.15200000000004366, 0.13499999999976353, 0.1710000000002765, 0.14499999999952706, 0.14700000000038926, 0.12799999999970169, 0.1570000000001528, 0.13999999999987267, 0.13000000000010914, 0.1289999999999054, 0.1449999999999818, 0.13099999999985812, 0.1550000000002001, 0.14399999999977808, 0.1449999999999818, 0.15000000000009095, 0.1339999999995598, 0.14000000000032742, 0.13699999999971624, 0.14200000000028012, 0.1499999999996362, 0.1610000000000582, 0.15200000000004366, 0.15200000000004366, 0.15399999999999636, 0.1619999999998072, 0.18700000000035288, 0.14699999999993452, 0.14399999999977808, 0.16499999999996362, 0.15099999999983993, 0.16800000000012005, 0.1610000000000582, 0.15799999999990177, 0.13999999999987267, 0.14199999999982538, 0.14000000000032742, 0.14899999999988722, 0.15299999999979264, 0.15599999999994907, 0.43000000000029104, 0.16300000000001091, 0.15499999999974534, 0.1570000000001528, 0.1459999999997308, 0.17200000000002547, 0.1730000000002292, 0.15699999999969805, 0.12400000000025102, 0.09199999999964348, 0.19399999999995998, 0.1910000000002583, 0.12799999999970169, 0.1430000000000291, 0.16800000000012005, 0.18499999999994543, 0.15799999999990177, 0.09600000000000364, 0.09600000000000364, 0.15799999999990177, 0.3020000000001346, 0.2800000000002001, 0.14099999999962165, 0.13599999999996726, 0.12200000000029831, 0.1499999999996362, 0.15800000000035652, 0.13899999999966894, 0.16900000000032378, 0.15399999999999636, 0.17099999999982174, 0.09799999999995634, 0.07000000000016371, 0.18699999999989814, 0.19200000000000728, 0.11299999999982901, 0.08300000000008367, 0.1959999999999127, 0.1390000000001237, 0.1230000000000473, 0.07999999999992724, 0.17499999999972715, 0.14200000000028012, 0.17699999999967986, 0.1730000000002292, 0.1410000000000764, 0.15399999999999636, 0.11599999999998545, 0.15299999999979264, 0.125, 0.125, 0.16300000000001091, 0.1479999999996835, 0.16700000000037107, 0.15999999999985448, 0.1430000000000291, 0.125, 0.1449999999999818, 0.13999999999987267, 0.1289999999999054, 0.13700000000017099, 0.1479999999996835, 0.43000000000029104, 0.2869999999998072, 0.1410000000000764, 0.12399999999979627, 0.13799999999991996, 0.3040000000000873, 0.15200000000004366, 0.15799999999990177, 0.13999999999987267, 0.27400000000034197, 0.12400000000025102, 0.13499999999976353, 0.1269999999999527, 0.14200000000028012, 0.1339999999995598, 0.15600000000040382, 0.15399999999999636, 0.12799999999970169, 0.13799999999991996, 0.16900000000032378, 0.29999999999972715, 0.44099999999980355, 0.3989999999998872, 0.13799999999991996, 0.16400000000021464, 0.1410000000000764, 0.13499999999976353, 0.15599999999994907, 0.14200000000028012, 0.1499999999996362, 0.1449999999999818, 0.1550000000002001], \"xaxis\": \"x\", \"yaxis\": \"y\"}],                        {\"annotations\": [{\"showarrow\": false, \"text\": \"6.49 Hz\", \"x\": 0.9, \"xref\": \"paper\", \"y\": 0.9, \"yref\": \"paper\"}], \"barmode\": \"relative\", \"legend\": {\"title\": {\"text\": \"variable\"}, \"tracegroupgap\": 0}, \"margin\": {\"t\": 60}, \"showlegend\": false, \"template\": {\"data\": {\"bar\": [{\"error_x\": {\"color\": \"#2a3f5f\"}, \"error_y\": {\"color\": \"#2a3f5f\"}, \"marker\": {\"line\": {\"color\": \"#E5ECF6\", \"width\": 0.5}}, \"type\": \"bar\"}], \"barpolar\": [{\"marker\": {\"line\": {\"color\": \"#E5ECF6\", \"width\": 0.5}}, \"type\": \"barpolar\"}], \"carpet\": [{\"aaxis\": {\"endlinecolor\": \"#2a3f5f\", \"gridcolor\": \"white\", \"linecolor\": \"white\", \"minorgridcolor\": \"white\", \"startlinecolor\": \"#2a3f5f\"}, \"baxis\": {\"endlinecolor\": \"#2a3f5f\", \"gridcolor\": \"white\", \"linecolor\": \"white\", \"minorgridcolor\": \"white\", \"startlinecolor\": \"#2a3f5f\"}, \"type\": \"carpet\"}], \"choropleth\": [{\"colorbar\": {\"outlinewidth\": 0, \"ticks\": \"\"}, \"type\": \"choropleth\"}], \"contour\": [{\"colorbar\": {\"outlinewidth\": 0, \"ticks\": \"\"}, \"colorscale\": [[0.0, \"#0d0887\"], [0.1111111111111111, \"#46039f\"], [0.2222222222222222, \"#7201a8\"], [0.3333333333333333, \"#9c179e\"], [0.4444444444444444, \"#bd3786\"], [0.5555555555555556, \"#d8576b\"], [0.6666666666666666, \"#ed7953\"], [0.7777777777777778, \"#fb9f3a\"], [0.8888888888888888, \"#fdca26\"], [1.0, \"#f0f921\"]], \"type\": \"contour\"}], \"contourcarpet\": [{\"colorbar\": {\"outlinewidth\": 0, \"ticks\": \"\"}, \"type\": \"contourcarpet\"}], \"heatmap\": [{\"colorbar\": {\"outlinewidth\": 0, \"ticks\": \"\"}, \"colorscale\": [[0.0, \"#0d0887\"], [0.1111111111111111, \"#46039f\"], [0.2222222222222222, \"#7201a8\"], [0.3333333333333333, \"#9c179e\"], [0.4444444444444444, \"#bd3786\"], [0.5555555555555556, \"#d8576b\"], [0.6666666666666666, \"#ed7953\"], [0.7777777777777778, \"#fb9f3a\"], [0.8888888888888888, \"#fdca26\"], [1.0, \"#f0f921\"]], \"type\": \"heatmap\"}], \"heatmapgl\": [{\"colorbar\": {\"outlinewidth\": 0, \"ticks\": \"\"}, \"colorscale\": [[0.0, \"#0d0887\"], [0.1111111111111111, \"#46039f\"], [0.2222222222222222, \"#7201a8\"], [0.3333333333333333, \"#9c179e\"], [0.4444444444444444, \"#bd3786\"], [0.5555555555555556, \"#d8576b\"], [0.6666666666666666, \"#ed7953\"], [0.7777777777777778, \"#fb9f3a\"], [0.8888888888888888, \"#fdca26\"], [1.0, \"#f0f921\"]], \"type\": \"heatmapgl\"}], \"histogram\": [{\"marker\": {\"colorbar\": {\"outlinewidth\": 0, \"ticks\": \"\"}}, \"type\": \"histogram\"}], \"histogram2d\": [{\"colorbar\": {\"outlinewidth\": 0, \"ticks\": \"\"}, \"colorscale\": [[0.0, \"#0d0887\"], [0.1111111111111111, \"#46039f\"], [0.2222222222222222, \"#7201a8\"], [0.3333333333333333, \"#9c179e\"], [0.4444444444444444, \"#bd3786\"], [0.5555555555555556, \"#d8576b\"], [0.6666666666666666, \"#ed7953\"], [0.7777777777777778, \"#fb9f3a\"], [0.8888888888888888, \"#fdca26\"], [1.0, \"#f0f921\"]], \"type\": \"histogram2d\"}], \"histogram2dcontour\": [{\"colorbar\": {\"outlinewidth\": 0, \"ticks\": \"\"}, \"colorscale\": [[0.0, \"#0d0887\"], [0.1111111111111111, \"#46039f\"], [0.2222222222222222, \"#7201a8\"], [0.3333333333333333, \"#9c179e\"], [0.4444444444444444, \"#bd3786\"], [0.5555555555555556, \"#d8576b\"], [0.6666666666666666, \"#ed7953\"], [0.7777777777777778, \"#fb9f3a\"], [0.8888888888888888, \"#fdca26\"], [1.0, \"#f0f921\"]], \"type\": \"histogram2dcontour\"}], \"mesh3d\": [{\"colorbar\": {\"outlinewidth\": 0, \"ticks\": \"\"}, \"type\": \"mesh3d\"}], \"parcoords\": [{\"line\": {\"colorbar\": {\"outlinewidth\": 0, \"ticks\": \"\"}}, \"type\": \"parcoords\"}], \"pie\": [{\"automargin\": true, \"type\": \"pie\"}], \"scatter\": [{\"marker\": {\"colorbar\": {\"outlinewidth\": 0, \"ticks\": \"\"}}, \"type\": \"scatter\"}], \"scatter3d\": [{\"line\": {\"colorbar\": {\"outlinewidth\": 0, \"ticks\": \"\"}}, \"marker\": {\"colorbar\": {\"outlinewidth\": 0, \"ticks\": \"\"}}, \"type\": \"scatter3d\"}], \"scattercarpet\": [{\"marker\": {\"colorbar\": {\"outlinewidth\": 0, \"ticks\": \"\"}}, \"type\": \"scattercarpet\"}], \"scattergeo\": [{\"marker\": {\"colorbar\": {\"outlinewidth\": 0, \"ticks\": \"\"}}, \"type\": \"scattergeo\"}], \"scattergl\": [{\"marker\": {\"colorbar\": {\"outlinewidth\": 0, \"ticks\": \"\"}}, \"type\": \"scattergl\"}], \"scattermapbox\": [{\"marker\": {\"colorbar\": {\"outlinewidth\": 0, \"ticks\": \"\"}}, \"type\": \"scattermapbox\"}], \"scatterpolar\": [{\"marker\": {\"colorbar\": {\"outlinewidth\": 0, \"ticks\": \"\"}}, \"type\": \"scatterpolar\"}], \"scatterpolargl\": [{\"marker\": {\"colorbar\": {\"outlinewidth\": 0, \"ticks\": \"\"}}, \"type\": \"scatterpolargl\"}], \"scatterternary\": [{\"marker\": {\"colorbar\": {\"outlinewidth\": 0, \"ticks\": \"\"}}, \"type\": \"scatterternary\"}], \"surface\": [{\"colorbar\": {\"outlinewidth\": 0, \"ticks\": \"\"}, \"colorscale\": [[0.0, \"#0d0887\"], [0.1111111111111111, \"#46039f\"], [0.2222222222222222, \"#7201a8\"], [0.3333333333333333, \"#9c179e\"], [0.4444444444444444, \"#bd3786\"], [0.5555555555555556, \"#d8576b\"], [0.6666666666666666, \"#ed7953\"], [0.7777777777777778, \"#fb9f3a\"], [0.8888888888888888, \"#fdca26\"], [1.0, \"#f0f921\"]], \"type\": \"surface\"}], \"table\": [{\"cells\": {\"fill\": {\"color\": \"#EBF0F8\"}, \"line\": {\"color\": \"white\"}}, \"header\": {\"fill\": {\"color\": \"#C8D4E3\"}, \"line\": {\"color\": \"white\"}}, \"type\": \"table\"}]}, \"layout\": {\"annotationdefaults\": {\"arrowcolor\": \"#2a3f5f\", \"arrowhead\": 0, \"arrowwidth\": 1}, \"autotypenumbers\": \"strict\", \"coloraxis\": {\"colorbar\": {\"outlinewidth\": 0, \"ticks\": \"\"}}, \"colorscale\": {\"diverging\": [[0, \"#8e0152\"], [0.1, \"#c51b7d\"], [0.2, \"#de77ae\"], [0.3, \"#f1b6da\"], [0.4, \"#fde0ef\"], [0.5, \"#f7f7f7\"], [0.6, \"#e6f5d0\"], [0.7, \"#b8e186\"], [0.8, \"#7fbc41\"], [0.9, \"#4d9221\"], [1, \"#276419\"]], \"sequential\": [[0.0, \"#0d0887\"], [0.1111111111111111, \"#46039f\"], [0.2222222222222222, \"#7201a8\"], [0.3333333333333333, \"#9c179e\"], [0.4444444444444444, \"#bd3786\"], [0.5555555555555556, \"#d8576b\"], [0.6666666666666666, \"#ed7953\"], [0.7777777777777778, \"#fb9f3a\"], [0.8888888888888888, \"#fdca26\"], [1.0, \"#f0f921\"]], \"sequentialminus\": [[0.0, \"#0d0887\"], [0.1111111111111111, \"#46039f\"], [0.2222222222222222, \"#7201a8\"], [0.3333333333333333, \"#9c179e\"], [0.4444444444444444, \"#bd3786\"], [0.5555555555555556, \"#d8576b\"], [0.6666666666666666, \"#ed7953\"], [0.7777777777777778, \"#fb9f3a\"], [0.8888888888888888, \"#fdca26\"], [1.0, \"#f0f921\"]]}, \"colorway\": [\"#636efa\", \"#EF553B\", \"#00cc96\", \"#ab63fa\", \"#FFA15A\", \"#19d3f3\", \"#FF6692\", \"#B6E880\", \"#FF97FF\", \"#FECB52\"], \"font\": {\"color\": \"#2a3f5f\"}, \"geo\": {\"bgcolor\": \"white\", \"lakecolor\": \"white\", \"landcolor\": \"#E5ECF6\", \"showlakes\": true, \"showland\": true, \"subunitcolor\": \"white\"}, \"hoverlabel\": {\"align\": \"left\"}, \"hovermode\": \"closest\", \"mapbox\": {\"style\": \"light\"}, \"paper_bgcolor\": \"white\", \"plot_bgcolor\": \"#E5ECF6\", \"polar\": {\"angularaxis\": {\"gridcolor\": \"white\", \"linecolor\": \"white\", \"ticks\": \"\"}, \"bgcolor\": \"#E5ECF6\", \"radialaxis\": {\"gridcolor\": \"white\", \"linecolor\": \"white\", \"ticks\": \"\"}}, \"scene\": {\"xaxis\": {\"backgroundcolor\": \"#E5ECF6\", \"gridcolor\": \"white\", \"gridwidth\": 2, \"linecolor\": \"white\", \"showbackground\": true, \"ticks\": \"\", \"zerolinecolor\": \"white\"}, \"yaxis\": {\"backgroundcolor\": \"#E5ECF6\", \"gridcolor\": \"white\", \"gridwidth\": 2, \"linecolor\": \"white\", \"showbackground\": true, \"ticks\": \"\", \"zerolinecolor\": \"white\"}, \"zaxis\": {\"backgroundcolor\": \"#E5ECF6\", \"gridcolor\": \"white\", \"gridwidth\": 2, \"linecolor\": \"white\", \"showbackground\": true, \"ticks\": \"\", \"zerolinecolor\": \"white\"}}, \"shapedefaults\": {\"line\": {\"color\": \"#2a3f5f\"}}, \"ternary\": {\"aaxis\": {\"gridcolor\": \"white\", \"linecolor\": \"white\", \"ticks\": \"\"}, \"baxis\": {\"gridcolor\": \"white\", \"linecolor\": \"white\", \"ticks\": \"\"}, \"bgcolor\": \"#E5ECF6\", \"caxis\": {\"gridcolor\": \"white\", \"linecolor\": \"white\", \"ticks\": \"\"}}, \"title\": {\"x\": 0.05}, \"xaxis\": {\"automargin\": true, \"gridcolor\": \"white\", \"linecolor\": \"white\", \"ticks\": \"\", \"title\": {\"standoff\": 15}, \"zerolinecolor\": \"white\", \"zerolinewidth\": 2}, \"yaxis\": {\"automargin\": true, \"gridcolor\": \"white\", \"linecolor\": \"white\", \"ticks\": \"\", \"title\": {\"standoff\": 15}, \"zerolinecolor\": \"white\", \"zerolinewidth\": 2}}}, \"title\": {\"text\": \"Intraburst lick frequency\"}, \"xaxis\": {\"anchor\": \"y\", \"domain\": [0.0, 1.0], \"range\": [0, 0.5], \"title\": {\"text\": \"Interlick interval (s)\"}}, \"yaxis\": {\"anchor\": \"x\", \"domain\": [0.0, 1.0], \"title\": {\"text\": \"Frequency\"}}},                        {\"responsive\": true}                    ).then(function(){\n",
       "                            \n",
       "var gd = document.getElementById('58a2f142-a05e-4b65-a73a-2220b8a32f62');\n",
       "var x = new MutationObserver(function (mutations, observer) {{\n",
       "        var display = window.getComputedStyle(gd).display;\n",
       "        if (!display || display === 'none') {{\n",
       "            console.log([gd, 'removed!']);\n",
       "            Plotly.purge(gd);\n",
       "            observer.disconnect();\n",
       "        }}\n",
       "}});\n",
       "\n",
       "// Listen for the removal of the full notebook cells\n",
       "var notebookContainer = gd.closest('#notebook-container');\n",
       "if (notebookContainer) {{\n",
       "    x.observe(notebookContainer, {childList: true});\n",
       "}}\n",
       "\n",
       "// Listen for the clearing of the current output cell\n",
       "var outputEl = gd.closest('.output');\n",
       "if (outputEl) {{\n",
       "    x.observe(outputEl, {childList: true});\n",
       "}}\n",
       "\n",
       "                        })                };                });            </script>        </div>"
      ]
     },
     "metadata": {},
     "output_type": "display_data"
    }
   ],
   "source": [
    "fig = px.histogram(lickdata[\"ilis\"],\n",
    "                   range_x=[0, 0.5],\n",
    "                   nbins=50)\n",
    "\n",
    "fig.update_layout(\n",
    "    title=\"Intraburst lick frequency\",\n",
    "    xaxis_title=\"Interlick interval (s)\",\n",
    "    yaxis_title=\"Frequency\",\n",
    "    showlegend=False)\n",
    "\n",
    "figlabel = '%.2f Hz' % lickdata['freq']\n",
    "fig.add_annotation(text=figlabel,\n",
    "                   xref=\"paper\", yref=\"paper\",\n",
    "                  x=0.9, y=0.9, \n",
    "                  showarrow=False)\n",
    "\n",
    "fig.show()"
   ]
  },
  {
   "cell_type": "code",
   "execution_count": null,
   "id": "e64988df",
   "metadata": {},
   "outputs": [],
   "source": [
    "def burstprobFig(ax, data):\n",
    "    \n",
    "    x=data['burstprob'][0]\n",
    "    y=data['burstprob'][1]\n",
    "    alpha=data['weib_alpha']\n",
    "    beta=data['weib_beta']\n",
    "    rsq=data['weib_rsq']\n",
    "\n",
    "    ax.scatter(x,y,color='none', edgecolors='grey')\n",
    "\n",
    "    ax.plot(x, weib_davis(x, alpha, beta), c='orange')\n",
    "          \n",
    "    figlabel = 'Fitted values:\\nalpha={:.2f}\\nbeta={:.2f}\\nrsq={:.2f}'.format(\n",
    "            alpha, beta, rsq)\n",
    "\n",
    "    ax.set_xlabel('Burst size (n)')\n",
    "    ax.set_ylabel('Probability of burst>n')\n",
    "    ax.text(0.9, 0.9, figlabel, ha='right', va='top', transform = ax.transAxes)\n"
   ]
  },
  {
   "cell_type": "code",
   "execution_count": 35,
   "id": "e0ffc408",
   "metadata": {},
   "outputs": [
    {
     "data": {
      "application/vnd.plotly.v1+json": {
       "config": {
        "plotlyServerURL": "https://plot.ly"
       },
       "data": [
        {
         "hovertemplate": "x=%{x}<br>y=%{y}<extra></extra>",
         "legendgroup": "",
         "marker": {
          "color": "#636efa",
          "line": {
           "width": 2
          },
          "size": 10,
          "symbol": "circle"
         },
         "mode": "markers",
         "name": "",
         "orientation": "v",
         "showlegend": false,
         "type": "scatter",
         "x": [
          2,
          3,
          4,
          5,
          6,
          7,
          8,
          9,
          10,
          11,
          12,
          13,
          14,
          15,
          16,
          17,
          18,
          19,
          20,
          21,
          22,
          23,
          24,
          25,
          26,
          27,
          28,
          29,
          30,
          31,
          32,
          33,
          34,
          35,
          36,
          37,
          38,
          39,
          40,
          41,
          42,
          43,
          44,
          45,
          46,
          47,
          48,
          49,
          50,
          51,
          52,
          53,
          54,
          55,
          56,
          57,
          58,
          59,
          60,
          61,
          62,
          63,
          64,
          65,
          66,
          67,
          68,
          69,
          70,
          71,
          72,
          73,
          74,
          75,
          76,
          77,
          78,
          79,
          80,
          81,
          82,
          83,
          84,
          85,
          86,
          87,
          88,
          89,
          90,
          91,
          92,
          93,
          94,
          95,
          96,
          97,
          98,
          99,
          100,
          101,
          102,
          103,
          104,
          105,
          106,
          107,
          108,
          109,
          110,
          111,
          112,
          113,
          114,
          115
         ],
         "xaxis": "x",
         "y": [
          0.8706467661691543,
          0.791044776119403,
          0.7064676616915423,
          0.6417910447761195,
          0.572139303482587,
          0.5124378109452736,
          0.4427860696517413,
          0.39303482587064675,
          0.36318407960199006,
          0.32835820895522394,
          0.3084577114427861,
          0.27363184079602,
          0.2587064676616916,
          0.23383084577114432,
          0.2139303482587065,
          0.1990049751243781,
          0.17412935323383083,
          0.1691542288557214,
          0.16417910447761197,
          0.15920398009950254,
          0.1542288557213931,
          0.1542288557213931,
          0.14925373134328368,
          0.14427860696517425,
          0.13930348258706482,
          0.1343283582089554,
          0.12437810945273653,
          0.12437810945273653,
          0.1194029850746271,
          0.10945273631840824,
          0.10945273631840824,
          0.10945273631840824,
          0.10945273631840824,
          0.10447761194029881,
          0.09950248756218938,
          0.09452736318407995,
          0.08955223880597052,
          0.08955223880597052,
          0.08457711442786109,
          0.08457711442786109,
          0.08457711442786109,
          0.08457711442786109,
          0.08457711442786109,
          0.08457711442786109,
          0.07462686567164223,
          0.0696517412935328,
          0.0696517412935328,
          0.0696517412935328,
          0.0696517412935328,
          0.0696517412935328,
          0.05970149253731394,
          0.05472636815920451,
          0.05472636815920451,
          0.05472636815920451,
          0.05472636815920451,
          0.05472636815920451,
          0.04975124378109508,
          0.04477611940298565,
          0.04477611940298565,
          0.04477611940298565,
          0.04477611940298565,
          0.03980099502487622,
          0.03980099502487622,
          0.03980099502487622,
          0.03980099502487622,
          0.03482587064676679,
          0.029850746268657358,
          0.024875621890547928,
          0.024875621890547928,
          0.024875621890547928,
          0.024875621890547928,
          0.019900497512438498,
          0.019900497512438498,
          0.019900497512438498,
          0.019900497512438498,
          0.019900497512438498,
          0.019900497512438498,
          0.019900497512438498,
          0.019900497512438498,
          0.019900497512438498,
          0.019900497512438498,
          0.019900497512438498,
          0.019900497512438498,
          0.019900497512438498,
          0.019900497512438498,
          0.019900497512438498,
          0.019900497512438498,
          0.019900497512438498,
          0.019900497512438498,
          0.014925373134329067,
          0.014925373134329067,
          0.009950248756219637,
          0.009950248756219637,
          0.009950248756219637,
          0.009950248756219637,
          0.009950248756219637,
          0.009950248756219637,
          0.009950248756219637,
          0.009950248756219637,
          0.009950248756219637,
          0.009950248756219637,
          0.009950248756219637,
          0.009950248756219637,
          0.009950248756219637,
          0.009950248756219637,
          0.004975124378110207,
          0.004975124378110207,
          0.004975124378110207,
          0.004975124378110207,
          0.004975124378110207,
          0.004975124378110207,
          7.771561172376096e-16,
          7.771561172376096e-16,
          7.771561172376096e-16
         ],
         "yaxis": "y"
        }
       ],
       "layout": {
        "annotations": [
         {
          "showarrow": false,
          "text": "Fitted values:\nalpha=0.09\nbeta=0.78\nrsq=0.98",
          "x": 0.9,
          "xref": "paper",
          "y": 0.9,
          "yref": "paper"
         }
        ],
        "legend": {
         "tracegroupgap": 0
        },
        "margin": {
         "t": 60
        },
        "showlegend": false,
        "template": {
         "data": {
          "bar": [
           {
            "error_x": {
             "color": "#2a3f5f"
            },
            "error_y": {
             "color": "#2a3f5f"
            },
            "marker": {
             "line": {
              "color": "#E5ECF6",
              "width": 0.5
             }
            },
            "type": "bar"
           }
          ],
          "barpolar": [
           {
            "marker": {
             "line": {
              "color": "#E5ECF6",
              "width": 0.5
             }
            },
            "type": "barpolar"
           }
          ],
          "carpet": [
           {
            "aaxis": {
             "endlinecolor": "#2a3f5f",
             "gridcolor": "white",
             "linecolor": "white",
             "minorgridcolor": "white",
             "startlinecolor": "#2a3f5f"
            },
            "baxis": {
             "endlinecolor": "#2a3f5f",
             "gridcolor": "white",
             "linecolor": "white",
             "minorgridcolor": "white",
             "startlinecolor": "#2a3f5f"
            },
            "type": "carpet"
           }
          ],
          "choropleth": [
           {
            "colorbar": {
             "outlinewidth": 0,
             "ticks": ""
            },
            "type": "choropleth"
           }
          ],
          "contour": [
           {
            "colorbar": {
             "outlinewidth": 0,
             "ticks": ""
            },
            "colorscale": [
             [
              0,
              "#0d0887"
             ],
             [
              0.1111111111111111,
              "#46039f"
             ],
             [
              0.2222222222222222,
              "#7201a8"
             ],
             [
              0.3333333333333333,
              "#9c179e"
             ],
             [
              0.4444444444444444,
              "#bd3786"
             ],
             [
              0.5555555555555556,
              "#d8576b"
             ],
             [
              0.6666666666666666,
              "#ed7953"
             ],
             [
              0.7777777777777778,
              "#fb9f3a"
             ],
             [
              0.8888888888888888,
              "#fdca26"
             ],
             [
              1,
              "#f0f921"
             ]
            ],
            "type": "contour"
           }
          ],
          "contourcarpet": [
           {
            "colorbar": {
             "outlinewidth": 0,
             "ticks": ""
            },
            "type": "contourcarpet"
           }
          ],
          "heatmap": [
           {
            "colorbar": {
             "outlinewidth": 0,
             "ticks": ""
            },
            "colorscale": [
             [
              0,
              "#0d0887"
             ],
             [
              0.1111111111111111,
              "#46039f"
             ],
             [
              0.2222222222222222,
              "#7201a8"
             ],
             [
              0.3333333333333333,
              "#9c179e"
             ],
             [
              0.4444444444444444,
              "#bd3786"
             ],
             [
              0.5555555555555556,
              "#d8576b"
             ],
             [
              0.6666666666666666,
              "#ed7953"
             ],
             [
              0.7777777777777778,
              "#fb9f3a"
             ],
             [
              0.8888888888888888,
              "#fdca26"
             ],
             [
              1,
              "#f0f921"
             ]
            ],
            "type": "heatmap"
           }
          ],
          "heatmapgl": [
           {
            "colorbar": {
             "outlinewidth": 0,
             "ticks": ""
            },
            "colorscale": [
             [
              0,
              "#0d0887"
             ],
             [
              0.1111111111111111,
              "#46039f"
             ],
             [
              0.2222222222222222,
              "#7201a8"
             ],
             [
              0.3333333333333333,
              "#9c179e"
             ],
             [
              0.4444444444444444,
              "#bd3786"
             ],
             [
              0.5555555555555556,
              "#d8576b"
             ],
             [
              0.6666666666666666,
              "#ed7953"
             ],
             [
              0.7777777777777778,
              "#fb9f3a"
             ],
             [
              0.8888888888888888,
              "#fdca26"
             ],
             [
              1,
              "#f0f921"
             ]
            ],
            "type": "heatmapgl"
           }
          ],
          "histogram": [
           {
            "marker": {
             "colorbar": {
              "outlinewidth": 0,
              "ticks": ""
             }
            },
            "type": "histogram"
           }
          ],
          "histogram2d": [
           {
            "colorbar": {
             "outlinewidth": 0,
             "ticks": ""
            },
            "colorscale": [
             [
              0,
              "#0d0887"
             ],
             [
              0.1111111111111111,
              "#46039f"
             ],
             [
              0.2222222222222222,
              "#7201a8"
             ],
             [
              0.3333333333333333,
              "#9c179e"
             ],
             [
              0.4444444444444444,
              "#bd3786"
             ],
             [
              0.5555555555555556,
              "#d8576b"
             ],
             [
              0.6666666666666666,
              "#ed7953"
             ],
             [
              0.7777777777777778,
              "#fb9f3a"
             ],
             [
              0.8888888888888888,
              "#fdca26"
             ],
             [
              1,
              "#f0f921"
             ]
            ],
            "type": "histogram2d"
           }
          ],
          "histogram2dcontour": [
           {
            "colorbar": {
             "outlinewidth": 0,
             "ticks": ""
            },
            "colorscale": [
             [
              0,
              "#0d0887"
             ],
             [
              0.1111111111111111,
              "#46039f"
             ],
             [
              0.2222222222222222,
              "#7201a8"
             ],
             [
              0.3333333333333333,
              "#9c179e"
             ],
             [
              0.4444444444444444,
              "#bd3786"
             ],
             [
              0.5555555555555556,
              "#d8576b"
             ],
             [
              0.6666666666666666,
              "#ed7953"
             ],
             [
              0.7777777777777778,
              "#fb9f3a"
             ],
             [
              0.8888888888888888,
              "#fdca26"
             ],
             [
              1,
              "#f0f921"
             ]
            ],
            "type": "histogram2dcontour"
           }
          ],
          "mesh3d": [
           {
            "colorbar": {
             "outlinewidth": 0,
             "ticks": ""
            },
            "type": "mesh3d"
           }
          ],
          "parcoords": [
           {
            "line": {
             "colorbar": {
              "outlinewidth": 0,
              "ticks": ""
             }
            },
            "type": "parcoords"
           }
          ],
          "pie": [
           {
            "automargin": true,
            "type": "pie"
           }
          ],
          "scatter": [
           {
            "marker": {
             "colorbar": {
              "outlinewidth": 0,
              "ticks": ""
             }
            },
            "type": "scatter"
           }
          ],
          "scatter3d": [
           {
            "line": {
             "colorbar": {
              "outlinewidth": 0,
              "ticks": ""
             }
            },
            "marker": {
             "colorbar": {
              "outlinewidth": 0,
              "ticks": ""
             }
            },
            "type": "scatter3d"
           }
          ],
          "scattercarpet": [
           {
            "marker": {
             "colorbar": {
              "outlinewidth": 0,
              "ticks": ""
             }
            },
            "type": "scattercarpet"
           }
          ],
          "scattergeo": [
           {
            "marker": {
             "colorbar": {
              "outlinewidth": 0,
              "ticks": ""
             }
            },
            "type": "scattergeo"
           }
          ],
          "scattergl": [
           {
            "marker": {
             "colorbar": {
              "outlinewidth": 0,
              "ticks": ""
             }
            },
            "type": "scattergl"
           }
          ],
          "scattermapbox": [
           {
            "marker": {
             "colorbar": {
              "outlinewidth": 0,
              "ticks": ""
             }
            },
            "type": "scattermapbox"
           }
          ],
          "scatterpolar": [
           {
            "marker": {
             "colorbar": {
              "outlinewidth": 0,
              "ticks": ""
             }
            },
            "type": "scatterpolar"
           }
          ],
          "scatterpolargl": [
           {
            "marker": {
             "colorbar": {
              "outlinewidth": 0,
              "ticks": ""
             }
            },
            "type": "scatterpolargl"
           }
          ],
          "scatterternary": [
           {
            "marker": {
             "colorbar": {
              "outlinewidth": 0,
              "ticks": ""
             }
            },
            "type": "scatterternary"
           }
          ],
          "surface": [
           {
            "colorbar": {
             "outlinewidth": 0,
             "ticks": ""
            },
            "colorscale": [
             [
              0,
              "#0d0887"
             ],
             [
              0.1111111111111111,
              "#46039f"
             ],
             [
              0.2222222222222222,
              "#7201a8"
             ],
             [
              0.3333333333333333,
              "#9c179e"
             ],
             [
              0.4444444444444444,
              "#bd3786"
             ],
             [
              0.5555555555555556,
              "#d8576b"
             ],
             [
              0.6666666666666666,
              "#ed7953"
             ],
             [
              0.7777777777777778,
              "#fb9f3a"
             ],
             [
              0.8888888888888888,
              "#fdca26"
             ],
             [
              1,
              "#f0f921"
             ]
            ],
            "type": "surface"
           }
          ],
          "table": [
           {
            "cells": {
             "fill": {
              "color": "#EBF0F8"
             },
             "line": {
              "color": "white"
             }
            },
            "header": {
             "fill": {
              "color": "#C8D4E3"
             },
             "line": {
              "color": "white"
             }
            },
            "type": "table"
           }
          ]
         },
         "layout": {
          "annotationdefaults": {
           "arrowcolor": "#2a3f5f",
           "arrowhead": 0,
           "arrowwidth": 1
          },
          "autotypenumbers": "strict",
          "coloraxis": {
           "colorbar": {
            "outlinewidth": 0,
            "ticks": ""
           }
          },
          "colorscale": {
           "diverging": [
            [
             0,
             "#8e0152"
            ],
            [
             0.1,
             "#c51b7d"
            ],
            [
             0.2,
             "#de77ae"
            ],
            [
             0.3,
             "#f1b6da"
            ],
            [
             0.4,
             "#fde0ef"
            ],
            [
             0.5,
             "#f7f7f7"
            ],
            [
             0.6,
             "#e6f5d0"
            ],
            [
             0.7,
             "#b8e186"
            ],
            [
             0.8,
             "#7fbc41"
            ],
            [
             0.9,
             "#4d9221"
            ],
            [
             1,
             "#276419"
            ]
           ],
           "sequential": [
            [
             0,
             "#0d0887"
            ],
            [
             0.1111111111111111,
             "#46039f"
            ],
            [
             0.2222222222222222,
             "#7201a8"
            ],
            [
             0.3333333333333333,
             "#9c179e"
            ],
            [
             0.4444444444444444,
             "#bd3786"
            ],
            [
             0.5555555555555556,
             "#d8576b"
            ],
            [
             0.6666666666666666,
             "#ed7953"
            ],
            [
             0.7777777777777778,
             "#fb9f3a"
            ],
            [
             0.8888888888888888,
             "#fdca26"
            ],
            [
             1,
             "#f0f921"
            ]
           ],
           "sequentialminus": [
            [
             0,
             "#0d0887"
            ],
            [
             0.1111111111111111,
             "#46039f"
            ],
            [
             0.2222222222222222,
             "#7201a8"
            ],
            [
             0.3333333333333333,
             "#9c179e"
            ],
            [
             0.4444444444444444,
             "#bd3786"
            ],
            [
             0.5555555555555556,
             "#d8576b"
            ],
            [
             0.6666666666666666,
             "#ed7953"
            ],
            [
             0.7777777777777778,
             "#fb9f3a"
            ],
            [
             0.8888888888888888,
             "#fdca26"
            ],
            [
             1,
             "#f0f921"
            ]
           ]
          },
          "colorway": [
           "#636efa",
           "#EF553B",
           "#00cc96",
           "#ab63fa",
           "#FFA15A",
           "#19d3f3",
           "#FF6692",
           "#B6E880",
           "#FF97FF",
           "#FECB52"
          ],
          "font": {
           "color": "#2a3f5f"
          },
          "geo": {
           "bgcolor": "white",
           "lakecolor": "white",
           "landcolor": "#E5ECF6",
           "showlakes": true,
           "showland": true,
           "subunitcolor": "white"
          },
          "hoverlabel": {
           "align": "left"
          },
          "hovermode": "closest",
          "mapbox": {
           "style": "light"
          },
          "paper_bgcolor": "white",
          "plot_bgcolor": "#E5ECF6",
          "polar": {
           "angularaxis": {
            "gridcolor": "white",
            "linecolor": "white",
            "ticks": ""
           },
           "bgcolor": "#E5ECF6",
           "radialaxis": {
            "gridcolor": "white",
            "linecolor": "white",
            "ticks": ""
           }
          },
          "scene": {
           "xaxis": {
            "backgroundcolor": "#E5ECF6",
            "gridcolor": "white",
            "gridwidth": 2,
            "linecolor": "white",
            "showbackground": true,
            "ticks": "",
            "zerolinecolor": "white"
           },
           "yaxis": {
            "backgroundcolor": "#E5ECF6",
            "gridcolor": "white",
            "gridwidth": 2,
            "linecolor": "white",
            "showbackground": true,
            "ticks": "",
            "zerolinecolor": "white"
           },
           "zaxis": {
            "backgroundcolor": "#E5ECF6",
            "gridcolor": "white",
            "gridwidth": 2,
            "linecolor": "white",
            "showbackground": true,
            "ticks": "",
            "zerolinecolor": "white"
           }
          },
          "shapedefaults": {
           "line": {
            "color": "#2a3f5f"
           }
          },
          "ternary": {
           "aaxis": {
            "gridcolor": "white",
            "linecolor": "white",
            "ticks": ""
           },
           "baxis": {
            "gridcolor": "white",
            "linecolor": "white",
            "ticks": ""
           },
           "bgcolor": "#E5ECF6",
           "caxis": {
            "gridcolor": "white",
            "linecolor": "white",
            "ticks": ""
           }
          },
          "title": {
           "x": 0.05
          },
          "xaxis": {
           "automargin": true,
           "gridcolor": "white",
           "linecolor": "white",
           "ticks": "",
           "title": {
            "standoff": 15
           },
           "zerolinecolor": "white",
           "zerolinewidth": 2
          },
          "yaxis": {
           "automargin": true,
           "gridcolor": "white",
           "linecolor": "white",
           "ticks": "",
           "title": {
            "standoff": 15
           },
           "zerolinecolor": "white",
           "zerolinewidth": 2
          }
         }
        },
        "title": {
         "text": "Weibull probability plot"
        },
        "xaxis": {
         "anchor": "y",
         "domain": [
          0,
          1
         ],
         "title": {
          "text": "Burst size (n)"
         }
        },
        "yaxis": {
         "anchor": "x",
         "domain": [
          0,
          1
         ],
         "title": {
          "text": "Probability of burst>n"
         }
        }
       }
      },
      "text/html": [
       "<div>                            <div id=\"dd86bb63-daba-4fe2-a956-93a2f506524e\" class=\"plotly-graph-div\" style=\"height:525px; width:100%;\"></div>            <script type=\"text/javascript\">                require([\"plotly\"], function(Plotly) {                    window.PLOTLYENV=window.PLOTLYENV || {};                                    if (document.getElementById(\"dd86bb63-daba-4fe2-a956-93a2f506524e\")) {                    Plotly.newPlot(                        \"dd86bb63-daba-4fe2-a956-93a2f506524e\",                        [{\"hovertemplate\": \"x=%{x}<br>y=%{y}<extra></extra>\", \"legendgroup\": \"\", \"marker\": {\"color\": \"#636efa\", \"line\": {\"width\": 2}, \"size\": 10, \"symbol\": \"circle\"}, \"mode\": \"markers\", \"name\": \"\", \"orientation\": \"v\", \"showlegend\": false, \"type\": \"scatter\", \"x\": [2, 3, 4, 5, 6, 7, 8, 9, 10, 11, 12, 13, 14, 15, 16, 17, 18, 19, 20, 21, 22, 23, 24, 25, 26, 27, 28, 29, 30, 31, 32, 33, 34, 35, 36, 37, 38, 39, 40, 41, 42, 43, 44, 45, 46, 47, 48, 49, 50, 51, 52, 53, 54, 55, 56, 57, 58, 59, 60, 61, 62, 63, 64, 65, 66, 67, 68, 69, 70, 71, 72, 73, 74, 75, 76, 77, 78, 79, 80, 81, 82, 83, 84, 85, 86, 87, 88, 89, 90, 91, 92, 93, 94, 95, 96, 97, 98, 99, 100, 101, 102, 103, 104, 105, 106, 107, 108, 109, 110, 111, 112, 113, 114, 115], \"xaxis\": \"x\", \"y\": [0.8706467661691543, 0.791044776119403, 0.7064676616915423, 0.6417910447761195, 0.572139303482587, 0.5124378109452736, 0.4427860696517413, 0.39303482587064675, 0.36318407960199006, 0.32835820895522394, 0.3084577114427861, 0.27363184079602, 0.2587064676616916, 0.23383084577114432, 0.2139303482587065, 0.1990049751243781, 0.17412935323383083, 0.1691542288557214, 0.16417910447761197, 0.15920398009950254, 0.1542288557213931, 0.1542288557213931, 0.14925373134328368, 0.14427860696517425, 0.13930348258706482, 0.1343283582089554, 0.12437810945273653, 0.12437810945273653, 0.1194029850746271, 0.10945273631840824, 0.10945273631840824, 0.10945273631840824, 0.10945273631840824, 0.10447761194029881, 0.09950248756218938, 0.09452736318407995, 0.08955223880597052, 0.08955223880597052, 0.08457711442786109, 0.08457711442786109, 0.08457711442786109, 0.08457711442786109, 0.08457711442786109, 0.08457711442786109, 0.07462686567164223, 0.0696517412935328, 0.0696517412935328, 0.0696517412935328, 0.0696517412935328, 0.0696517412935328, 0.05970149253731394, 0.05472636815920451, 0.05472636815920451, 0.05472636815920451, 0.05472636815920451, 0.05472636815920451, 0.04975124378109508, 0.04477611940298565, 0.04477611940298565, 0.04477611940298565, 0.04477611940298565, 0.03980099502487622, 0.03980099502487622, 0.03980099502487622, 0.03980099502487622, 0.03482587064676679, 0.029850746268657358, 0.024875621890547928, 0.024875621890547928, 0.024875621890547928, 0.024875621890547928, 0.019900497512438498, 0.019900497512438498, 0.019900497512438498, 0.019900497512438498, 0.019900497512438498, 0.019900497512438498, 0.019900497512438498, 0.019900497512438498, 0.019900497512438498, 0.019900497512438498, 0.019900497512438498, 0.019900497512438498, 0.019900497512438498, 0.019900497512438498, 0.019900497512438498, 0.019900497512438498, 0.019900497512438498, 0.019900497512438498, 0.014925373134329067, 0.014925373134329067, 0.009950248756219637, 0.009950248756219637, 0.009950248756219637, 0.009950248756219637, 0.009950248756219637, 0.009950248756219637, 0.009950248756219637, 0.009950248756219637, 0.009950248756219637, 0.009950248756219637, 0.009950248756219637, 0.009950248756219637, 0.009950248756219637, 0.009950248756219637, 0.004975124378110207, 0.004975124378110207, 0.004975124378110207, 0.004975124378110207, 0.004975124378110207, 0.004975124378110207, 7.771561172376096e-16, 7.771561172376096e-16, 7.771561172376096e-16], \"yaxis\": \"y\"}],                        {\"annotations\": [{\"showarrow\": false, \"text\": \"Fitted values:\\nalpha=0.09\\nbeta=0.78\\nrsq=0.98\", \"x\": 0.9, \"xref\": \"paper\", \"y\": 0.9, \"yref\": \"paper\"}], \"legend\": {\"tracegroupgap\": 0}, \"margin\": {\"t\": 60}, \"showlegend\": false, \"template\": {\"data\": {\"bar\": [{\"error_x\": {\"color\": \"#2a3f5f\"}, \"error_y\": {\"color\": \"#2a3f5f\"}, \"marker\": {\"line\": {\"color\": \"#E5ECF6\", \"width\": 0.5}}, \"type\": \"bar\"}], \"barpolar\": [{\"marker\": {\"line\": {\"color\": \"#E5ECF6\", \"width\": 0.5}}, \"type\": \"barpolar\"}], \"carpet\": [{\"aaxis\": {\"endlinecolor\": \"#2a3f5f\", \"gridcolor\": \"white\", \"linecolor\": \"white\", \"minorgridcolor\": \"white\", \"startlinecolor\": \"#2a3f5f\"}, \"baxis\": {\"endlinecolor\": \"#2a3f5f\", \"gridcolor\": \"white\", \"linecolor\": \"white\", \"minorgridcolor\": \"white\", \"startlinecolor\": \"#2a3f5f\"}, \"type\": \"carpet\"}], \"choropleth\": [{\"colorbar\": {\"outlinewidth\": 0, \"ticks\": \"\"}, \"type\": \"choropleth\"}], \"contour\": [{\"colorbar\": {\"outlinewidth\": 0, \"ticks\": \"\"}, \"colorscale\": [[0.0, \"#0d0887\"], [0.1111111111111111, \"#46039f\"], [0.2222222222222222, \"#7201a8\"], [0.3333333333333333, \"#9c179e\"], [0.4444444444444444, \"#bd3786\"], [0.5555555555555556, \"#d8576b\"], [0.6666666666666666, \"#ed7953\"], [0.7777777777777778, \"#fb9f3a\"], [0.8888888888888888, \"#fdca26\"], [1.0, \"#f0f921\"]], \"type\": \"contour\"}], \"contourcarpet\": [{\"colorbar\": {\"outlinewidth\": 0, \"ticks\": \"\"}, \"type\": \"contourcarpet\"}], \"heatmap\": [{\"colorbar\": {\"outlinewidth\": 0, \"ticks\": \"\"}, \"colorscale\": [[0.0, \"#0d0887\"], [0.1111111111111111, \"#46039f\"], [0.2222222222222222, \"#7201a8\"], [0.3333333333333333, \"#9c179e\"], [0.4444444444444444, \"#bd3786\"], [0.5555555555555556, \"#d8576b\"], [0.6666666666666666, \"#ed7953\"], [0.7777777777777778, \"#fb9f3a\"], [0.8888888888888888, \"#fdca26\"], [1.0, \"#f0f921\"]], \"type\": \"heatmap\"}], \"heatmapgl\": [{\"colorbar\": {\"outlinewidth\": 0, \"ticks\": \"\"}, \"colorscale\": [[0.0, \"#0d0887\"], [0.1111111111111111, \"#46039f\"], [0.2222222222222222, \"#7201a8\"], [0.3333333333333333, \"#9c179e\"], [0.4444444444444444, \"#bd3786\"], [0.5555555555555556, \"#d8576b\"], [0.6666666666666666, \"#ed7953\"], [0.7777777777777778, \"#fb9f3a\"], [0.8888888888888888, \"#fdca26\"], [1.0, \"#f0f921\"]], \"type\": \"heatmapgl\"}], \"histogram\": [{\"marker\": {\"colorbar\": {\"outlinewidth\": 0, \"ticks\": \"\"}}, \"type\": \"histogram\"}], \"histogram2d\": [{\"colorbar\": {\"outlinewidth\": 0, \"ticks\": \"\"}, \"colorscale\": [[0.0, \"#0d0887\"], [0.1111111111111111, \"#46039f\"], [0.2222222222222222, \"#7201a8\"], [0.3333333333333333, \"#9c179e\"], [0.4444444444444444, \"#bd3786\"], [0.5555555555555556, \"#d8576b\"], [0.6666666666666666, \"#ed7953\"], [0.7777777777777778, \"#fb9f3a\"], [0.8888888888888888, \"#fdca26\"], [1.0, \"#f0f921\"]], \"type\": \"histogram2d\"}], \"histogram2dcontour\": [{\"colorbar\": {\"outlinewidth\": 0, \"ticks\": \"\"}, \"colorscale\": [[0.0, \"#0d0887\"], [0.1111111111111111, \"#46039f\"], [0.2222222222222222, \"#7201a8\"], [0.3333333333333333, \"#9c179e\"], [0.4444444444444444, \"#bd3786\"], [0.5555555555555556, \"#d8576b\"], [0.6666666666666666, \"#ed7953\"], [0.7777777777777778, \"#fb9f3a\"], [0.8888888888888888, \"#fdca26\"], [1.0, \"#f0f921\"]], \"type\": \"histogram2dcontour\"}], \"mesh3d\": [{\"colorbar\": {\"outlinewidth\": 0, \"ticks\": \"\"}, \"type\": \"mesh3d\"}], \"parcoords\": [{\"line\": {\"colorbar\": {\"outlinewidth\": 0, \"ticks\": \"\"}}, \"type\": \"parcoords\"}], \"pie\": [{\"automargin\": true, \"type\": \"pie\"}], \"scatter\": [{\"marker\": {\"colorbar\": {\"outlinewidth\": 0, \"ticks\": \"\"}}, \"type\": \"scatter\"}], \"scatter3d\": [{\"line\": {\"colorbar\": {\"outlinewidth\": 0, \"ticks\": \"\"}}, \"marker\": {\"colorbar\": {\"outlinewidth\": 0, \"ticks\": \"\"}}, \"type\": \"scatter3d\"}], \"scattercarpet\": [{\"marker\": {\"colorbar\": {\"outlinewidth\": 0, \"ticks\": \"\"}}, \"type\": \"scattercarpet\"}], \"scattergeo\": [{\"marker\": {\"colorbar\": {\"outlinewidth\": 0, \"ticks\": \"\"}}, \"type\": \"scattergeo\"}], \"scattergl\": [{\"marker\": {\"colorbar\": {\"outlinewidth\": 0, \"ticks\": \"\"}}, \"type\": \"scattergl\"}], \"scattermapbox\": [{\"marker\": {\"colorbar\": {\"outlinewidth\": 0, \"ticks\": \"\"}}, \"type\": \"scattermapbox\"}], \"scatterpolar\": [{\"marker\": {\"colorbar\": {\"outlinewidth\": 0, \"ticks\": \"\"}}, \"type\": \"scatterpolar\"}], \"scatterpolargl\": [{\"marker\": {\"colorbar\": {\"outlinewidth\": 0, \"ticks\": \"\"}}, \"type\": \"scatterpolargl\"}], \"scatterternary\": [{\"marker\": {\"colorbar\": {\"outlinewidth\": 0, \"ticks\": \"\"}}, \"type\": \"scatterternary\"}], \"surface\": [{\"colorbar\": {\"outlinewidth\": 0, \"ticks\": \"\"}, \"colorscale\": [[0.0, \"#0d0887\"], [0.1111111111111111, \"#46039f\"], [0.2222222222222222, \"#7201a8\"], [0.3333333333333333, \"#9c179e\"], [0.4444444444444444, \"#bd3786\"], [0.5555555555555556, \"#d8576b\"], [0.6666666666666666, \"#ed7953\"], [0.7777777777777778, \"#fb9f3a\"], [0.8888888888888888, \"#fdca26\"], [1.0, \"#f0f921\"]], \"type\": \"surface\"}], \"table\": [{\"cells\": {\"fill\": {\"color\": \"#EBF0F8\"}, \"line\": {\"color\": \"white\"}}, \"header\": {\"fill\": {\"color\": \"#C8D4E3\"}, \"line\": {\"color\": \"white\"}}, \"type\": \"table\"}]}, \"layout\": {\"annotationdefaults\": {\"arrowcolor\": \"#2a3f5f\", \"arrowhead\": 0, \"arrowwidth\": 1}, \"autotypenumbers\": \"strict\", \"coloraxis\": {\"colorbar\": {\"outlinewidth\": 0, \"ticks\": \"\"}}, \"colorscale\": {\"diverging\": [[0, \"#8e0152\"], [0.1, \"#c51b7d\"], [0.2, \"#de77ae\"], [0.3, \"#f1b6da\"], [0.4, \"#fde0ef\"], [0.5, \"#f7f7f7\"], [0.6, \"#e6f5d0\"], [0.7, \"#b8e186\"], [0.8, \"#7fbc41\"], [0.9, \"#4d9221\"], [1, \"#276419\"]], \"sequential\": [[0.0, \"#0d0887\"], [0.1111111111111111, \"#46039f\"], [0.2222222222222222, \"#7201a8\"], [0.3333333333333333, \"#9c179e\"], [0.4444444444444444, \"#bd3786\"], [0.5555555555555556, \"#d8576b\"], [0.6666666666666666, \"#ed7953\"], [0.7777777777777778, \"#fb9f3a\"], [0.8888888888888888, \"#fdca26\"], [1.0, \"#f0f921\"]], \"sequentialminus\": [[0.0, \"#0d0887\"], [0.1111111111111111, \"#46039f\"], [0.2222222222222222, \"#7201a8\"], [0.3333333333333333, \"#9c179e\"], [0.4444444444444444, \"#bd3786\"], [0.5555555555555556, \"#d8576b\"], [0.6666666666666666, \"#ed7953\"], [0.7777777777777778, \"#fb9f3a\"], [0.8888888888888888, \"#fdca26\"], [1.0, \"#f0f921\"]]}, \"colorway\": [\"#636efa\", \"#EF553B\", \"#00cc96\", \"#ab63fa\", \"#FFA15A\", \"#19d3f3\", \"#FF6692\", \"#B6E880\", \"#FF97FF\", \"#FECB52\"], \"font\": {\"color\": \"#2a3f5f\"}, \"geo\": {\"bgcolor\": \"white\", \"lakecolor\": \"white\", \"landcolor\": \"#E5ECF6\", \"showlakes\": true, \"showland\": true, \"subunitcolor\": \"white\"}, \"hoverlabel\": {\"align\": \"left\"}, \"hovermode\": \"closest\", \"mapbox\": {\"style\": \"light\"}, \"paper_bgcolor\": \"white\", \"plot_bgcolor\": \"#E5ECF6\", \"polar\": {\"angularaxis\": {\"gridcolor\": \"white\", \"linecolor\": \"white\", \"ticks\": \"\"}, \"bgcolor\": \"#E5ECF6\", \"radialaxis\": {\"gridcolor\": \"white\", \"linecolor\": \"white\", \"ticks\": \"\"}}, \"scene\": {\"xaxis\": {\"backgroundcolor\": \"#E5ECF6\", \"gridcolor\": \"white\", \"gridwidth\": 2, \"linecolor\": \"white\", \"showbackground\": true, \"ticks\": \"\", \"zerolinecolor\": \"white\"}, \"yaxis\": {\"backgroundcolor\": \"#E5ECF6\", \"gridcolor\": \"white\", \"gridwidth\": 2, \"linecolor\": \"white\", \"showbackground\": true, \"ticks\": \"\", \"zerolinecolor\": \"white\"}, \"zaxis\": {\"backgroundcolor\": \"#E5ECF6\", \"gridcolor\": \"white\", \"gridwidth\": 2, \"linecolor\": \"white\", \"showbackground\": true, \"ticks\": \"\", \"zerolinecolor\": \"white\"}}, \"shapedefaults\": {\"line\": {\"color\": \"#2a3f5f\"}}, \"ternary\": {\"aaxis\": {\"gridcolor\": \"white\", \"linecolor\": \"white\", \"ticks\": \"\"}, \"baxis\": {\"gridcolor\": \"white\", \"linecolor\": \"white\", \"ticks\": \"\"}, \"bgcolor\": \"#E5ECF6\", \"caxis\": {\"gridcolor\": \"white\", \"linecolor\": \"white\", \"ticks\": \"\"}}, \"title\": {\"x\": 0.05}, \"xaxis\": {\"automargin\": true, \"gridcolor\": \"white\", \"linecolor\": \"white\", \"ticks\": \"\", \"title\": {\"standoff\": 15}, \"zerolinecolor\": \"white\", \"zerolinewidth\": 2}, \"yaxis\": {\"automargin\": true, \"gridcolor\": \"white\", \"linecolor\": \"white\", \"ticks\": \"\", \"title\": {\"standoff\": 15}, \"zerolinecolor\": \"white\", \"zerolinewidth\": 2}}}, \"title\": {\"text\": \"Weibull probability plot\"}, \"xaxis\": {\"anchor\": \"y\", \"domain\": [0.0, 1.0], \"title\": {\"text\": \"Burst size (n)\"}}, \"yaxis\": {\"anchor\": \"x\", \"domain\": [0.0, 1.0], \"title\": {\"text\": \"Probability of burst>n\"}}},                        {\"responsive\": true}                    ).then(function(){\n",
       "                            \n",
       "var gd = document.getElementById('dd86bb63-daba-4fe2-a956-93a2f506524e');\n",
       "var x = new MutationObserver(function (mutations, observer) {{\n",
       "        var display = window.getComputedStyle(gd).display;\n",
       "        if (!display || display === 'none') {{\n",
       "            console.log([gd, 'removed!']);\n",
       "            Plotly.purge(gd);\n",
       "            observer.disconnect();\n",
       "        }}\n",
       "}});\n",
       "\n",
       "// Listen for the removal of the full notebook cells\n",
       "var notebookContainer = gd.closest('#notebook-container');\n",
       "if (notebookContainer) {{\n",
       "    x.observe(notebookContainer, {childList: true});\n",
       "}}\n",
       "\n",
       "// Listen for the clearing of the current output cell\n",
       "var outputEl = gd.closest('.output');\n",
       "if (outputEl) {{\n",
       "    x.observe(outputEl, {childList: true});\n",
       "}}\n",
       "\n",
       "                        })                };                });            </script>        </div>"
      ]
     },
     "metadata": {},
     "output_type": "display_data"
    }
   ],
   "source": [
    "x=lickdata['burstprob'][0]\n",
    "y=lickdata['burstprob'][1]\n",
    "alpha=lickdata['weib_alpha']\n",
    "beta=lickdata['weib_beta']\n",
    "rsq=lickdata['weib_rsq']\n",
    "\n",
    "fig = px.scatter(x=x,y=y)\n",
    "\n",
    "fig.update_traces(mode='markers', marker_line_width=2, marker_size=10)\n",
    "\n",
    "fig.update_layout(\n",
    "    title=\"Weibull probability plot\",\n",
    "    xaxis_title=\"Burst size (n)\",\n",
    "    yaxis_title=\"Probability of burst>n\",\n",
    "    showlegend=False)\n",
    "\n",
    "figlabel = 'Fitted values:\\nalpha={:.2f}\\nbeta={:.2f}\\nrsq={:.2f}'.format(\n",
    "        alpha, beta, rsq)\n",
    "fig.add_annotation(text=figlabel,\n",
    "                   xref=\"paper\", yref=\"paper\",\n",
    "                  x=0.9, y=0.9, \n",
    "                  showarrow=False)\n",
    "\n",
    "fig.show()"
   ]
  },
  {
   "cell_type": "code",
   "execution_count": null,
   "id": "db7e8303",
   "metadata": {},
   "outputs": [],
   "source": []
  }
 ],
 "metadata": {
  "kernelspec": {
   "display_name": "Python 3",
   "language": "python",
   "name": "python3"
  },
  "language_info": {
   "codemirror_mode": {
    "name": "ipython",
    "version": 3
   },
   "file_extension": ".py",
   "mimetype": "text/x-python",
   "name": "python",
   "nbconvert_exporter": "python",
   "pygments_lexer": "ipython3",
   "version": "3.9.1"
  }
 },
 "nbformat": 4,
 "nbformat_minor": 5
}
